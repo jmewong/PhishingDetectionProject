{
 "cells": [
  {
   "cell_type": "code",
   "execution_count": 1,
   "metadata": {},
   "outputs": [
    {
     "name": "stderr",
     "output_type": "stream",
     "text": [
      "WARNING: Method definition (::Type{ArrayViews.UnsafeContiguousView{T, N} where N where T})(Ptr{T}, Int64, Tuple{Vararg{Int64, N}}) in module ArrayViews at /Users/Joshua/.julia/v0.6/ArrayViews/src/arrviews.jl:18 overwritten at /Users/Joshua/.julia/v0.6/ArrayViews/src/arrviews.jl:26.\n",
      "WARNING: Method definition isnan(DataArrays.NAtype) in module DataArrays at /Users/Joshua/.julia/v0.6/DataArrays/src/natype.jl:66 overwritten in module LowRankModels at /Users/Joshua/.julia/v0.6/LowRankModels/src/fit_dataframe.jl:249.\n"
     ]
    },
    {
     "data": {
      "text/plain": [
       "proxgrad_const (generic function with 1 method)"
      ]
     },
     "execution_count": 1,
     "metadata": {},
     "output_type": "execute_result"
    }
   ],
   "source": [
    "include(\"./proxgrad.jl\")"
   ]
  },
  {
   "cell_type": "code",
   "execution_count": 103,
   "metadata": {},
   "outputs": [
    {
     "data": {
      "text/plain": [
       "readArff (generic function with 2 methods)"
      ]
     },
     "execution_count": 103,
     "metadata": {},
     "output_type": "execute_result"
    }
   ],
   "source": [
    "using DataFrames\n",
    "using GZip\n",
    "\n",
    "##possible types in arff files are:\n",
    "#real, numeric,\n",
    "#date\n",
    "#string\n",
    "#nominal specifications, starting with {\n",
    "\n",
    "function convertType(attrType)\n",
    "  x = lowercase(attrType)\n",
    "  res = nothing\n",
    "    \n",
    "  if in(x, [\"real\" \"numeric\"])\n",
    "    res = \"numeric\"\n",
    "  elseif startswith(x, \"{\")\n",
    "    res = \"nominal\"\n",
    "  else #date and string\n",
    "    res = x\n",
    "  end\n",
    "  return(res)\n",
    "end\n",
    "\n",
    "function readArff(filename, gzip=false)\n",
    "  f = nothing\n",
    "  if gzip\n",
    "    f = GZip.gzopen(filename)\n",
    "  else\n",
    "    f = open(filename)\n",
    "  end\n",
    "  lines = eachline(f)\n",
    "    \n",
    "  header = true\n",
    "  colNames = nothing\n",
    "  attrTypes = nothing\n",
    "  myData = DataFrame()\n",
    "  attributes = DataFrame()\n",
    "  nAttr = 0\n",
    "  nData = 0\n",
    "\n",
    "  for l in lines\n",
    "    if header\n",
    "      mAttr = match(r\"^[[:space:]]*@(?i)attribute\", l)\n",
    "      if mAttr == nothing\n",
    "        mData = ismatch(r\"^[[:space:]]*@(?i)data\", l)\n",
    "        if mData\n",
    "          colNames = convert(Array, attributes[2,:])\n",
    "          attrTypes = map(convertType, convert(Array, attributes[3,:]))\n",
    "          header=false\n",
    "          break\n",
    "        end\n",
    "      else\n",
    "        nAttr += 1\n",
    "        attributes[:, nAttr] = split(l)[1:3]\n",
    "      end\n",
    "    end\n",
    "  end\n",
    "  myData = readtable(f, names = vec(map(Symbol, colNames)))\n",
    "  close(f)\n",
    "  return(myData, attrTypes)\n",
    "end"
   ]
  },
  {
   "cell_type": "code",
   "execution_count": 104,
   "metadata": {},
   "outputs": [
    {
     "data": {
      "text/html": [
       "<table class=\"data-frame\"><thead><tr><th></th><th>having_IP_Address</th><th>URL_Length</th><th>Shortining_Service</th><th>having_At_Symbol</th><th>double_slash_redirecting</th><th>Prefix_Suffix</th><th>having_Sub_Domain</th><th>SSLfinal_State</th><th>Domain_registeration_length</th><th>Favicon</th><th>port</th><th>HTTPS_token</th><th>Request_URL</th><th>URL_of_Anchor</th><th>Links_in_tags</th><th>SFH</th><th>Submitting_to_email</th><th>Abnormal_URL</th><th>Redirect</th><th>on_mouseover</th><th>RightClick</th><th>popUpWidnow</th><th>Iframe</th><th>age_of_domain</th><th>DNSRecord</th><th>web_traffic</th><th>Page_Rank</th><th>Google_Index</th><th>Links_pointing_to_page</th><th>Statistical_report</th><th>Result</th></tr></thead><tbody><tr><th>1</th><td>1</td><td>1</td><td>1</td><td>1</td><td>1</td><td>1</td><td>0</td><td>-1</td><td>1</td><td>1</td><td>1</td><td>1</td><td>1</td><td>1</td><td>0</td><td>-1</td><td>1</td><td>1</td><td>0</td><td>1</td><td>1</td><td>1</td><td>1</td><td>1</td><td>1</td><td>1</td><td>-1</td><td>-1</td><td>1</td><td>1</td><td>1</td></tr><tr><th>2</th><td>1</td><td>0</td><td>1</td><td>1</td><td>1</td><td>1</td><td>1</td><td>-1</td><td>1</td><td>1</td><td>1</td><td>1</td><td>1</td><td>1</td><td>0</td><td>-1</td><td>-1</td><td>-1</td><td>0</td><td>1</td><td>1</td><td>1</td><td>1</td><td>1</td><td>1</td><td>1</td><td>-1</td><td>1</td><td>0</td><td>-1</td><td>1</td></tr><tr><th>3</th><td>1</td><td>0</td><td>1</td><td>1</td><td>1</td><td>1</td><td>1</td><td>0</td><td>1</td><td>1</td><td>1</td><td>1</td><td>1</td><td>-1</td><td>1</td><td>-1</td><td>1</td><td>1</td><td>0</td><td>1</td><td>1</td><td>1</td><td>1</td><td>1</td><td>1</td><td>1</td><td>-1</td><td>1</td><td>-1</td><td>1</td><td>1</td></tr><tr><th>4</th><td>1</td><td>0</td><td>-1</td><td>1</td><td>1</td><td>-1</td><td>-1</td><td>-1</td><td>1</td><td>1</td><td>1</td><td>1</td><td>1</td><td>1</td><td>0</td><td>-1</td><td>1</td><td>1</td><td>0</td><td>-1</td><td>1</td><td>-1</td><td>1</td><td>-1</td><td>-1</td><td>-1</td><td>1</td><td>1</td><td>1</td><td>1</td><td>-1</td></tr><tr><th>5</th><td>-1</td><td>0</td><td>-1</td><td>1</td><td>-1</td><td>-1</td><td>-1</td><td>1</td><td>1</td><td>1</td><td>1</td><td>-1</td><td>-1</td><td>1</td><td>0</td><td>-1</td><td>-1</td><td>-1</td><td>0</td><td>1</td><td>1</td><td>1</td><td>1</td><td>1</td><td>-1</td><td>-1</td><td>1</td><td>1</td><td>-1</td><td>-1</td><td>-1</td></tr><tr><th>6</th><td>1</td><td>0</td><td>-1</td><td>1</td><td>1</td><td>1</td><td>1</td><td>-1</td><td>1</td><td>1</td><td>1</td><td>1</td><td>1</td><td>-1</td><td>1</td><td>-1</td><td>-1</td><td>-1</td><td>0</td><td>1</td><td>1</td><td>1</td><td>1</td><td>1</td><td>1</td><td>-1</td><td>-1</td><td>1</td><td>0</td><td>-1</td><td>1</td></tr><tr><th>7</th><td>1</td><td>0</td><td>1</td><td>1</td><td>1</td><td>1</td><td>1</td><td>-1</td><td>1</td><td>1</td><td>1</td><td>-1</td><td>1</td><td>-1</td><td>1</td><td>-1</td><td>1</td><td>1</td><td>0</td><td>1</td><td>1</td><td>1</td><td>1</td><td>1</td><td>1</td><td>-1</td><td>-1</td><td>1</td><td>0</td><td>1</td><td>1</td></tr><tr><th>8</th><td>1</td><td>0</td><td>-1</td><td>1</td><td>1</td><td>-1</td><td>-1</td><td>1</td><td>1</td><td>1</td><td>1</td><td>-1</td><td>-1</td><td>1</td><td>1</td><td>-1</td><td>1</td><td>1</td><td>0</td><td>1</td><td>1</td><td>1</td><td>1</td><td>1</td><td>-1</td><td>-1</td><td>1</td><td>1</td><td>0</td><td>1</td><td>-1</td></tr><tr><th>9</th><td>1</td><td>1</td><td>-1</td><td>1</td><td>1</td><td>1</td><td>0</td><td>-1</td><td>1</td><td>1</td><td>1</td><td>1</td><td>1</td><td>1</td><td>1</td><td>-1</td><td>1</td><td>1</td><td>0</td><td>1</td><td>1</td><td>1</td><td>1</td><td>1</td><td>1</td><td>-1</td><td>-1</td><td>1</td><td>0</td><td>1</td><td>1</td></tr><tr><th>10</th><td>1</td><td>1</td><td>1</td><td>1</td><td>1</td><td>-1</td><td>-1</td><td>-1</td><td>1</td><td>1</td><td>1</td><td>1</td><td>1</td><td>1</td><td>1</td><td>-1</td><td>-1</td><td>-1</td><td>0</td><td>1</td><td>1</td><td>1</td><td>1</td><td>-1</td><td>-1</td><td>-1</td><td>1</td><td>1</td><td>-1</td><td>-1</td><td>-1</td></tr><tr><th>11</th><td>1</td><td>1</td><td>-1</td><td>1</td><td>1</td><td>1</td><td>1</td><td>1</td><td>1</td><td>1</td><td>1</td><td>1</td><td>1</td><td>1</td><td>0</td><td>-1</td><td>-1</td><td>-1</td><td>0</td><td>1</td><td>1</td><td>1</td><td>1</td><td>1</td><td>1</td><td>1</td><td>-1</td><td>1</td><td>0</td><td>-1</td><td>1</td></tr><tr><th>12</th><td>-1</td><td>1</td><td>-1</td><td>1</td><td>-1</td><td>1</td><td>1</td><td>1</td><td>1</td><td>1</td><td>1</td><td>-1</td><td>1</td><td>1</td><td>1</td><td>-1</td><td>1</td><td>1</td><td>0</td><td>-1</td><td>1</td><td>-1</td><td>1</td><td>1</td><td>1</td><td>1</td><td>-1</td><td>1</td><td>0</td><td>1</td><td>1</td></tr><tr><th>13</th><td>1</td><td>1</td><td>-1</td><td>1</td><td>1</td><td>1</td><td>1</td><td>1</td><td>1</td><td>1</td><td>1</td><td>1</td><td>1</td><td>-1</td><td>1</td><td>-1</td><td>1</td><td>1</td><td>0</td><td>1</td><td>1</td><td>1</td><td>1</td><td>1</td><td>-1</td><td>1</td><td>1</td><td>1</td><td>1</td><td>1</td><td>1</td></tr><tr><th>14</th><td>1</td><td>1</td><td>-1</td><td>1</td><td>1</td><td>-1</td><td>0</td><td>-1</td><td>1</td><td>1</td><td>1</td><td>-1</td><td>1</td><td>1</td><td>0</td><td>1</td><td>1</td><td>1</td><td>0</td><td>1</td><td>1</td><td>1</td><td>1</td><td>-1</td><td>-1</td><td>1</td><td>1</td><td>1</td><td>-1</td><td>1</td><td>-1</td></tr><tr><th>15</th><td>1</td><td>-1</td><td>-1</td><td>-1</td><td>1</td><td>1</td><td>1</td><td>-1</td><td>1</td><td>1</td><td>1</td><td>1</td><td>1</td><td>-1</td><td>1</td><td>-1</td><td>1</td><td>1</td><td>0</td><td>1</td><td>1</td><td>1</td><td>1</td><td>1</td><td>1</td><td>1</td><td>1</td><td>1</td><td>0</td><td>1</td><td>1</td></tr><tr><th>16</th><td>1</td><td>-1</td><td>-1</td><td>1</td><td>1</td><td>1</td><td>1</td><td>-1</td><td>1</td><td>1</td><td>1</td><td>-1</td><td>1</td><td>-1</td><td>0</td><td>-1</td><td>-1</td><td>-1</td><td>0</td><td>1</td><td>1</td><td>1</td><td>1</td><td>1</td><td>-1</td><td>-1</td><td>1</td><td>-1</td><td>1</td><td>-1</td><td>1</td></tr><tr><th>17</th><td>1</td><td>-1</td><td>1</td><td>1</td><td>1</td><td>1</td><td>1</td><td>-1</td><td>1</td><td>1</td><td>-1</td><td>1</td><td>1</td><td>-1</td><td>1</td><td>-1</td><td>-1</td><td>-1</td><td>0</td><td>1</td><td>1</td><td>1</td><td>1</td><td>1</td><td>1</td><td>-1</td><td>1</td><td>-1</td><td>1</td><td>-1</td><td>1</td></tr><tr><th>18</th><td>1</td><td>1</td><td>1</td><td>1</td><td>1</td><td>-1</td><td>0</td><td>-1</td><td>1</td><td>1</td><td>1</td><td>-1</td><td>1</td><td>1</td><td>1</td><td>-1</td><td>-1</td><td>-1</td><td>0</td><td>1</td><td>1</td><td>1</td><td>1</td><td>1</td><td>-1</td><td>-1</td><td>-1</td><td>1</td><td>-1</td><td>-1</td><td>-1</td></tr><tr><th>19</th><td>1</td><td>1</td><td>1</td><td>1</td><td>1</td><td>-1</td><td>0</td><td>-1</td><td>1</td><td>1</td><td>1</td><td>1</td><td>-1</td><td>1</td><td>0</td><td>-1</td><td>-1</td><td>-1</td><td>0</td><td>-1</td><td>-1</td><td>-1</td><td>-1</td><td>-1</td><td>-1</td><td>-1</td><td>-1</td><td>1</td><td>0</td><td>-1</td><td>-1</td></tr><tr><th>20</th><td>1</td><td>0</td><td>-1</td><td>1</td><td>1</td><td>-1</td><td>0</td><td>1</td><td>1</td><td>1</td><td>1</td><td>1</td><td>-1</td><td>1</td><td>1</td><td>-1</td><td>-1</td><td>-1</td><td>0</td><td>-1</td><td>1</td><td>-1</td><td>1</td><td>-1</td><td>-1</td><td>1</td><td>-1</td><td>-1</td><td>-1</td><td>-1</td><td>-1</td></tr><tr><th>21</th><td>1</td><td>0</td><td>1</td><td>1</td><td>1</td><td>-1</td><td>-1</td><td>1</td><td>1</td><td>1</td><td>1</td><td>-1</td><td>-1</td><td>1</td><td>1</td><td>-1</td><td>-1</td><td>-1</td><td>0</td><td>1</td><td>1</td><td>1</td><td>1</td><td>1</td><td>-1</td><td>-1</td><td>-1</td><td>1</td><td>0</td><td>-1</td><td>-1</td></tr><tr><th>22</th><td>1</td><td>1</td><td>1</td><td>1</td><td>1</td><td>-1</td><td>-1</td><td>-1</td><td>1</td><td>1</td><td>1</td><td>-1</td><td>1</td><td>1</td><td>0</td><td>-1</td><td>1</td><td>1</td><td>0</td><td>1</td><td>1</td><td>1</td><td>1</td><td>-1</td><td>-1</td><td>1</td><td>1</td><td>-1</td><td>-1</td><td>1</td><td>-1</td></tr><tr><th>23</th><td>1</td><td>1</td><td>1</td><td>1</td><td>1</td><td>-1</td><td>-1</td><td>1</td><td>1</td><td>1</td><td>1</td><td>1</td><td>1</td><td>1</td><td>0</td><td>-1</td><td>1</td><td>1</td><td>0</td><td>1</td><td>1</td><td>1</td><td>1</td><td>-1</td><td>-1</td><td>-1</td><td>1</td><td>-1</td><td>-1</td><td>1</td><td>-1</td></tr><tr><th>24</th><td>1</td><td>-1</td><td>-1</td><td>-1</td><td>1</td><td>-1</td><td>-1</td><td>1</td><td>1</td><td>1</td><td>1</td><td>-1</td><td>-1</td><td>1</td><td>1</td><td>-1</td><td>1</td><td>1</td><td>0</td><td>1</td><td>1</td><td>1</td><td>1</td><td>1</td><td>-1</td><td>1</td><td>1</td><td>1</td><td>0</td><td>1</td><td>-1</td></tr><tr><th>25</th><td>1</td><td>-1</td><td>1</td><td>1</td><td>1</td><td>-1</td><td>-1</td><td>1</td><td>1</td><td>1</td><td>1</td><td>1</td><td>-1</td><td>1</td><td>0</td><td>-1</td><td>1</td><td>1</td><td>0</td><td>1</td><td>1</td><td>1</td><td>1</td><td>1</td><td>-1</td><td>1</td><td>1</td><td>-1</td><td>0</td><td>1</td><td>-1</td></tr><tr><th>26</th><td>1</td><td>-1</td><td>1</td><td>1</td><td>1</td><td>1</td><td>1</td><td>-1</td><td>1</td><td>1</td><td>1</td><td>-1</td><td>1</td><td>-1</td><td>0</td><td>-1</td><td>-1</td><td>-1</td><td>0</td><td>1</td><td>1</td><td>1</td><td>1</td><td>1</td><td>-1</td><td>-1</td><td>-1</td><td>1</td><td>-1</td><td>-1</td><td>1</td></tr><tr><th>27</th><td>1</td><td>-1</td><td>-1</td><td>1</td><td>1</td><td>-1</td><td>-1</td><td>1</td><td>1</td><td>1</td><td>1</td><td>1</td><td>1</td><td>1</td><td>1</td><td>-1</td><td>-1</td><td>-1</td><td>0</td><td>1</td><td>1</td><td>1</td><td>1</td><td>1</td><td>-1</td><td>1</td><td>1</td><td>1</td><td>0</td><td>-1</td><td>-1</td></tr><tr><th>28</th><td>1</td><td>-1</td><td>-1</td><td>1</td><td>-1</td><td>-1</td><td>-1</td><td>-1</td><td>1</td><td>1</td><td>1</td><td>1</td><td>-1</td><td>1</td><td>1</td><td>-1</td><td>1</td><td>1</td><td>1</td><td>1</td><td>1</td><td>1</td><td>1</td><td>-1</td><td>-1</td><td>1</td><td>1</td><td>1</td><td>-1</td><td>1</td><td>-1</td></tr><tr><th>29</th><td>1</td><td>-1</td><td>1</td><td>1</td><td>1</td><td>-1</td><td>0</td><td>-1</td><td>1</td><td>1</td><td>1</td><td>1</td><td>1</td><td>1</td><td>1</td><td>-1</td><td>1</td><td>1</td><td>0</td><td>1</td><td>1</td><td>1</td><td>1</td><td>-1</td><td>-1</td><td>-1</td><td>1</td><td>1</td><td>0</td><td>1</td><td>-1</td></tr><tr><th>30</th><td>1</td><td>-1</td><td>1</td><td>1</td><td>1</td><td>-1</td><td>0</td><td>-1</td><td>1</td><td>1</td><td>1</td><td>-1</td><td>1</td><td>1</td><td>0</td><td>-1</td><td>1</td><td>1</td><td>0</td><td>1</td><td>1</td><td>1</td><td>1</td><td>1</td><td>-1</td><td>-1</td><td>1</td><td>1</td><td>0</td><td>1</td><td>-1</td></tr><tr><th>&vellip;</th><td>&vellip;</td><td>&vellip;</td><td>&vellip;</td><td>&vellip;</td><td>&vellip;</td><td>&vellip;</td><td>&vellip;</td><td>&vellip;</td><td>&vellip;</td><td>&vellip;</td><td>&vellip;</td><td>&vellip;</td><td>&vellip;</td><td>&vellip;</td><td>&vellip;</td><td>&vellip;</td><td>&vellip;</td><td>&vellip;</td><td>&vellip;</td><td>&vellip;</td><td>&vellip;</td><td>&vellip;</td><td>&vellip;</td><td>&vellip;</td><td>&vellip;</td><td>&vellip;</td><td>&vellip;</td><td>&vellip;</td><td>&vellip;</td><td>&vellip;</td><td>&vellip;</td></tr></tbody></table>"
      ],
      "text/plain": [
       "2455×31 DataFrames.DataFrame\n",
       "│ Row  │ having_IP_Address │ URL_Length │ Shortining_Service │\n",
       "├──────┼───────────────────┼────────────┼────────────────────┤\n",
       "│ 1    │ 1                 │ 1          │ 1                  │\n",
       "│ 2    │ 1                 │ 0          │ 1                  │\n",
       "│ 3    │ 1                 │ 0          │ 1                  │\n",
       "│ 4    │ 1                 │ 0          │ -1                 │\n",
       "│ 5    │ -1                │ 0          │ -1                 │\n",
       "│ 6    │ 1                 │ 0          │ -1                 │\n",
       "│ 7    │ 1                 │ 0          │ 1                  │\n",
       "│ 8    │ 1                 │ 0          │ -1                 │\n",
       "│ 9    │ 1                 │ 1          │ -1                 │\n",
       "│ 10   │ 1                 │ 1          │ 1                  │\n",
       "│ 11   │ 1                 │ 1          │ -1                 │\n",
       "⋮\n",
       "│ 2444 │ 1                 │ -1         │ 1                  │\n",
       "│ 2445 │ 1                 │ -1         │ 1                  │\n",
       "│ 2446 │ 1                 │ -1         │ 1                  │\n",
       "│ 2447 │ 1                 │ -1         │ 1                  │\n",
       "│ 2448 │ 1                 │ -1         │ 1                  │\n",
       "│ 2449 │ 1                 │ 1          │ 1                  │\n",
       "│ 2450 │ 1                 │ -1         │ 1                  │\n",
       "│ 2451 │ 1                 │ -1         │ 1                  │\n",
       "│ 2452 │ 1                 │ -1         │ 1                  │\n",
       "│ 2453 │ 1                 │ -1         │ 1                  │\n",
       "│ 2454 │ 1                 │ -1         │ 1                  │\n",
       "│ 2455 │ 1                 │ -1         │ 1                  │\n",
       "\n",
       "│ Row  │ having_At_Symbol │ double_slash_redirecting │ Prefix_Suffix │\n",
       "├──────┼──────────────────┼──────────────────────────┼───────────────┤\n",
       "│ 1    │ 1                │ 1                        │ 1             │\n",
       "│ 2    │ 1                │ 1                        │ 1             │\n",
       "│ 3    │ 1                │ 1                        │ 1             │\n",
       "│ 4    │ 1                │ 1                        │ -1            │\n",
       "│ 5    │ 1                │ -1                       │ -1            │\n",
       "│ 6    │ 1                │ 1                        │ 1             │\n",
       "│ 7    │ 1                │ 1                        │ 1             │\n",
       "│ 8    │ 1                │ 1                        │ -1            │\n",
       "│ 9    │ 1                │ 1                        │ 1             │\n",
       "│ 10   │ 1                │ 1                        │ -1            │\n",
       "│ 11   │ 1                │ 1                        │ 1             │\n",
       "⋮\n",
       "│ 2444 │ 1                │ 1                        │ 1             │\n",
       "│ 2445 │ 1                │ 1                        │ -1            │\n",
       "│ 2446 │ 1                │ 1                        │ 1             │\n",
       "│ 2447 │ 1                │ 1                        │ 1             │\n",
       "│ 2448 │ 1                │ 1                        │ 1             │\n",
       "│ 2449 │ 1                │ 1                        │ -1            │\n",
       "│ 2450 │ 1                │ 1                        │ -1            │\n",
       "│ 2451 │ 1                │ 1                        │ 1             │\n",
       "│ 2452 │ 1                │ 1                        │ 1             │\n",
       "│ 2453 │ 1                │ 1                        │ 1             │\n",
       "│ 2454 │ 1                │ 1                        │ 1             │\n",
       "│ 2455 │ 1                │ 1                        │ 1             │\n",
       "\n",
       "│ Row  │ having_Sub_Domain │ SSLfinal_State │ Domain_registeration_length │\n",
       "├──────┼───────────────────┼────────────────┼─────────────────────────────┤\n",
       "│ 1    │ 0                 │ -1             │ 1                           │\n",
       "│ 2    │ 1                 │ -1             │ 1                           │\n",
       "│ 3    │ 1                 │ 0              │ 1                           │\n",
       "│ 4    │ -1                │ -1             │ 1                           │\n",
       "│ 5    │ -1                │ 1              │ 1                           │\n",
       "│ 6    │ 1                 │ -1             │ 1                           │\n",
       "│ 7    │ 1                 │ -1             │ 1                           │\n",
       "│ 8    │ -1                │ 1              │ 1                           │\n",
       "│ 9    │ 0                 │ -1             │ 1                           │\n",
       "│ 10   │ -1                │ -1             │ 1                           │\n",
       "│ 11   │ 1                 │ 1              │ 1                           │\n",
       "⋮\n",
       "│ 2444 │ 1                 │ 1              │ -1                          │\n",
       "│ 2445 │ 1                 │ 1              │ 1                           │\n",
       "│ 2446 │ -1                │ 1              │ 1                           │\n",
       "│ 2447 │ 0                 │ 0              │ 1                           │\n",
       "│ 2448 │ 0                 │ 1              │ 1                           │\n",
       "│ 2449 │ 0                 │ 0              │ 1                           │\n",
       "│ 2450 │ -1                │ -1             │ 1                           │\n",
       "│ 2451 │ 0                 │ 1              │ 1                           │\n",
       "│ 2452 │ 0                 │ 0              │ 1                           │\n",
       "│ 2453 │ 0                 │ 1              │ 1                           │\n",
       "│ 2454 │ 1                 │ 1              │ 1                           │\n",
       "│ 2455 │ 0                 │ 1              │ 1                           │\n",
       "\n",
       "│ Row  │ Favicon │ port │ HTTPS_token │ Request_URL │ URL_of_Anchor │\n",
       "├──────┼─────────┼──────┼─────────────┼─────────────┼───────────────┤\n",
       "│ 1    │ 1       │ 1    │ 1           │ 1           │ 1             │\n",
       "│ 2    │ 1       │ 1    │ 1           │ 1           │ 1             │\n",
       "│ 3    │ 1       │ 1    │ 1           │ 1           │ -1            │\n",
       "│ 4    │ 1       │ 1    │ 1           │ 1           │ 1             │\n",
       "│ 5    │ 1       │ 1    │ -1          │ -1          │ 1             │\n",
       "│ 6    │ 1       │ 1    │ 1           │ 1           │ -1            │\n",
       "│ 7    │ 1       │ 1    │ -1          │ 1           │ -1            │\n",
       "│ 8    │ 1       │ 1    │ -1          │ -1          │ 1             │\n",
       "│ 9    │ 1       │ 1    │ 1           │ 1           │ 1             │\n",
       "│ 10   │ 1       │ 1    │ 1           │ 1           │ 1             │\n",
       "│ 11   │ 1       │ 1    │ 1           │ 1           │ 1             │\n",
       "⋮\n",
       "│ 2444 │ 1       │ 1    │ 1           │ 1           │ 0             │\n",
       "│ 2445 │ 1       │ 1    │ 1           │ 1           │ 1             │\n",
       "│ 2446 │ 1       │ 1    │ 1           │ 1           │ 0             │\n",
       "│ 2447 │ 1       │ 1    │ 1           │ 1           │ -1            │\n",
       "│ 2448 │ 1       │ 1    │ 1           │ -1          │ 0             │\n",
       "│ 2449 │ 1       │ 1    │ 1           │ 1           │ -1            │\n",
       "│ 2450 │ 1       │ 1    │ 1           │ 1           │ 0             │\n",
       "│ 2451 │ 1       │ 1    │ 1           │ -1          │ -1            │\n",
       "│ 2452 │ 1       │ 1    │ 1           │ -1          │ -1            │\n",
       "│ 2453 │ 1       │ 1    │ 1           │ 1           │ 0             │\n",
       "│ 2454 │ -1      │ -1   │ 1           │ 1           │ -1            │\n",
       "│ 2455 │ 1       │ 1    │ 1           │ 1           │ 0             │\n",
       "\n",
       "│ Row  │ Links_in_tags │ SFH │ Submitting_to_email │ Abnormal_URL │ Redirect │\n",
       "├──────┼───────────────┼─────┼─────────────────────┼──────────────┼──────────┤\n",
       "│ 1    │ 0             │ -1  │ 1                   │ 1            │ 0        │\n",
       "│ 2    │ 0             │ -1  │ -1                  │ -1           │ 0        │\n",
       "│ 3    │ 1             │ -1  │ 1                   │ 1            │ 0        │\n",
       "│ 4    │ 0             │ -1  │ 1                   │ 1            │ 0        │\n",
       "│ 5    │ 0             │ -1  │ -1                  │ -1           │ 0        │\n",
       "│ 6    │ 1             │ -1  │ -1                  │ -1           │ 0        │\n",
       "│ 7    │ 1             │ -1  │ 1                   │ 1            │ 0        │\n",
       "│ 8    │ 1             │ -1  │ 1                   │ 1            │ 0        │\n",
       "│ 9    │ 1             │ -1  │ 1                   │ 1            │ 0        │\n",
       "│ 10   │ 1             │ -1  │ -1                  │ -1           │ 0        │\n",
       "│ 11   │ 0             │ -1  │ -1                  │ -1           │ 0        │\n",
       "⋮\n",
       "│ 2444 │ 1             │ -1  │ 1                   │ 1            │ 0        │\n",
       "│ 2445 │ 1             │ -1  │ 1                   │ 1            │ 0        │\n",
       "│ 2446 │ 1             │ -1  │ 1                   │ 1            │ 0        │\n",
       "│ 2447 │ 1             │ -1  │ 1                   │ 1            │ 0        │\n",
       "│ 2448 │ 0             │ -1  │ 1                   │ 1            │ 0        │\n",
       "│ 2449 │ -1            │ 1   │ 1                   │ 1            │ 0        │\n",
       "│ 2450 │ 0             │ -1  │ 1                   │ 1            │ 0        │\n",
       "│ 2451 │ -1            │ -1  │ 1                   │ 1            │ 0        │\n",
       "│ 2452 │ 0             │ -1  │ 1                   │ 1            │ 0        │\n",
       "│ 2453 │ 1             │ -1  │ 1                   │ 1            │ 0        │\n",
       "│ 2454 │ -1            │ -1  │ -1                  │ 1            │ 0        │\n",
       "│ 2455 │ 0             │ -1  │ 1                   │ 1            │ 0        │\n",
       "\n",
       "│ Row  │ on_mouseover │ RightClick │ popUpWidnow │ Iframe │ age_of_domain │\n",
       "├──────┼──────────────┼────────────┼─────────────┼────────┼───────────────┤\n",
       "│ 1    │ 1            │ 1          │ 1           │ 1      │ 1             │\n",
       "│ 2    │ 1            │ 1          │ 1           │ 1      │ 1             │\n",
       "│ 3    │ 1            │ 1          │ 1           │ 1      │ 1             │\n",
       "│ 4    │ -1           │ 1          │ -1          │ 1      │ -1            │\n",
       "│ 5    │ 1            │ 1          │ 1           │ 1      │ 1             │\n",
       "│ 6    │ 1            │ 1          │ 1           │ 1      │ 1             │\n",
       "│ 7    │ 1            │ 1          │ 1           │ 1      │ 1             │\n",
       "│ 8    │ 1            │ 1          │ 1           │ 1      │ 1             │\n",
       "│ 9    │ 1            │ 1          │ 1           │ 1      │ 1             │\n",
       "│ 10   │ 1            │ 1          │ 1           │ 1      │ -1            │\n",
       "│ 11   │ 1            │ 1          │ 1           │ 1      │ 1             │\n",
       "⋮\n",
       "│ 2444 │ 1            │ 1          │ 1           │ 1      │ 1             │\n",
       "│ 2445 │ 1            │ 1          │ 1           │ 1      │ 1             │\n",
       "│ 2446 │ 1            │ 1          │ 1           │ 1      │ 1             │\n",
       "│ 2447 │ 1            │ 1          │ 1           │ 1      │ 1             │\n",
       "│ 2448 │ 1            │ 1          │ 1           │ 1      │ -1            │\n",
       "│ 2449 │ 1            │ 1          │ 1           │ 1      │ 1             │\n",
       "│ 2450 │ 1            │ 1          │ 1           │ 1      │ -1            │\n",
       "│ 2451 │ 1            │ 1          │ 1           │ 1      │ -1            │\n",
       "│ 2452 │ 1            │ 1          │ 1           │ 1      │ 1             │\n",
       "│ 2453 │ 1            │ 1          │ 1           │ 1      │ -1            │\n",
       "│ 2454 │ -1           │ -1         │ -1          │ -1     │ 1             │\n",
       "│ 2455 │ 1            │ 1          │ 1           │ 1      │ -1            │\n",
       "\n",
       "│ Row  │ DNSRecord │ web_traffic │ Page_Rank │ Google_Index │\n",
       "├──────┼───────────┼─────────────┼───────────┼──────────────┤\n",
       "│ 1    │ 1         │ 1           │ -1        │ -1           │\n",
       "│ 2    │ 1         │ 1           │ -1        │ 1            │\n",
       "│ 3    │ 1         │ 1           │ -1        │ 1            │\n",
       "│ 4    │ -1        │ -1          │ 1         │ 1            │\n",
       "│ 5    │ -1        │ -1          │ 1         │ 1            │\n",
       "│ 6    │ 1         │ -1          │ -1        │ 1            │\n",
       "│ 7    │ 1         │ -1          │ -1        │ 1            │\n",
       "│ 8    │ -1        │ -1          │ 1         │ 1            │\n",
       "│ 9    │ 1         │ -1          │ -1        │ 1            │\n",
       "│ 10   │ -1        │ -1          │ 1         │ 1            │\n",
       "│ 11   │ 1         │ 1           │ -1        │ 1            │\n",
       "⋮\n",
       "│ 2444 │ -1        │ 0           │ -1        │ 1            │\n",
       "│ 2445 │ 1         │ 1           │ 1         │ 1            │\n",
       "│ 2446 │ -1        │ 0           │ -1        │ 1            │\n",
       "│ 2447 │ -1        │ -1          │ -1        │ 1            │\n",
       "│ 2448 │ 1         │ 0           │ -1        │ 1            │\n",
       "│ 2449 │ -1        │ -1          │ -1        │ 1            │\n",
       "│ 2450 │ 1         │ 0           │ -1        │ 1            │\n",
       "│ 2451 │ 1         │ -1          │ 1         │ 1            │\n",
       "│ 2452 │ -1        │ -1          │ 1         │ 1            │\n",
       "│ 2453 │ 1         │ 1           │ 1         │ 1            │\n",
       "│ 2454 │ 1         │ -1          │ -1        │ 1            │\n",
       "│ 2455 │ 1         │ 1           │ 1         │ 1            │\n",
       "\n",
       "│ Row  │ Links_pointing_to_page │ Statistical_report │ Result │\n",
       "├──────┼────────────────────────┼────────────────────┼────────┤\n",
       "│ 1    │ 1                      │ 1                  │ 1      │\n",
       "│ 2    │ 0                      │ -1                 │ 1      │\n",
       "│ 3    │ -1                     │ 1                  │ 1      │\n",
       "│ 4    │ 1                      │ 1                  │ -1     │\n",
       "│ 5    │ -1                     │ -1                 │ -1     │\n",
       "│ 6    │ 0                      │ -1                 │ 1      │\n",
       "│ 7    │ 0                      │ 1                  │ 1      │\n",
       "│ 8    │ 0                      │ 1                  │ -1     │\n",
       "│ 9    │ 0                      │ 1                  │ 1      │\n",
       "│ 10   │ -1                     │ -1                 │ -1     │\n",
       "│ 11   │ 0                      │ -1                 │ 1      │\n",
       "⋮\n",
       "│ 2444 │ 0                      │ 1                  │ 1      │\n",
       "│ 2445 │ 0                      │ 1                  │ -1     │\n",
       "│ 2446 │ 1                      │ 1                  │ -1     │\n",
       "│ 2447 │ 1                      │ 1                  │ -1     │\n",
       "│ 2448 │ 0                      │ 1                  │ 1      │\n",
       "│ 2449 │ 0                      │ 1                  │ -1     │\n",
       "│ 2450 │ 0                      │ 1                  │ -1     │\n",
       "│ 2451 │ 0                      │ 1                  │ 1      │\n",
       "│ 2452 │ 0                      │ 1                  │ -1     │\n",
       "│ 2453 │ 1                      │ 1                  │ 1      │\n",
       "│ 2454 │ 0                      │ -1                 │ 1      │\n",
       "│ 2455 │ 0                      │ 1                  │ -1     │"
      ]
     },
     "execution_count": 104,
     "metadata": {},
     "output_type": "execute_result"
    }
   ],
   "source": [
    "dataset1, attributeTypes1 = readArff(\"Mohammad14JulyDS_1.arff\")\n",
    "dataset1"
   ]
  },
  {
   "cell_type": "code",
   "execution_count": 149,
   "metadata": {},
   "outputs": [
    {
     "data": {
      "text/html": [
       "<table class=\"data-frame\"><thead><tr><th></th><th>having_IP_Address</th><th>URL_Length</th><th>Shortining_Service</th><th>having_At_Symbol</th><th>double_slash_redirecting</th><th>Prefix_Suffix</th><th>having_Sub_Domain</th><th>URL_of_Anchor</th><th>Domain_registeration_length</th><th>Favicon</th><th>port</th><th>HTTPS_token</th><th>Request_URL</th><th>SSLfinal_State</th><th>Links_in_tags</th><th>SFH</th><th>Submitting_to_email</th><th>Abnormal_URL</th><th>Redirect</th><th>on_mouseover</th><th>RightClick</th><th>popUpWidnow</th><th>Iframe</th><th>age_of_domain</th><th>DNS</th><th>web_traffic</th><th>Page_Rank</th><th>Google_Index</th><th>Links_pointing_to_page</th><th>Statistical_report</th><th>Result</th></tr></thead><tbody><tr><th>1</th><td>-1</td><td>0</td><td>-1</td><td>1</td><td>-1</td><td>-1</td><td>-1</td><td>1</td><td>1</td><td>1</td><td>1</td><td>-1</td><td>-1</td><td>1</td><td>0</td><td>-1</td><td>-1</td><td>-1</td><td>0</td><td>1</td><td>1</td><td>1</td><td>1</td><td>1</td><td>-1</td><td>-1</td><td>1</td><td>1</td><td>-1</td><td>-1</td><td>-1</td></tr><tr><th>2</th><td>1</td><td>0</td><td>-1</td><td>1</td><td>1</td><td>-1</td><td>-1</td><td>1</td><td>1</td><td>1</td><td>1</td><td>-1</td><td>-1</td><td>1</td><td>1</td><td>-1</td><td>1</td><td>1</td><td>0</td><td>1</td><td>1</td><td>1</td><td>1</td><td>1</td><td>-1</td><td>-1</td><td>1</td><td>1</td><td>0</td><td>1</td><td>-1</td></tr><tr><th>3</th><td>1</td><td>1</td><td>1</td><td>1</td><td>1</td><td>-1</td><td>-1</td><td>1</td><td>1</td><td>1</td><td>1</td><td>1</td><td>1</td><td>-1</td><td>1</td><td>-1</td><td>-1</td><td>-1</td><td>0</td><td>1</td><td>1</td><td>1</td><td>1</td><td>-1</td><td>-1</td><td>-1</td><td>1</td><td>1</td><td>-1</td><td>-1</td><td>-1</td></tr><tr><th>4</th><td>1</td><td>1</td><td>-1</td><td>1</td><td>1</td><td>-1</td><td>0</td><td>1</td><td>1</td><td>1</td><td>1</td><td>-1</td><td>1</td><td>-1</td><td>0</td><td>1</td><td>1</td><td>1</td><td>0</td><td>1</td><td>1</td><td>1</td><td>1</td><td>-1</td><td>-1</td><td>1</td><td>1</td><td>1</td><td>-1</td><td>1</td><td>-1</td></tr><tr><th>5</th><td>1</td><td>1</td><td>1</td><td>1</td><td>1</td><td>-1</td><td>0</td><td>1</td><td>1</td><td>1</td><td>1</td><td>-1</td><td>1</td><td>-1</td><td>1</td><td>-1</td><td>-1</td><td>-1</td><td>0</td><td>1</td><td>1</td><td>1</td><td>1</td><td>1</td><td>-1</td><td>-1</td><td>-1</td><td>1</td><td>-1</td><td>-1</td><td>-1</td></tr><tr><th>6</th><td>1</td><td>1</td><td>1</td><td>1</td><td>1</td><td>-1</td><td>0</td><td>1</td><td>1</td><td>1</td><td>1</td><td>1</td><td>-1</td><td>-1</td><td>0</td><td>-1</td><td>-1</td><td>-1</td><td>0</td><td>-1</td><td>-1</td><td>-1</td><td>-1</td><td>-1</td><td>-1</td><td>-1</td><td>-1</td><td>1</td><td>0</td><td>-1</td><td>-1</td></tr><tr><th>7</th><td>1</td><td>0</td><td>-1</td><td>1</td><td>1</td><td>-1</td><td>0</td><td>1</td><td>1</td><td>1</td><td>1</td><td>1</td><td>-1</td><td>1</td><td>1</td><td>-1</td><td>-1</td><td>-1</td><td>0</td><td>-1</td><td>1</td><td>-1</td><td>1</td><td>-1</td><td>-1</td><td>1</td><td>-1</td><td>-1</td><td>-1</td><td>-1</td><td>-1</td></tr><tr><th>8</th><td>1</td><td>0</td><td>1</td><td>1</td><td>1</td><td>-1</td><td>-1</td><td>1</td><td>1</td><td>1</td><td>1</td><td>-1</td><td>-1</td><td>1</td><td>1</td><td>-1</td><td>-1</td><td>-1</td><td>0</td><td>1</td><td>1</td><td>1</td><td>1</td><td>1</td><td>-1</td><td>-1</td><td>-1</td><td>1</td><td>0</td><td>-1</td><td>-1</td></tr><tr><th>9</th><td>1</td><td>1</td><td>1</td><td>1</td><td>1</td><td>-1</td><td>-1</td><td>1</td><td>1</td><td>1</td><td>1</td><td>-1</td><td>1</td><td>-1</td><td>0</td><td>-1</td><td>1</td><td>1</td><td>0</td><td>1</td><td>1</td><td>1</td><td>1</td><td>-1</td><td>-1</td><td>1</td><td>1</td><td>-1</td><td>-1</td><td>1</td><td>-1</td></tr><tr><th>10</th><td>1</td><td>1</td><td>1</td><td>1</td><td>1</td><td>-1</td><td>-1</td><td>1</td><td>1</td><td>1</td><td>1</td><td>1</td><td>1</td><td>1</td><td>0</td><td>-1</td><td>1</td><td>1</td><td>0</td><td>1</td><td>1</td><td>1</td><td>1</td><td>-1</td><td>-1</td><td>-1</td><td>1</td><td>-1</td><td>-1</td><td>1</td><td>-1</td></tr><tr><th>11</th><td>1</td><td>-1</td><td>-1</td><td>-1</td><td>1</td><td>-1</td><td>-1</td><td>1</td><td>1</td><td>1</td><td>1</td><td>-1</td><td>-1</td><td>1</td><td>1</td><td>-1</td><td>1</td><td>1</td><td>0</td><td>1</td><td>1</td><td>1</td><td>1</td><td>1</td><td>-1</td><td>1</td><td>1</td><td>1</td><td>0</td><td>1</td><td>-1</td></tr><tr><th>12</th><td>1</td><td>-1</td><td>1</td><td>1</td><td>1</td><td>-1</td><td>-1</td><td>1</td><td>1</td><td>1</td><td>1</td><td>1</td><td>-1</td><td>1</td><td>0</td><td>-1</td><td>1</td><td>1</td><td>0</td><td>1</td><td>1</td><td>1</td><td>1</td><td>1</td><td>-1</td><td>1</td><td>1</td><td>-1</td><td>0</td><td>1</td><td>-1</td></tr><tr><th>13</th><td>1</td><td>-1</td><td>-1</td><td>1</td><td>1</td><td>-1</td><td>-1</td><td>1</td><td>1</td><td>1</td><td>1</td><td>1</td><td>1</td><td>1</td><td>1</td><td>-1</td><td>-1</td><td>-1</td><td>0</td><td>1</td><td>1</td><td>1</td><td>1</td><td>1</td><td>-1</td><td>1</td><td>1</td><td>1</td><td>0</td><td>-1</td><td>-1</td></tr><tr><th>14</th><td>1</td><td>-1</td><td>-1</td><td>1</td><td>-1</td><td>-1</td><td>-1</td><td>1</td><td>1</td><td>1</td><td>1</td><td>1</td><td>-1</td><td>-1</td><td>1</td><td>-1</td><td>1</td><td>1</td><td>1</td><td>1</td><td>1</td><td>1</td><td>1</td><td>-1</td><td>-1</td><td>1</td><td>1</td><td>1</td><td>-1</td><td>1</td><td>-1</td></tr><tr><th>15</th><td>1</td><td>-1</td><td>1</td><td>1</td><td>1</td><td>-1</td><td>0</td><td>1</td><td>1</td><td>1</td><td>1</td><td>1</td><td>1</td><td>-1</td><td>1</td><td>-1</td><td>1</td><td>1</td><td>0</td><td>1</td><td>1</td><td>1</td><td>1</td><td>-1</td><td>-1</td><td>-1</td><td>1</td><td>1</td><td>0</td><td>1</td><td>-1</td></tr><tr><th>16</th><td>1</td><td>-1</td><td>1</td><td>1</td><td>1</td><td>-1</td><td>0</td><td>1</td><td>1</td><td>1</td><td>1</td><td>-1</td><td>1</td><td>-1</td><td>0</td><td>-1</td><td>1</td><td>1</td><td>0</td><td>1</td><td>1</td><td>1</td><td>1</td><td>1</td><td>-1</td><td>-1</td><td>1</td><td>1</td><td>0</td><td>1</td><td>-1</td></tr><tr><th>17</th><td>1</td><td>-1</td><td>1</td><td>1</td><td>1</td><td>-1</td><td>-1</td><td>-1</td><td>1</td><td>-1</td><td>1</td><td>-1</td><td>-1</td><td>1</td><td>1</td><td>-1</td><td>-1</td><td>-1</td><td>0</td><td>-1</td><td>1</td><td>-1</td><td>-1</td><td>1</td><td>-1</td><td>1</td><td>1</td><td>1</td><td>0</td><td>-1</td><td>-1</td></tr><tr><th>18</th><td>1</td><td>-1</td><td>1</td><td>1</td><td>1</td><td>-1</td><td>1</td><td>-1</td><td>1</td><td>1</td><td>1</td><td>1</td><td>-1</td><td>1</td><td>1</td><td>1</td><td>-1</td><td>-1</td><td>0</td><td>1</td><td>1</td><td>1</td><td>1</td><td>1</td><td>-1</td><td>-1</td><td>1</td><td>1</td><td>-1</td><td>-1</td><td>-1</td></tr><tr><th>19</th><td>1</td><td>0</td><td>1</td><td>1</td><td>1</td><td>-1</td><td>-1</td><td>-1</td><td>1</td><td>1</td><td>1</td><td>1</td><td>1</td><td>-1</td><td>0</td><td>-1</td><td>-1</td><td>-1</td><td>0</td><td>1</td><td>1</td><td>1</td><td>1</td><td>-1</td><td>-1</td><td>1</td><td>1</td><td>1</td><td>0</td><td>-1</td><td>-1</td></tr><tr><th>20</th><td>1</td><td>1</td><td>1</td><td>1</td><td>1</td><td>-1</td><td>-1</td><td>-1</td><td>1</td><td>1</td><td>1</td><td>1</td><td>1</td><td>1</td><td>0</td><td>1</td><td>-1</td><td>-1</td><td>0</td><td>1</td><td>1</td><td>1</td><td>1</td><td>-1</td><td>-1</td><td>1</td><td>1</td><td>-1</td><td>1</td><td>-1</td><td>-1</td></tr><tr><th>21</th><td>1</td><td>-1</td><td>1</td><td>1</td><td>1</td><td>-1</td><td>1</td><td>-1</td><td>1</td><td>1</td><td>1</td><td>-1</td><td>1</td><td>1</td><td>1</td><td>-1</td><td>1</td><td>1</td><td>0</td><td>1</td><td>1</td><td>1</td><td>1</td><td>1</td><td>-1</td><td>1</td><td>1</td><td>1</td><td>0</td><td>1</td><td>-1</td></tr><tr><th>22</th><td>1</td><td>-1</td><td>1</td><td>1</td><td>1</td><td>-1</td><td>0</td><td>-1</td><td>1</td><td>1</td><td>1</td><td>-1</td><td>-1</td><td>-1</td><td>1</td><td>-1</td><td>1</td><td>1</td><td>0</td><td>1</td><td>1</td><td>1</td><td>1</td><td>-1</td><td>-1</td><td>-1</td><td>1</td><td>1</td><td>0</td><td>1</td><td>-1</td></tr><tr><th>23</th><td>-1</td><td>-1</td><td>-1</td><td>1</td><td>-1</td><td>-1</td><td>-1</td><td>-1</td><td>1</td><td>1</td><td>1</td><td>-1</td><td>1</td><td>-1</td><td>1</td><td>-1</td><td>1</td><td>1</td><td>1</td><td>1</td><td>1</td><td>1</td><td>1</td><td>-1</td><td>1</td><td>-1</td><td>-1</td><td>-1</td><td>-1</td><td>1</td><td>-1</td></tr><tr><th>24</th><td>1</td><td>1</td><td>1</td><td>1</td><td>1</td><td>1</td><td>1</td><td>-1</td><td>1</td><td>-1</td><td>1</td><td>1</td><td>0</td><td>-1</td><td>0</td><td>1</td><td>1</td><td>1</td><td>0</td><td>-1</td><td>1</td><td>-1</td><td>1</td><td>1</td><td>1</td><td>1</td><td>1</td><td>1</td><td>0</td><td>1</td><td>-1</td></tr><tr><th>25</th><td>-1</td><td>1</td><td>-1</td><td>1</td><td>-1</td><td>1</td><td>1</td><td>-1</td><td>1</td><td>1</td><td>1</td><td>-1</td><td>0</td><td>-1</td><td>0</td><td>1</td><td>-1</td><td>-1</td><td>0</td><td>1</td><td>1</td><td>1</td><td>1</td><td>-1</td><td>1</td><td>1</td><td>1</td><td>-1</td><td>1</td><td>-1</td><td>-1</td></tr><tr><th>26</th><td>1</td><td>-1</td><td>1</td><td>1</td><td>1</td><td>-1</td><td>0</td><td>-1</td><td>1</td><td>1</td><td>1</td><td>1</td><td>0</td><td>-1</td><td>0</td><td>-1</td><td>-1</td><td>-1</td><td>0</td><td>1</td><td>1</td><td>1</td><td>1</td><td>-1</td><td>1</td><td>-1</td><td>-1</td><td>1</td><td>-1</td><td>-1</td><td>-1</td></tr><tr><th>27</th><td>1</td><td>1</td><td>1</td><td>1</td><td>1</td><td>1</td><td>0</td><td>-1</td><td>1</td><td>-1</td><td>1</td><td>1</td><td>0</td><td>-1</td><td>1</td><td>1</td><td>1</td><td>1</td><td>0</td><td>-1</td><td>1</td><td>-1</td><td>-1</td><td>-1</td><td>1</td><td>-1</td><td>1</td><td>1</td><td>0</td><td>1</td><td>-1</td></tr><tr><th>28</th><td>-1</td><td>-1</td><td>-1</td><td>1</td><td>-1</td><td>1</td><td>1</td><td>-1</td><td>1</td><td>1</td><td>1</td><td>-1</td><td>1</td><td>-1</td><td>0</td><td>-1</td><td>-1</td><td>-1</td><td>0</td><td>1</td><td>1</td><td>1</td><td>1</td><td>-1</td><td>1</td><td>-1</td><td>1</td><td>-1</td><td>0</td><td>-1</td><td>-1</td></tr><tr><th>29</th><td>-1</td><td>-1</td><td>-1</td><td>1</td><td>-1</td><td>1</td><td>0</td><td>-1</td><td>1</td><td>1</td><td>1</td><td>-1</td><td>1</td><td>-1</td><td>1</td><td>-1</td><td>1</td><td>1</td><td>0</td><td>1</td><td>1</td><td>1</td><td>1</td><td>-1</td><td>1</td><td>-1</td><td>1</td><td>1</td><td>1</td><td>1</td><td>-1</td></tr><tr><th>30</th><td>1</td><td>-1</td><td>1</td><td>1</td><td>1</td><td>1</td><td>-1</td><td>-1</td><td>1</td><td>-1</td><td>-1</td><td>1</td><td>1</td><td>-1</td><td>1</td><td>-1</td><td>-1</td><td>-1</td><td>0</td><td>-1</td><td>1</td><td>-1</td><td>1</td><td>-1</td><td>1</td><td>-1</td><td>1</td><td>1</td><td>0</td><td>-1</td><td>-1</td></tr><tr><th>&vellip;</th><td>&vellip;</td><td>&vellip;</td><td>&vellip;</td><td>&vellip;</td><td>&vellip;</td><td>&vellip;</td><td>&vellip;</td><td>&vellip;</td><td>&vellip;</td><td>&vellip;</td><td>&vellip;</td><td>&vellip;</td><td>&vellip;</td><td>&vellip;</td><td>&vellip;</td><td>&vellip;</td><td>&vellip;</td><td>&vellip;</td><td>&vellip;</td><td>&vellip;</td><td>&vellip;</td><td>&vellip;</td><td>&vellip;</td><td>&vellip;</td><td>&vellip;</td><td>&vellip;</td><td>&vellip;</td><td>&vellip;</td><td>&vellip;</td><td>&vellip;</td><td>&vellip;</td></tr></tbody></table>"
      ],
      "text/plain": [
       "2669×31 DataFrames.DataFrame\n",
       "│ Row  │ having_IP_Address │ URL_Length │ Shortining_Service │\n",
       "├──────┼───────────────────┼────────────┼────────────────────┤\n",
       "│ 1    │ -1                │ 0          │ -1                 │\n",
       "│ 2    │ 1                 │ 0          │ -1                 │\n",
       "│ 3    │ 1                 │ 1          │ 1                  │\n",
       "│ 4    │ 1                 │ 1          │ -1                 │\n",
       "│ 5    │ 1                 │ 1          │ 1                  │\n",
       "│ 6    │ 1                 │ 1          │ 1                  │\n",
       "│ 7    │ 1                 │ 0          │ -1                 │\n",
       "│ 8    │ 1                 │ 0          │ 1                  │\n",
       "│ 9    │ 1                 │ 1          │ 1                  │\n",
       "│ 10   │ 1                 │ 1          │ 1                  │\n",
       "│ 11   │ 1                 │ -1         │ -1                 │\n",
       "⋮\n",
       "│ 2658 │ -1                │ 1          │ -1                 │\n",
       "│ 2659 │ 1                 │ -1         │ 1                  │\n",
       "│ 2660 │ 1                 │ -1         │ 1                  │\n",
       "│ 2661 │ 1                 │ -1         │ 1                  │\n",
       "│ 2662 │ 1                 │ -1         │ 1                  │\n",
       "│ 2663 │ 1                 │ 1          │ 1                  │\n",
       "│ 2664 │ 1                 │ -1         │ 1                  │\n",
       "│ 2665 │ 1                 │ -1         │ 1                  │\n",
       "│ 2666 │ 1                 │ -1         │ 1                  │\n",
       "│ 2667 │ 1                 │ -1         │ 1                  │\n",
       "│ 2668 │ 1                 │ -1         │ 1                  │\n",
       "│ 2669 │ 1                 │ -1         │ 1                  │\n",
       "\n",
       "│ Row  │ having_At_Symbol │ double_slash_redirecting │ Prefix_Suffix │\n",
       "├──────┼──────────────────┼──────────────────────────┼───────────────┤\n",
       "│ 1    │ 1                │ -1                       │ -1            │\n",
       "│ 2    │ 1                │ 1                        │ -1            │\n",
       "│ 3    │ 1                │ 1                        │ -1            │\n",
       "│ 4    │ 1                │ 1                        │ -1            │\n",
       "│ 5    │ 1                │ 1                        │ -1            │\n",
       "│ 6    │ 1                │ 1                        │ -1            │\n",
       "│ 7    │ 1                │ 1                        │ -1            │\n",
       "│ 8    │ 1                │ 1                        │ -1            │\n",
       "│ 9    │ 1                │ 1                        │ -1            │\n",
       "│ 10   │ 1                │ 1                        │ -1            │\n",
       "│ 11   │ -1               │ 1                        │ -1            │\n",
       "⋮\n",
       "│ 2658 │ 1                │ -1                       │ 1             │\n",
       "│ 2659 │ 1                │ 1                        │ 1             │\n",
       "│ 2660 │ -1               │ 1                        │ 1             │\n",
       "│ 2661 │ 1                │ 1                        │ 1             │\n",
       "│ 2662 │ 1                │ 1                        │ 1             │\n",
       "│ 2663 │ 1                │ 1                        │ 1             │\n",
       "│ 2664 │ 1                │ 1                        │ 1             │\n",
       "│ 2665 │ 1                │ 1                        │ 1             │\n",
       "│ 2666 │ 1                │ 1                        │ 1             │\n",
       "│ 2667 │ 1                │ 1                        │ 1             │\n",
       "│ 2668 │ 1                │ 1                        │ 1             │\n",
       "│ 2669 │ -1               │ 1                        │ 1             │\n",
       "\n",
       "│ Row  │ having_Sub_Domain │ URL_of_Anchor │ Domain_registeration_length │\n",
       "├──────┼───────────────────┼───────────────┼─────────────────────────────┤\n",
       "│ 1    │ -1                │ 1             │ 1                           │\n",
       "│ 2    │ -1                │ 1             │ 1                           │\n",
       "│ 3    │ -1                │ 1             │ 1                           │\n",
       "│ 4    │ 0                 │ 1             │ 1                           │\n",
       "│ 5    │ 0                 │ 1             │ 1                           │\n",
       "│ 6    │ 0                 │ 1             │ 1                           │\n",
       "│ 7    │ 0                 │ 1             │ 1                           │\n",
       "│ 8    │ -1                │ 1             │ 1                           │\n",
       "│ 9    │ -1                │ 1             │ 1                           │\n",
       "│ 10   │ -1                │ 1             │ 1                           │\n",
       "│ 11   │ -1                │ 1             │ 1                           │\n",
       "⋮\n",
       "│ 2658 │ 1                 │ 1             │ 1                           │\n",
       "│ 2659 │ 0                 │ 1             │ 1                           │\n",
       "│ 2660 │ 0                 │ 1             │ 1                           │\n",
       "│ 2661 │ 1                 │ 1             │ 1                           │\n",
       "│ 2662 │ 0                 │ 1             │ 1                           │\n",
       "│ 2663 │ -1                │ 1             │ 1                           │\n",
       "│ 2664 │ 0                 │ 1             │ 1                           │\n",
       "│ 2665 │ 1                 │ 1             │ 1                           │\n",
       "│ 2666 │ 1                 │ 1             │ 1                           │\n",
       "│ 2667 │ 1                 │ 1             │ 1                           │\n",
       "│ 2668 │ 1                 │ 1             │ 1                           │\n",
       "│ 2669 │ 0                 │ 1             │ 1                           │\n",
       "\n",
       "│ Row  │ Favicon │ port │ HTTPS_token │ Request_URL │ SSLfinal_State │\n",
       "├──────┼─────────┼──────┼─────────────┼─────────────┼────────────────┤\n",
       "│ 1    │ 1       │ 1    │ -1          │ -1          │ 1              │\n",
       "│ 2    │ 1       │ 1    │ -1          │ -1          │ 1              │\n",
       "│ 3    │ 1       │ 1    │ 1           │ 1           │ -1             │\n",
       "│ 4    │ 1       │ 1    │ -1          │ 1           │ -1             │\n",
       "│ 5    │ 1       │ 1    │ -1          │ 1           │ -1             │\n",
       "│ 6    │ 1       │ 1    │ 1           │ -1          │ -1             │\n",
       "│ 7    │ 1       │ 1    │ 1           │ -1          │ 1              │\n",
       "│ 8    │ 1       │ 1    │ -1          │ -1          │ 1              │\n",
       "│ 9    │ 1       │ 1    │ -1          │ 1           │ -1             │\n",
       "│ 10   │ 1       │ 1    │ 1           │ 1           │ 1              │\n",
       "│ 11   │ 1       │ 1    │ -1          │ -1          │ 1              │\n",
       "⋮\n",
       "│ 2658 │ -1      │ 1    │ -1          │ -1          │ 1              │\n",
       "│ 2659 │ 1       │ 1    │ -1          │ -1          │ 1              │\n",
       "│ 2660 │ 1       │ 1    │ 1           │ -1          │ 1              │\n",
       "│ 2661 │ 1       │ 1    │ 1           │ 0           │ 1              │\n",
       "│ 2662 │ 1       │ 1    │ 1           │ 0           │ 1              │\n",
       "│ 2663 │ 1       │ 1    │ 1           │ -1          │ 1              │\n",
       "│ 2664 │ 1       │ 1    │ -1          │ -1          │ 1              │\n",
       "│ 2665 │ 1       │ 1    │ 1           │ -1          │ 1              │\n",
       "│ 2666 │ -1      │ 1    │ 1           │ -1          │ 1              │\n",
       "│ 2667 │ 1       │ 1    │ 1           │ -1          │ 1              │\n",
       "│ 2668 │ -1      │ 1    │ 1           │ -1          │ 1              │\n",
       "│ 2669 │ 1       │ 1    │ -1          │ -1          │ 1              │\n",
       "\n",
       "│ Row  │ Links_in_tags │ SFH │ Submitting_to_email │ Abnormal_URL │ Redirect │\n",
       "├──────┼───────────────┼─────┼─────────────────────┼──────────────┼──────────┤\n",
       "│ 1    │ 0             │ -1  │ -1                  │ -1           │ 0        │\n",
       "│ 2    │ 1             │ -1  │ 1                   │ 1            │ 0        │\n",
       "│ 3    │ 1             │ -1  │ -1                  │ -1           │ 0        │\n",
       "│ 4    │ 0             │ 1   │ 1                   │ 1            │ 0        │\n",
       "│ 5    │ 1             │ -1  │ -1                  │ -1           │ 0        │\n",
       "│ 6    │ 0             │ -1  │ -1                  │ -1           │ 0        │\n",
       "│ 7    │ 1             │ -1  │ -1                  │ -1           │ 0        │\n",
       "│ 8    │ 1             │ -1  │ -1                  │ -1           │ 0        │\n",
       "│ 9    │ 0             │ -1  │ 1                   │ 1            │ 0        │\n",
       "│ 10   │ 0             │ -1  │ 1                   │ 1            │ 0        │\n",
       "│ 11   │ 1             │ -1  │ 1                   │ 1            │ 0        │\n",
       "⋮\n",
       "│ 2658 │ 1             │ 1   │ 1                   │ -1           │ 0        │\n",
       "│ 2659 │ 1             │ -1  │ 1                   │ -1           │ 0        │\n",
       "│ 2660 │ 1             │ -1  │ 1                   │ 1            │ 0        │\n",
       "│ 2661 │ 1             │ -1  │ 1                   │ 1            │ 0        │\n",
       "│ 2662 │ 0             │ -1  │ 1                   │ 1            │ 0        │\n",
       "│ 2663 │ 0             │ 1   │ 1                   │ 1            │ 0        │\n",
       "│ 2664 │ 1             │ -1  │ 1                   │ -1           │ 0        │\n",
       "│ 2665 │ 1             │ -1  │ 1                   │ 1            │ 0        │\n",
       "│ 2666 │ 0             │ -1  │ 1                   │ 1            │ 0        │\n",
       "│ 2667 │ 0             │ -1  │ 1                   │ 1            │ 0        │\n",
       "│ 2668 │ 1             │ -1  │ 1                   │ 1            │ 0        │\n",
       "│ 2669 │ 1             │ -1  │ 1                   │ 1            │ 0        │\n",
       "\n",
       "│ Row  │ on_mouseover │ RightClick │ popUpWidnow │ Iframe │ age_of_domain │\n",
       "├──────┼──────────────┼────────────┼─────────────┼────────┼───────────────┤\n",
       "│ 1    │ 1            │ 1          │ 1           │ 1      │ 1             │\n",
       "│ 2    │ 1            │ 1          │ 1           │ 1      │ 1             │\n",
       "│ 3    │ 1            │ 1          │ 1           │ 1      │ -1            │\n",
       "│ 4    │ 1            │ 1          │ 1           │ 1      │ -1            │\n",
       "│ 5    │ 1            │ 1          │ 1           │ 1      │ 1             │\n",
       "│ 6    │ -1           │ -1         │ -1          │ -1     │ -1            │\n",
       "│ 7    │ -1           │ 1          │ -1          │ 1      │ -1            │\n",
       "│ 8    │ 1            │ 1          │ 1           │ 1      │ 1             │\n",
       "│ 9    │ 1            │ 1          │ 1           │ 1      │ -1            │\n",
       "│ 10   │ 1            │ 1          │ 1           │ 1      │ -1            │\n",
       "│ 11   │ 1            │ 1          │ 1           │ 1      │ 1             │\n",
       "⋮\n",
       "│ 2658 │ -1           │ 1          │ -1          │ 1      │ 1             │\n",
       "│ 2659 │ 1            │ 1          │ 1           │ 1      │ 1             │\n",
       "│ 2660 │ 1            │ 1          │ 1           │ 1      │ 1             │\n",
       "│ 2661 │ 1            │ 1          │ 1           │ 1      │ 1             │\n",
       "│ 2662 │ 1            │ 1          │ 1           │ 1      │ 1             │\n",
       "│ 2663 │ 1            │ 1          │ 1           │ 1      │ 1             │\n",
       "│ 2664 │ 1            │ 1          │ 1           │ 1      │ 1             │\n",
       "│ 2665 │ 1            │ 1          │ 1           │ 1      │ 1             │\n",
       "│ 2666 │ 1            │ 1          │ -1          │ 1      │ 1             │\n",
       "│ 2667 │ 1            │ 1          │ 1           │ 1      │ 1             │\n",
       "│ 2668 │ 1            │ 1          │ -1          │ 1      │ 1             │\n",
       "│ 2669 │ 1            │ 1          │ 1           │ 1      │ 1             │\n",
       "\n",
       "│ Row  │ DNS │ web_traffic │ Page_Rank │ Google_Index │ Links_pointing_to_page │\n",
       "├──────┼─────┼─────────────┼───────────┼──────────────┼────────────────────────┤\n",
       "│ 1    │ -1  │ -1          │ 1         │ 1            │ -1                     │\n",
       "│ 2    │ -1  │ -1          │ 1         │ 1            │ 0                      │\n",
       "│ 3    │ -1  │ -1          │ 1         │ 1            │ -1                     │\n",
       "│ 4    │ -1  │ 1           │ 1         │ 1            │ -1                     │\n",
       "│ 5    │ -1  │ -1          │ -1        │ 1            │ -1                     │\n",
       "│ 6    │ -1  │ -1          │ -1        │ 1            │ 0                      │\n",
       "│ 7    │ -1  │ 1           │ -1        │ -1           │ -1                     │\n",
       "│ 8    │ -1  │ -1          │ -1        │ 1            │ 0                      │\n",
       "│ 9    │ -1  │ 1           │ 1         │ -1           │ -1                     │\n",
       "│ 10   │ -1  │ -1          │ 1         │ -1           │ -1                     │\n",
       "│ 11   │ -1  │ 1           │ 1         │ 1            │ 0                      │\n",
       "⋮\n",
       "│ 2658 │ 1   │ 1           │ 1         │ 1            │ 1                      │\n",
       "│ 2659 │ 1   │ 1           │ 1         │ 1            │ 1                      │\n",
       "│ 2660 │ 1   │ 1           │ 1         │ -1           │ 0                      │\n",
       "│ 2661 │ 1   │ 1           │ 1         │ 1            │ 0                      │\n",
       "│ 2662 │ 1   │ 1           │ 1         │ -1           │ 0                      │\n",
       "│ 2663 │ 1   │ 1           │ 1         │ -1           │ 0                      │\n",
       "│ 2664 │ 1   │ 1           │ 1         │ 1            │ 1                      │\n",
       "│ 2665 │ 1   │ 1           │ 1         │ -1           │ 0                      │\n",
       "│ 2666 │ 1   │ 1           │ 1         │ 1            │ 0                      │\n",
       "│ 2667 │ -1  │ 1           │ 1         │ 1            │ 1                      │\n",
       "│ 2668 │ 1   │ 1           │ 1         │ 1            │ 1                      │\n",
       "│ 2669 │ 1   │ 1           │ 1         │ 1            │ 1                      │\n",
       "\n",
       "│ Row  │ Statistical_report │ Result │\n",
       "├──────┼────────────────────┼────────┤\n",
       "│ 1    │ -1                 │ -1     │\n",
       "│ 2    │ 1                  │ -1     │\n",
       "│ 3    │ -1                 │ -1     │\n",
       "│ 4    │ 1                  │ -1     │\n",
       "│ 5    │ -1                 │ -1     │\n",
       "│ 6    │ -1                 │ -1     │\n",
       "│ 7    │ -1                 │ -1     │\n",
       "│ 8    │ -1                 │ -1     │\n",
       "│ 9    │ 1                  │ -1     │\n",
       "│ 10   │ 1                  │ -1     │\n",
       "│ 11   │ 1                  │ -1     │\n",
       "⋮\n",
       "│ 2658 │ -1                 │ 1      │\n",
       "│ 2659 │ -1                 │ 1      │\n",
       "│ 2660 │ 1                  │ 1      │\n",
       "│ 2661 │ 1                  │ 1      │\n",
       "│ 2662 │ 1                  │ 1      │\n",
       "│ 2663 │ 1                  │ 1      │\n",
       "│ 2664 │ -1                 │ 1      │\n",
       "│ 2665 │ 1                  │ 1      │\n",
       "│ 2666 │ 1                  │ 1      │\n",
       "│ 2667 │ 1                  │ 1      │\n",
       "│ 2668 │ 1                  │ 1      │\n",
       "│ 2669 │ 1                  │ 1      │"
      ]
     },
     "execution_count": 149,
     "metadata": {},
     "output_type": "execute_result"
    }
   ],
   "source": [
    "function swapcols(X, i, j)\n",
    "     for k = 1:size(X,1)\n",
    "           X[k,i],X[k,j] = X[k,j],X[k,i]\n",
    "     end\n",
    "     return X\n",
    "end\n",
    "\n",
    "dataset2, attributeTypes2 = readArff(\"Mohammad14JulyDS_2.arff\");\n",
    "\n",
    "dataset2 = swapcols(dataset2, 8, 14)"
   ]
  },
  {
   "cell_type": "code",
   "execution_count": 150,
   "metadata": {
    "collapsed": true,
    "scrolled": true
   },
   "outputs": [],
   "source": [
    "dataset = vcat(dataset1, dataset2);"
   ]
  },
  {
   "cell_type": "code",
   "execution_count": 151,
   "metadata": {},
   "outputs": [
    {
     "data": {
      "text/html": [
       "<table class=\"data-frame\"><thead><tr><th></th><th>having_IP_Address</th><th>URL_Length</th><th>Shortining_Service</th><th>having_At_Symbol</th><th>double_slash_redirecting</th><th>Prefix_Suffix</th><th>having_Sub_Domain</th><th>SSLfinal_State</th><th>Domain_registeration_length</th><th>Favicon</th><th>port</th><th>HTTPS_token</th><th>Request_URL</th><th>URL_of_Anchor</th><th>Links_in_tags</th><th>SFH</th><th>Submitting_to_email</th><th>Abnormal_URL</th><th>Redirect</th><th>on_mouseover</th><th>RightClick</th><th>popUpWidnow</th><th>Iframe</th><th>age_of_domain</th><th>DNSRecord</th><th>web_traffic</th><th>Page_Rank</th><th>Google_Index</th><th>Links_pointing_to_page</th><th>Statistical_report</th><th>Result</th><th>DNS</th></tr></thead><tbody><tr><th>1</th><td>1</td><td>-1</td><td>1</td><td>1</td><td>1</td><td>1</td><td>0</td><td>-1</td><td>-1</td><td>1</td><td>1</td><td>-1</td><td>-1</td><td>-1</td><td>1</td><td>-1</td><td>1</td><td>1</td><td>0</td><td>1</td><td>1</td><td>1</td><td>1</td><td>-1</td><td>-1</td><td>-1</td><td>1</td><td>1</td><td>-1</td><td>1</td><td>-1</td><td>NA</td></tr><tr><th>2</th><td>1</td><td>1</td><td>1</td><td>1</td><td>1</td><td>1</td><td>0</td><td>1</td><td>1</td><td>1</td><td>1</td><td>1</td><td>1</td><td>-1</td><td>-1</td><td>1</td><td>1</td><td>1</td><td>0</td><td>1</td><td>1</td><td>1</td><td>1</td><td>-1</td><td>-1</td><td>-1</td><td>1</td><td>1</td><td>0</td><td>1</td><td>-1</td><td>NA</td></tr><tr><th>3</th><td>1</td><td>-1</td><td>1</td><td>-1</td><td>1</td><td>1</td><td>1</td><td>1</td><td>1</td><td>1</td><td>1</td><td>1</td><td>1</td><td>1</td><td>-1</td><td>-1</td><td>1</td><td>1</td><td>0</td><td>1</td><td>1</td><td>1</td><td>1</td><td>1</td><td>NA</td><td>1</td><td>1</td><td>1</td><td>0</td><td>1</td><td>1</td><td>-1</td></tr><tr><th>4</th><td>-1</td><td>-1</td><td>-1</td><td>1</td><td>-1</td><td>1</td><td>1</td><td>1</td><td>1</td><td>1</td><td>1</td><td>-1</td><td>1</td><td>1</td><td>0</td><td>-1</td><td>1</td><td>-1</td><td>1</td><td>1</td><td>1</td><td>1</td><td>1</td><td>1</td><td>NA</td><td>1</td><td>1</td><td>1</td><td>0</td><td>1</td><td>1</td><td>1</td></tr><tr><th>5</th><td>1</td><td>1</td><td>1</td><td>1</td><td>1</td><td>1</td><td>1</td><td>1</td><td>1</td><td>-1</td><td>-1</td><td>1</td><td>0</td><td>1</td><td>1</td><td>1</td><td>-1</td><td>1</td><td>0</td><td>1</td><td>1</td><td>-1</td><td>1</td><td>1</td><td>1</td><td>1</td><td>1</td><td>1</td><td>0</td><td>-1</td><td>1</td><td>NA</td></tr><tr><th>6</th><td>1</td><td>-1</td><td>1</td><td>1</td><td>-1</td><td>1</td><td>0</td><td>1</td><td>1</td><td>1</td><td>1</td><td>1</td><td>1</td><td>1</td><td>0</td><td>-1</td><td>1</td><td>1</td><td>0</td><td>1</td><td>1</td><td>1</td><td>1</td><td>1</td><td>NA</td><td>1</td><td>1</td><td>1</td><td>0</td><td>1</td><td>1</td><td>1</td></tr><tr><th>7</th><td>1</td><td>-1</td><td>1</td><td>1</td><td>1</td><td>-1</td><td>-1</td><td>-1</td><td>-1</td><td>-1</td><td>1</td><td>1</td><td>1</td><td>-1</td><td>1</td><td>-1</td><td>1</td><td>1</td><td>0</td><td>1</td><td>1</td><td>-1</td><td>1</td><td>1</td><td>NA</td><td>-1</td><td>-1</td><td>1</td><td>1</td><td>1</td><td>-1</td><td>1</td></tr><tr><th>8</th><td>1</td><td>-1</td><td>1</td><td>1</td><td>1</td><td>-1</td><td>0</td><td>-1</td><td>1</td><td>1</td><td>1</td><td>1</td><td>1</td><td>-1</td><td>1</td><td>-1</td><td>1</td><td>1</td><td>0</td><td>1</td><td>1</td><td>1</td><td>1</td><td>-1</td><td>NA</td><td>-1</td><td>-1</td><td>1</td><td>1</td><td>1</td><td>-1</td><td>1</td></tr><tr><th>9</th><td>1</td><td>1</td><td>1</td><td>1</td><td>1</td><td>-1</td><td>0</td><td>0</td><td>1</td><td>1</td><td>1</td><td>1</td><td>1</td><td>-1</td><td>-1</td><td>1</td><td>1</td><td>1</td><td>0</td><td>1</td><td>1</td><td>1</td><td>1</td><td>1</td><td>NA</td><td>-1</td><td>-1</td><td>1</td><td>0</td><td>1</td><td>-1</td><td>-1</td></tr><tr><th>10</th><td>1</td><td>-1</td><td>1</td><td>1</td><td>1</td><td>1</td><td>0</td><td>-1</td><td>-1</td><td>1</td><td>1</td><td>1</td><td>0</td><td>-1</td><td>1</td><td>-1</td><td>1</td><td>1</td><td>0</td><td>1</td><td>1</td><td>1</td><td>1</td><td>1</td><td>1</td><td>-1</td><td>1</td><td>-1</td><td>1</td><td>1</td><td>-1</td><td>NA</td></tr><tr><th>11</th><td>1</td><td>-1</td><td>1</td><td>1</td><td>1</td><td>1</td><td>1</td><td>1</td><td>1</td><td>1</td><td>1</td><td>1</td><td>1</td><td>0</td><td>-1</td><td>-1</td><td>1</td><td>1</td><td>0</td><td>1</td><td>1</td><td>1</td><td>1</td><td>1</td><td>NA</td><td>0</td><td>1</td><td>1</td><td>0</td><td>1</td><td>1</td><td>1</td></tr><tr><th>12</th><td>1</td><td>1</td><td>1</td><td>1</td><td>1</td><td>-1</td><td>1</td><td>-1</td><td>-1</td><td>1</td><td>1</td><td>1</td><td>1</td><td>-1</td><td>1</td><td>1</td><td>1</td><td>1</td><td>0</td><td>1</td><td>1</td><td>1</td><td>1</td><td>-1</td><td>NA</td><td>-1</td><td>-1</td><td>1</td><td>1</td><td>1</td><td>-1</td><td>1</td></tr><tr><th>13</th><td>1</td><td>1</td><td>1</td><td>1</td><td>1</td><td>1</td><td>-1</td><td>1</td><td>1</td><td>-1</td><td>-1</td><td>1</td><td>1</td><td>-1</td><td>1</td><td>1</td><td>-1</td><td>1</td><td>0</td><td>-1</td><td>1</td><td>-1</td><td>-1</td><td>-1</td><td>-1</td><td>-1</td><td>1</td><td>-1</td><td>-1</td><td>1</td><td>-1</td><td>NA</td></tr><tr><th>14</th><td>-1</td><td>1</td><td>-1</td><td>1</td><td>-1</td><td>1</td><td>0</td><td>1</td><td>-1</td><td>1</td><td>1</td><td>-1</td><td>1</td><td>1</td><td>1</td><td>-1</td><td>1</td><td>1</td><td>0</td><td>-1</td><td>1</td><td>-1</td><td>1</td><td>1</td><td>-1</td><td>1</td><td>1</td><td>1</td><td>0</td><td>1</td><td>1</td><td>NA</td></tr><tr><th>15</th><td>1</td><td>-1</td><td>1</td><td>1</td><td>1</td><td>1</td><td>0</td><td>1</td><td>1</td><td>1</td><td>1</td><td>1</td><td>1</td><td>-1</td><td>0</td><td>-1</td><td>1</td><td>1</td><td>0</td><td>1</td><td>1</td><td>1</td><td>1</td><td>-1</td><td>1</td><td>-1</td><td>1</td><td>1</td><td>0</td><td>1</td><td>-1</td><td>NA</td></tr><tr><th>16</th><td>1</td><td>1</td><td>1</td><td>1</td><td>1</td><td>1</td><td>1</td><td>1</td><td>1</td><td>1</td><td>1</td><td>1</td><td>-1</td><td>1</td><td>1</td><td>1</td><td>1</td><td>1</td><td>0</td><td>1</td><td>1</td><td>1</td><td>1</td><td>1</td><td>1</td><td>1</td><td>1</td><td>-1</td><td>1</td><td>1</td><td>1</td><td>NA</td></tr><tr><th>17</th><td>1</td><td>-1</td><td>1</td><td>1</td><td>1</td><td>-1</td><td>-1</td><td>-1</td><td>1</td><td>1</td><td>1</td><td>1</td><td>1</td><td>1</td><td>-1</td><td>-1</td><td>1</td><td>1</td><td>0</td><td>1</td><td>1</td><td>1</td><td>1</td><td>1</td><td>NA</td><td>1</td><td>-1</td><td>-1</td><td>1</td><td>1</td><td>-1</td><td>1</td></tr><tr><th>18</th><td>1</td><td>-1</td><td>1</td><td>-1</td><td>1</td><td>-1</td><td>0</td><td>-1</td><td>-1</td><td>1</td><td>1</td><td>1</td><td>1</td><td>-1</td><td>1</td><td>-1</td><td>1</td><td>1</td><td>0</td><td>1</td><td>1</td><td>1</td><td>1</td><td>-1</td><td>NA</td><td>-1</td><td>-1</td><td>1</td><td>0</td><td>1</td><td>-1</td><td>1</td></tr><tr><th>19</th><td>1</td><td>-1</td><td>1</td><td>1</td><td>1</td><td>1</td><td>1</td><td>1</td><td>1</td><td>1</td><td>1</td><td>1</td><td>1</td><td>1</td><td>0</td><td>-1</td><td>1</td><td>1</td><td>0</td><td>1</td><td>1</td><td>1</td><td>1</td><td>1</td><td>NA</td><td>1</td><td>1</td><td>1</td><td>0</td><td>1</td><td>1</td><td>1</td></tr><tr><th>20</th><td>1</td><td>-1</td><td>1</td><td>1</td><td>1</td><td>1</td><td>0</td><td>-1</td><td>1</td><td>1</td><td>1</td><td>1</td><td>1</td><td>-1</td><td>1</td><td>-1</td><td>1</td><td>1</td><td>0</td><td>1</td><td>1</td><td>1</td><td>1</td><td>-1</td><td>NA</td><td>-1</td><td>1</td><td>1</td><td>1</td><td>1</td><td>-1</td><td>-1</td></tr><tr><th>21</th><td>1</td><td>-1</td><td>1</td><td>1</td><td>1</td><td>1</td><td>1</td><td>1</td><td>1</td><td>1</td><td>1</td><td>1</td><td>-1</td><td>1</td><td>1</td><td>-1</td><td>1</td><td>1</td><td>0</td><td>1</td><td>1</td><td>1</td><td>1</td><td>1</td><td>1</td><td>-1</td><td>1</td><td>1</td><td>1</td><td>1</td><td>1</td><td>NA</td></tr><tr><th>22</th><td>1</td><td>1</td><td>1</td><td>-1</td><td>1</td><td>-1</td><td>1</td><td>1</td><td>1</td><td>1</td><td>1</td><td>1</td><td>1</td><td>-1</td><td>-1</td><td>1</td><td>1</td><td>1</td><td>0</td><td>1</td><td>1</td><td>1</td><td>1</td><td>1</td><td>NA</td><td>1</td><td>-1</td><td>1</td><td>0</td><td>1</td><td>-1</td><td>1</td></tr><tr><th>23</th><td>1</td><td>-1</td><td>1</td><td>1</td><td>1</td><td>1</td><td>0</td><td>1</td><td>1</td><td>1</td><td>1</td><td>1</td><td>-1</td><td>1</td><td>1</td><td>-1</td><td>1</td><td>1</td><td>0</td><td>1</td><td>1</td><td>1</td><td>1</td><td>1</td><td>NA</td><td>1</td><td>1</td><td>-1</td><td>0</td><td>1</td><td>1</td><td>1</td></tr><tr><th>24</th><td>-1</td><td>1</td><td>-1</td><td>1</td><td>-1</td><td>1</td><td>0</td><td>1</td><td>-1</td><td>1</td><td>1</td><td>-1</td><td>0</td><td>1</td><td>1</td><td>1</td><td>1</td><td>-1</td><td>1</td><td>1</td><td>1</td><td>1</td><td>1</td><td>1</td><td>NA</td><td>1</td><td>1</td><td>1</td><td>0</td><td>1</td><td>1</td><td>1</td></tr><tr><th>25</th><td>1</td><td>-1</td><td>1</td><td>1</td><td>1</td><td>-1</td><td>1</td><td>-1</td><td>-1</td><td>1</td><td>1</td><td>1</td><td>0</td><td>-1</td><td>0</td><td>-1</td><td>-1</td><td>1</td><td>0</td><td>1</td><td>1</td><td>1</td><td>1</td><td>1</td><td>1</td><td>0</td><td>1</td><td>1</td><td>1</td><td>1</td><td>-1</td><td>NA</td></tr><tr><th>26</th><td>1</td><td>-1</td><td>1</td><td>-1</td><td>1</td><td>1</td><td>1</td><td>1</td><td>1</td><td>1</td><td>1</td><td>1</td><td>1</td><td>1</td><td>-1</td><td>-1</td><td>1</td><td>1</td><td>0</td><td>1</td><td>1</td><td>1</td><td>1</td><td>1</td><td>-1</td><td>1</td><td>1</td><td>1</td><td>0</td><td>1</td><td>-1</td><td>NA</td></tr><tr><th>27</th><td>1</td><td>-1</td><td>1</td><td>1</td><td>1</td><td>1</td><td>0</td><td>1</td><td>1</td><td>1</td><td>1</td><td>1</td><td>-1</td><td>1</td><td>1</td><td>-1</td><td>1</td><td>1</td><td>0</td><td>1</td><td>1</td><td>1</td><td>1</td><td>1</td><td>NA</td><td>1</td><td>1</td><td>1</td><td>1</td><td>1</td><td>1</td><td>1</td></tr><tr><th>28</th><td>1</td><td>-1</td><td>1</td><td>1</td><td>1</td><td>1</td><td>0</td><td>1</td><td>1</td><td>1</td><td>1</td><td>1</td><td>-1</td><td>1</td><td>1</td><td>-1</td><td>1</td><td>1</td><td>0</td><td>1</td><td>1</td><td>1</td><td>1</td><td>-1</td><td>NA</td><td>1</td><td>1</td><td>1</td><td>0</td><td>1</td><td>1</td><td>1</td></tr><tr><th>29</th><td>1</td><td>-1</td><td>1</td><td>1</td><td>1</td><td>1</td><td>0</td><td>1</td><td>1</td><td>1</td><td>1</td><td>-1</td><td>1</td><td>1</td><td>1</td><td>-1</td><td>1</td><td>1</td><td>0</td><td>1</td><td>1</td><td>1</td><td>1</td><td>1</td><td>1</td><td>-1</td><td>1</td><td>-1</td><td>0</td><td>1</td><td>1</td><td>NA</td></tr><tr><th>30</th><td>1</td><td>-1</td><td>1</td><td>1</td><td>1</td><td>1</td><td>0</td><td>1</td><td>1</td><td>1</td><td>1</td><td>1</td><td>1</td><td>-1</td><td>0</td><td>-1</td><td>1</td><td>1</td><td>0</td><td>1</td><td>1</td><td>1</td><td>1</td><td>1</td><td>1</td><td>1</td><td>1</td><td>1</td><td>0</td><td>1</td><td>1</td><td>NA</td></tr><tr><th>&vellip;</th><td>&vellip;</td><td>&vellip;</td><td>&vellip;</td><td>&vellip;</td><td>&vellip;</td><td>&vellip;</td><td>&vellip;</td><td>&vellip;</td><td>&vellip;</td><td>&vellip;</td><td>&vellip;</td><td>&vellip;</td><td>&vellip;</td><td>&vellip;</td><td>&vellip;</td><td>&vellip;</td><td>&vellip;</td><td>&vellip;</td><td>&vellip;</td><td>&vellip;</td><td>&vellip;</td><td>&vellip;</td><td>&vellip;</td><td>&vellip;</td><td>&vellip;</td><td>&vellip;</td><td>&vellip;</td><td>&vellip;</td><td>&vellip;</td><td>&vellip;</td><td>&vellip;</td><td>&vellip;</td></tr></tbody></table>"
      ],
      "text/plain": [
       "5124×32 DataFrames.DataFrame\n",
       "│ Row  │ having_IP_Address │ URL_Length │ Shortining_Service │\n",
       "├──────┼───────────────────┼────────────┼────────────────────┤\n",
       "│ 1    │ 1                 │ -1         │ 1                  │\n",
       "│ 2    │ 1                 │ 1          │ 1                  │\n",
       "│ 3    │ 1                 │ -1         │ 1                  │\n",
       "│ 4    │ -1                │ -1         │ -1                 │\n",
       "│ 5    │ 1                 │ 1          │ 1                  │\n",
       "│ 6    │ 1                 │ -1         │ 1                  │\n",
       "│ 7    │ 1                 │ -1         │ 1                  │\n",
       "│ 8    │ 1                 │ -1         │ 1                  │\n",
       "│ 9    │ 1                 │ 1          │ 1                  │\n",
       "│ 10   │ 1                 │ -1         │ 1                  │\n",
       "│ 11   │ 1                 │ -1         │ 1                  │\n",
       "⋮\n",
       "│ 5113 │ 1                 │ -1         │ 1                  │\n",
       "│ 5114 │ 1                 │ -1         │ 1                  │\n",
       "│ 5115 │ 1                 │ -1         │ 1                  │\n",
       "│ 5116 │ 1                 │ 1          │ 1                  │\n",
       "│ 5117 │ 1                 │ -1         │ 1                  │\n",
       "│ 5118 │ 1                 │ -1         │ 1                  │\n",
       "│ 5119 │ 1                 │ -1         │ 1                  │\n",
       "│ 5120 │ -1                │ -1         │ -1                 │\n",
       "│ 5121 │ 1                 │ -1         │ 1                  │\n",
       "│ 5122 │ 1                 │ -1         │ 1                  │\n",
       "│ 5123 │ 1                 │ -1         │ 1                  │\n",
       "│ 5124 │ 1                 │ -1         │ 1                  │\n",
       "\n",
       "│ Row  │ having_At_Symbol │ double_slash_redirecting │ Prefix_Suffix │\n",
       "├──────┼──────────────────┼──────────────────────────┼───────────────┤\n",
       "│ 1    │ 1                │ 1                        │ 1             │\n",
       "│ 2    │ 1                │ 1                        │ 1             │\n",
       "│ 3    │ -1               │ 1                        │ 1             │\n",
       "│ 4    │ 1                │ -1                       │ 1             │\n",
       "│ 5    │ 1                │ 1                        │ 1             │\n",
       "│ 6    │ 1                │ -1                       │ 1             │\n",
       "│ 7    │ 1                │ 1                        │ -1            │\n",
       "│ 8    │ 1                │ 1                        │ -1            │\n",
       "│ 9    │ 1                │ 1                        │ -1            │\n",
       "│ 10   │ 1                │ 1                        │ 1             │\n",
       "│ 11   │ 1                │ 1                        │ 1             │\n",
       "⋮\n",
       "│ 5113 │ 1                │ 1                        │ 1             │\n",
       "│ 5114 │ 1                │ 1                        │ -1            │\n",
       "│ 5115 │ 1                │ 1                        │ 1             │\n",
       "│ 5116 │ 1                │ 1                        │ 1             │\n",
       "│ 5117 │ 1                │ 1                        │ -1            │\n",
       "│ 5118 │ 1                │ 1                        │ 1             │\n",
       "│ 5119 │ 1                │ 1                        │ 1             │\n",
       "│ 5120 │ 1                │ -1                       │ 1             │\n",
       "│ 5121 │ 1                │ 1                        │ 1             │\n",
       "│ 5122 │ 1                │ 1                        │ -1            │\n",
       "│ 5123 │ 1                │ 1                        │ -1            │\n",
       "│ 5124 │ 1                │ 1                        │ 1             │\n",
       "\n",
       "│ Row  │ having_Sub_Domain │ SSLfinal_State │ Domain_registeration_length │\n",
       "├──────┼───────────────────┼────────────────┼─────────────────────────────┤\n",
       "│ 1    │ 0                 │ -1             │ -1                          │\n",
       "│ 2    │ 0                 │ 1              │ 1                           │\n",
       "│ 3    │ 1                 │ 1              │ 1                           │\n",
       "│ 4    │ 1                 │ 1              │ 1                           │\n",
       "│ 5    │ 1                 │ 1              │ 1                           │\n",
       "│ 6    │ 0                 │ 1              │ 1                           │\n",
       "│ 7    │ -1                │ -1             │ -1                          │\n",
       "│ 8    │ 0                 │ -1             │ 1                           │\n",
       "│ 9    │ 0                 │ 0              │ 1                           │\n",
       "│ 10   │ 0                 │ -1             │ -1                          │\n",
       "│ 11   │ 1                 │ 1              │ 1                           │\n",
       "⋮\n",
       "│ 5113 │ -1                │ 1              │ 1                           │\n",
       "│ 5114 │ 0                 │ -1             │ -1                          │\n",
       "│ 5115 │ 1                 │ 1              │ 1                           │\n",
       "│ 5116 │ 1                 │ 1              │ 1                           │\n",
       "│ 5117 │ 1                 │ -1             │ -1                          │\n",
       "│ 5118 │ 1                 │ 1              │ 1                           │\n",
       "│ 5119 │ 1                 │ 1              │ 1                           │\n",
       "│ 5120 │ 1                 │ 1              │ 1                           │\n",
       "│ 5121 │ 1                 │ 1              │ 1                           │\n",
       "│ 5122 │ 1                 │ -1             │ 1                           │\n",
       "│ 5123 │ 1                 │ -1             │ -1                          │\n",
       "│ 5124 │ 0                 │ 1              │ 1                           │\n",
       "\n",
       "│ Row  │ Favicon │ port │ HTTPS_token │ Request_URL │ URL_of_Anchor │\n",
       "├──────┼─────────┼──────┼─────────────┼─────────────┼───────────────┤\n",
       "│ 1    │ 1       │ 1    │ -1          │ -1          │ -1            │\n",
       "│ 2    │ 1       │ 1    │ 1           │ 1           │ -1            │\n",
       "│ 3    │ 1       │ 1    │ 1           │ 1           │ 1             │\n",
       "│ 4    │ 1       │ 1    │ -1          │ 1           │ 1             │\n",
       "│ 5    │ -1      │ -1   │ 1           │ 0           │ 1             │\n",
       "│ 6    │ 1       │ 1    │ 1           │ 1           │ 1             │\n",
       "│ 7    │ -1      │ 1    │ 1           │ 1           │ -1            │\n",
       "│ 8    │ 1       │ 1    │ 1           │ 1           │ -1            │\n",
       "│ 9    │ 1       │ 1    │ 1           │ 1           │ -1            │\n",
       "│ 10   │ 1       │ 1    │ 1           │ 0           │ -1            │\n",
       "│ 11   │ 1       │ 1    │ 1           │ 1           │ 0             │\n",
       "⋮\n",
       "│ 5113 │ 1       │ 1    │ -1          │ 1           │ 1             │\n",
       "│ 5114 │ 1       │ 1    │ 1           │ 1           │ -1            │\n",
       "│ 5115 │ 1       │ 1    │ 1           │ 0           │ 1             │\n",
       "│ 5116 │ 1       │ 1    │ 1           │ 1           │ 1             │\n",
       "│ 5117 │ 1       │ 1    │ 1           │ 0           │ -1            │\n",
       "│ 5118 │ 1       │ 1    │ 1           │ 0           │ 1             │\n",
       "│ 5119 │ 1       │ 1    │ 1           │ 1           │ 1             │\n",
       "│ 5120 │ 1       │ 1    │ -1          │ 1           │ 1             │\n",
       "│ 5121 │ 1       │ 1    │ -1          │ -1          │ 1             │\n",
       "│ 5122 │ 1       │ 1    │ 1           │ -1          │ -1            │\n",
       "│ 5123 │ 1       │ 1    │ 1           │ 1           │ -1            │\n",
       "│ 5124 │ 1       │ 1    │ 1           │ 1           │ 1             │\n",
       "\n",
       "│ Row  │ Links_in_tags │ SFH │ Submitting_to_email │ Abnormal_URL │ Redirect │\n",
       "├──────┼───────────────┼─────┼─────────────────────┼──────────────┼──────────┤\n",
       "│ 1    │ 1             │ -1  │ 1                   │ 1            │ 0        │\n",
       "│ 2    │ -1            │ 1   │ 1                   │ 1            │ 0        │\n",
       "│ 3    │ -1            │ -1  │ 1                   │ 1            │ 0        │\n",
       "│ 4    │ 0             │ -1  │ 1                   │ -1           │ 1        │\n",
       "│ 5    │ 1             │ 1   │ -1                  │ 1            │ 0        │\n",
       "│ 6    │ 0             │ -1  │ 1                   │ 1            │ 0        │\n",
       "│ 7    │ 1             │ -1  │ 1                   │ 1            │ 0        │\n",
       "│ 8    │ 1             │ -1  │ 1                   │ 1            │ 0        │\n",
       "│ 9    │ -1            │ 1   │ 1                   │ 1            │ 0        │\n",
       "│ 10   │ 1             │ -1  │ 1                   │ 1            │ 0        │\n",
       "│ 11   │ -1            │ -1  │ 1                   │ 1            │ 0        │\n",
       "⋮\n",
       "│ 5113 │ 0             │ -1  │ 1                   │ 1            │ 0        │\n",
       "│ 5114 │ 1             │ -1  │ 1                   │ 1            │ 0        │\n",
       "│ 5115 │ 1             │ -1  │ 1                   │ 1            │ 0        │\n",
       "│ 5116 │ 0             │ 1   │ 1                   │ 1            │ 0        │\n",
       "│ 5117 │ 1             │ -1  │ 1                   │ 1            │ 0        │\n",
       "│ 5118 │ 0             │ -1  │ 1                   │ 1            │ 0        │\n",
       "│ 5119 │ 0             │ -1  │ -1                  │ 1            │ 0        │\n",
       "│ 5120 │ -1            │ -1  │ 1                   │ -1           │ 1        │\n",
       "│ 5121 │ 1             │ -1  │ 1                   │ -1           │ 0        │\n",
       "│ 5122 │ -1            │ -1  │ 1                   │ 1            │ 0        │\n",
       "│ 5123 │ 1             │ -1  │ 1                   │ 1            │ 0        │\n",
       "│ 5124 │ -1            │ -1  │ 1                   │ 1            │ 0        │\n",
       "\n",
       "│ Row  │ on_mouseover │ RightClick │ popUpWidnow │ Iframe │ age_of_domain │\n",
       "├──────┼──────────────┼────────────┼─────────────┼────────┼───────────────┤\n",
       "│ 1    │ 1            │ 1          │ 1           │ 1      │ -1            │\n",
       "│ 2    │ 1            │ 1          │ 1           │ 1      │ -1            │\n",
       "│ 3    │ 1            │ 1          │ 1           │ 1      │ 1             │\n",
       "│ 4    │ 1            │ 1          │ 1           │ 1      │ 1             │\n",
       "│ 5    │ 1            │ 1          │ -1          │ 1      │ 1             │\n",
       "│ 6    │ 1            │ 1          │ 1           │ 1      │ 1             │\n",
       "│ 7    │ 1            │ 1          │ -1          │ 1      │ 1             │\n",
       "│ 8    │ 1            │ 1          │ 1           │ 1      │ -1            │\n",
       "│ 9    │ 1            │ 1          │ 1           │ 1      │ 1             │\n",
       "│ 10   │ 1            │ 1          │ 1           │ 1      │ 1             │\n",
       "│ 11   │ 1            │ 1          │ 1           │ 1      │ 1             │\n",
       "⋮\n",
       "│ 5113 │ 1            │ 1          │ 1           │ 1      │ 1             │\n",
       "│ 5114 │ 1            │ 1          │ 1           │ 1      │ 1             │\n",
       "│ 5115 │ 1            │ 1          │ 1           │ 1      │ 1             │\n",
       "│ 5116 │ 1            │ 1          │ 1           │ 1      │ 1             │\n",
       "│ 5117 │ 1            │ 1          │ 1           │ 1      │ 1             │\n",
       "│ 5118 │ 1            │ 1          │ 1           │ 1      │ 1             │\n",
       "│ 5119 │ 1            │ 1          │ 1           │ 1      │ 1             │\n",
       "│ 5120 │ 1            │ 1          │ 1           │ 1      │ 1             │\n",
       "│ 5121 │ 1            │ 1          │ 1           │ 1      │ 1             │\n",
       "│ 5122 │ 1            │ 1          │ 1           │ 1      │ -1            │\n",
       "│ 5123 │ 1            │ 1          │ 1           │ 1      │ -1            │\n",
       "│ 5124 │ 1            │ 1          │ 1           │ 1      │ 1             │\n",
       "\n",
       "│ Row  │ DNSRecord │ web_traffic │ Page_Rank │ Google_Index │\n",
       "├──────┼───────────┼─────────────┼───────────┼──────────────┤\n",
       "│ 1    │ -1        │ -1          │ 1         │ 1            │\n",
       "│ 2    │ -1        │ -1          │ 1         │ 1            │\n",
       "│ 3    │ NA        │ 1           │ 1         │ 1            │\n",
       "│ 4    │ NA        │ 1           │ 1         │ 1            │\n",
       "│ 5    │ 1         │ 1           │ 1         │ 1            │\n",
       "│ 6    │ NA        │ 1           │ 1         │ 1            │\n",
       "│ 7    │ NA        │ -1          │ -1        │ 1            │\n",
       "│ 8    │ NA        │ -1          │ -1        │ 1            │\n",
       "│ 9    │ NA        │ -1          │ -1        │ 1            │\n",
       "│ 10   │ 1         │ -1          │ 1         │ -1           │\n",
       "│ 11   │ NA        │ 0           │ 1         │ 1            │\n",
       "⋮\n",
       "│ 5113 │ NA        │ 0           │ 1         │ 1            │\n",
       "│ 5114 │ NA        │ -1          │ 1         │ 1            │\n",
       "│ 5115 │ NA        │ 1           │ 1         │ 1            │\n",
       "│ 5116 │ NA        │ 1           │ 1         │ 1            │\n",
       "│ 5117 │ 1         │ -1          │ -1        │ 1            │\n",
       "│ 5118 │ 1         │ -1          │ 1         │ 1            │\n",
       "│ 5119 │ 1         │ -1          │ 1         │ -1           │\n",
       "│ 5120 │ NA        │ 1           │ -1        │ 1            │\n",
       "│ 5121 │ 1         │ -1          │ 1         │ 1            │\n",
       "│ 5122 │ 1         │ -1          │ -1        │ -1           │\n",
       "│ 5123 │ -1        │ -1          │ -1        │ 1            │\n",
       "│ 5124 │ -1        │ 1           │ -1        │ 1            │\n",
       "\n",
       "│ Row  │ Links_pointing_to_page │ Statistical_report │ Result │ DNS │\n",
       "├──────┼────────────────────────┼────────────────────┼────────┼─────┤\n",
       "│ 1    │ -1                     │ 1                  │ -1     │ NA  │\n",
       "│ 2    │ 0                      │ 1                  │ -1     │ NA  │\n",
       "│ 3    │ 0                      │ 1                  │ 1      │ -1  │\n",
       "│ 4    │ 0                      │ 1                  │ 1      │ 1   │\n",
       "│ 5    │ 0                      │ -1                 │ 1      │ NA  │\n",
       "│ 6    │ 0                      │ 1                  │ 1      │ 1   │\n",
       "│ 7    │ 1                      │ 1                  │ -1     │ 1   │\n",
       "│ 8    │ 1                      │ 1                  │ -1     │ 1   │\n",
       "│ 9    │ 0                      │ 1                  │ -1     │ -1  │\n",
       "│ 10   │ 1                      │ 1                  │ -1     │ NA  │\n",
       "│ 11   │ 0                      │ 1                  │ 1      │ 1   │\n",
       "⋮\n",
       "│ 5113 │ 1                      │ 1                  │ 1      │ 1   │\n",
       "│ 5114 │ 1                      │ 1                  │ -1     │ 1   │\n",
       "│ 5115 │ 0                      │ 1                  │ 1      │ 1   │\n",
       "│ 5116 │ 0                      │ 1                  │ 1      │ 1   │\n",
       "│ 5117 │ 0                      │ 1                  │ -1     │ NA  │\n",
       "│ 5118 │ 1                      │ 1                  │ 1      │ NA  │\n",
       "│ 5119 │ -1                     │ 1                  │ 1      │ NA  │\n",
       "│ 5120 │ 1                      │ 1                  │ -1     │ 1   │\n",
       "│ 5121 │ 1                      │ -1                 │ 1      │ NA  │\n",
       "│ 5122 │ 0                      │ 1                  │ -1     │ NA  │\n",
       "│ 5123 │ 1                      │ 1                  │ -1     │ NA  │\n",
       "│ 5124 │ 0                      │ 1                  │ 1      │ NA  │"
      ]
     },
     "execution_count": 151,
     "metadata": {},
     "output_type": "execute_result"
    }
   ],
   "source": [
    "dataset = dataset[shuffle(1:end),:]"
   ]
  },
  {
   "cell_type": "code",
   "execution_count": 152,
   "metadata": {},
   "outputs": [
    {
     "data": {
      "text/html": [
       "<table class=\"data-frame\"><thead><tr><th></th><th>having_IP_Address</th><th>URL_Length</th><th>Shortining_Service</th><th>having_At_Symbol</th><th>double_slash_redirecting</th><th>Prefix_Suffix</th><th>having_Sub_Domain</th><th>SSLfinal_State</th><th>Domain_registeration_length</th><th>Favicon</th><th>port</th><th>HTTPS_token</th><th>Request_URL</th><th>URL_of_Anchor</th><th>Links_in_tags</th><th>SFH</th><th>Submitting_to_email</th><th>Abnormal_URL</th><th>Redirect</th><th>on_mouseover</th><th>RightClick</th><th>popUpWidnow</th><th>Iframe</th><th>age_of_domain</th><th>DNSRecord</th><th>web_traffic</th><th>Page_Rank</th><th>Google_Index</th><th>Links_pointing_to_page</th><th>Statistical_report</th><th>DNS</th></tr></thead><tbody><tr><th>1</th><td>1</td><td>-1</td><td>1</td><td>1</td><td>1</td><td>1</td><td>0</td><td>-1</td><td>-1</td><td>1</td><td>1</td><td>-1</td><td>-1</td><td>-1</td><td>1</td><td>-1</td><td>1</td><td>1</td><td>0</td><td>1</td><td>1</td><td>1</td><td>1</td><td>-1</td><td>-1</td><td>-1</td><td>1</td><td>1</td><td>-1</td><td>1</td><td>NA</td></tr><tr><th>2</th><td>1</td><td>1</td><td>1</td><td>1</td><td>1</td><td>1</td><td>0</td><td>1</td><td>1</td><td>1</td><td>1</td><td>1</td><td>1</td><td>-1</td><td>-1</td><td>1</td><td>1</td><td>1</td><td>0</td><td>1</td><td>1</td><td>1</td><td>1</td><td>-1</td><td>-1</td><td>-1</td><td>1</td><td>1</td><td>0</td><td>1</td><td>NA</td></tr><tr><th>3</th><td>1</td><td>-1</td><td>1</td><td>-1</td><td>1</td><td>1</td><td>1</td><td>1</td><td>1</td><td>1</td><td>1</td><td>1</td><td>1</td><td>1</td><td>-1</td><td>-1</td><td>1</td><td>1</td><td>0</td><td>1</td><td>1</td><td>1</td><td>1</td><td>1</td><td>NA</td><td>1</td><td>1</td><td>1</td><td>0</td><td>1</td><td>-1</td></tr><tr><th>4</th><td>-1</td><td>-1</td><td>-1</td><td>1</td><td>-1</td><td>1</td><td>1</td><td>1</td><td>1</td><td>1</td><td>1</td><td>-1</td><td>1</td><td>1</td><td>0</td><td>-1</td><td>1</td><td>-1</td><td>1</td><td>1</td><td>1</td><td>1</td><td>1</td><td>1</td><td>NA</td><td>1</td><td>1</td><td>1</td><td>0</td><td>1</td><td>1</td></tr><tr><th>5</th><td>1</td><td>1</td><td>1</td><td>1</td><td>1</td><td>1</td><td>1</td><td>1</td><td>1</td><td>-1</td><td>-1</td><td>1</td><td>0</td><td>1</td><td>1</td><td>1</td><td>-1</td><td>1</td><td>0</td><td>1</td><td>1</td><td>-1</td><td>1</td><td>1</td><td>1</td><td>1</td><td>1</td><td>1</td><td>0</td><td>-1</td><td>NA</td></tr><tr><th>6</th><td>1</td><td>-1</td><td>1</td><td>1</td><td>-1</td><td>1</td><td>0</td><td>1</td><td>1</td><td>1</td><td>1</td><td>1</td><td>1</td><td>1</td><td>0</td><td>-1</td><td>1</td><td>1</td><td>0</td><td>1</td><td>1</td><td>1</td><td>1</td><td>1</td><td>NA</td><td>1</td><td>1</td><td>1</td><td>0</td><td>1</td><td>1</td></tr><tr><th>7</th><td>1</td><td>-1</td><td>1</td><td>1</td><td>1</td><td>-1</td><td>-1</td><td>-1</td><td>-1</td><td>-1</td><td>1</td><td>1</td><td>1</td><td>-1</td><td>1</td><td>-1</td><td>1</td><td>1</td><td>0</td><td>1</td><td>1</td><td>-1</td><td>1</td><td>1</td><td>NA</td><td>-1</td><td>-1</td><td>1</td><td>1</td><td>1</td><td>1</td></tr><tr><th>8</th><td>1</td><td>-1</td><td>1</td><td>1</td><td>1</td><td>-1</td><td>0</td><td>-1</td><td>1</td><td>1</td><td>1</td><td>1</td><td>1</td><td>-1</td><td>1</td><td>-1</td><td>1</td><td>1</td><td>0</td><td>1</td><td>1</td><td>1</td><td>1</td><td>-1</td><td>NA</td><td>-1</td><td>-1</td><td>1</td><td>1</td><td>1</td><td>1</td></tr><tr><th>9</th><td>1</td><td>1</td><td>1</td><td>1</td><td>1</td><td>-1</td><td>0</td><td>0</td><td>1</td><td>1</td><td>1</td><td>1</td><td>1</td><td>-1</td><td>-1</td><td>1</td><td>1</td><td>1</td><td>0</td><td>1</td><td>1</td><td>1</td><td>1</td><td>1</td><td>NA</td><td>-1</td><td>-1</td><td>1</td><td>0</td><td>1</td><td>-1</td></tr><tr><th>10</th><td>1</td><td>-1</td><td>1</td><td>1</td><td>1</td><td>1</td><td>0</td><td>-1</td><td>-1</td><td>1</td><td>1</td><td>1</td><td>0</td><td>-1</td><td>1</td><td>-1</td><td>1</td><td>1</td><td>0</td><td>1</td><td>1</td><td>1</td><td>1</td><td>1</td><td>1</td><td>-1</td><td>1</td><td>-1</td><td>1</td><td>1</td><td>NA</td></tr><tr><th>11</th><td>1</td><td>-1</td><td>1</td><td>1</td><td>1</td><td>1</td><td>1</td><td>1</td><td>1</td><td>1</td><td>1</td><td>1</td><td>1</td><td>0</td><td>-1</td><td>-1</td><td>1</td><td>1</td><td>0</td><td>1</td><td>1</td><td>1</td><td>1</td><td>1</td><td>NA</td><td>0</td><td>1</td><td>1</td><td>0</td><td>1</td><td>1</td></tr><tr><th>12</th><td>1</td><td>1</td><td>1</td><td>1</td><td>1</td><td>-1</td><td>1</td><td>-1</td><td>-1</td><td>1</td><td>1</td><td>1</td><td>1</td><td>-1</td><td>1</td><td>1</td><td>1</td><td>1</td><td>0</td><td>1</td><td>1</td><td>1</td><td>1</td><td>-1</td><td>NA</td><td>-1</td><td>-1</td><td>1</td><td>1</td><td>1</td><td>1</td></tr><tr><th>13</th><td>1</td><td>1</td><td>1</td><td>1</td><td>1</td><td>1</td><td>-1</td><td>1</td><td>1</td><td>-1</td><td>-1</td><td>1</td><td>1</td><td>-1</td><td>1</td><td>1</td><td>-1</td><td>1</td><td>0</td><td>-1</td><td>1</td><td>-1</td><td>-1</td><td>-1</td><td>-1</td><td>-1</td><td>1</td><td>-1</td><td>-1</td><td>1</td><td>NA</td></tr><tr><th>14</th><td>-1</td><td>1</td><td>-1</td><td>1</td><td>-1</td><td>1</td><td>0</td><td>1</td><td>-1</td><td>1</td><td>1</td><td>-1</td><td>1</td><td>1</td><td>1</td><td>-1</td><td>1</td><td>1</td><td>0</td><td>-1</td><td>1</td><td>-1</td><td>1</td><td>1</td><td>-1</td><td>1</td><td>1</td><td>1</td><td>0</td><td>1</td><td>NA</td></tr><tr><th>15</th><td>1</td><td>-1</td><td>1</td><td>1</td><td>1</td><td>1</td><td>0</td><td>1</td><td>1</td><td>1</td><td>1</td><td>1</td><td>1</td><td>-1</td><td>0</td><td>-1</td><td>1</td><td>1</td><td>0</td><td>1</td><td>1</td><td>1</td><td>1</td><td>-1</td><td>1</td><td>-1</td><td>1</td><td>1</td><td>0</td><td>1</td><td>NA</td></tr><tr><th>16</th><td>1</td><td>1</td><td>1</td><td>1</td><td>1</td><td>1</td><td>1</td><td>1</td><td>1</td><td>1</td><td>1</td><td>1</td><td>-1</td><td>1</td><td>1</td><td>1</td><td>1</td><td>1</td><td>0</td><td>1</td><td>1</td><td>1</td><td>1</td><td>1</td><td>1</td><td>1</td><td>1</td><td>-1</td><td>1</td><td>1</td><td>NA</td></tr><tr><th>17</th><td>1</td><td>-1</td><td>1</td><td>1</td><td>1</td><td>-1</td><td>-1</td><td>-1</td><td>1</td><td>1</td><td>1</td><td>1</td><td>1</td><td>1</td><td>-1</td><td>-1</td><td>1</td><td>1</td><td>0</td><td>1</td><td>1</td><td>1</td><td>1</td><td>1</td><td>NA</td><td>1</td><td>-1</td><td>-1</td><td>1</td><td>1</td><td>1</td></tr><tr><th>18</th><td>1</td><td>-1</td><td>1</td><td>-1</td><td>1</td><td>-1</td><td>0</td><td>-1</td><td>-1</td><td>1</td><td>1</td><td>1</td><td>1</td><td>-1</td><td>1</td><td>-1</td><td>1</td><td>1</td><td>0</td><td>1</td><td>1</td><td>1</td><td>1</td><td>-1</td><td>NA</td><td>-1</td><td>-1</td><td>1</td><td>0</td><td>1</td><td>1</td></tr><tr><th>19</th><td>1</td><td>-1</td><td>1</td><td>1</td><td>1</td><td>1</td><td>1</td><td>1</td><td>1</td><td>1</td><td>1</td><td>1</td><td>1</td><td>1</td><td>0</td><td>-1</td><td>1</td><td>1</td><td>0</td><td>1</td><td>1</td><td>1</td><td>1</td><td>1</td><td>NA</td><td>1</td><td>1</td><td>1</td><td>0</td><td>1</td><td>1</td></tr><tr><th>20</th><td>1</td><td>-1</td><td>1</td><td>1</td><td>1</td><td>1</td><td>0</td><td>-1</td><td>1</td><td>1</td><td>1</td><td>1</td><td>1</td><td>-1</td><td>1</td><td>-1</td><td>1</td><td>1</td><td>0</td><td>1</td><td>1</td><td>1</td><td>1</td><td>-1</td><td>NA</td><td>-1</td><td>1</td><td>1</td><td>1</td><td>1</td><td>-1</td></tr><tr><th>21</th><td>1</td><td>-1</td><td>1</td><td>1</td><td>1</td><td>1</td><td>1</td><td>1</td><td>1</td><td>1</td><td>1</td><td>1</td><td>-1</td><td>1</td><td>1</td><td>-1</td><td>1</td><td>1</td><td>0</td><td>1</td><td>1</td><td>1</td><td>1</td><td>1</td><td>1</td><td>-1</td><td>1</td><td>1</td><td>1</td><td>1</td><td>NA</td></tr><tr><th>22</th><td>1</td><td>1</td><td>1</td><td>-1</td><td>1</td><td>-1</td><td>1</td><td>1</td><td>1</td><td>1</td><td>1</td><td>1</td><td>1</td><td>-1</td><td>-1</td><td>1</td><td>1</td><td>1</td><td>0</td><td>1</td><td>1</td><td>1</td><td>1</td><td>1</td><td>NA</td><td>1</td><td>-1</td><td>1</td><td>0</td><td>1</td><td>1</td></tr><tr><th>23</th><td>1</td><td>-1</td><td>1</td><td>1</td><td>1</td><td>1</td><td>0</td><td>1</td><td>1</td><td>1</td><td>1</td><td>1</td><td>-1</td><td>1</td><td>1</td><td>-1</td><td>1</td><td>1</td><td>0</td><td>1</td><td>1</td><td>1</td><td>1</td><td>1</td><td>NA</td><td>1</td><td>1</td><td>-1</td><td>0</td><td>1</td><td>1</td></tr><tr><th>24</th><td>-1</td><td>1</td><td>-1</td><td>1</td><td>-1</td><td>1</td><td>0</td><td>1</td><td>-1</td><td>1</td><td>1</td><td>-1</td><td>0</td><td>1</td><td>1</td><td>1</td><td>1</td><td>-1</td><td>1</td><td>1</td><td>1</td><td>1</td><td>1</td><td>1</td><td>NA</td><td>1</td><td>1</td><td>1</td><td>0</td><td>1</td><td>1</td></tr><tr><th>25</th><td>1</td><td>-1</td><td>1</td><td>1</td><td>1</td><td>-1</td><td>1</td><td>-1</td><td>-1</td><td>1</td><td>1</td><td>1</td><td>0</td><td>-1</td><td>0</td><td>-1</td><td>-1</td><td>1</td><td>0</td><td>1</td><td>1</td><td>1</td><td>1</td><td>1</td><td>1</td><td>0</td><td>1</td><td>1</td><td>1</td><td>1</td><td>NA</td></tr><tr><th>26</th><td>1</td><td>-1</td><td>1</td><td>-1</td><td>1</td><td>1</td><td>1</td><td>1</td><td>1</td><td>1</td><td>1</td><td>1</td><td>1</td><td>1</td><td>-1</td><td>-1</td><td>1</td><td>1</td><td>0</td><td>1</td><td>1</td><td>1</td><td>1</td><td>1</td><td>-1</td><td>1</td><td>1</td><td>1</td><td>0</td><td>1</td><td>NA</td></tr><tr><th>27</th><td>1</td><td>-1</td><td>1</td><td>1</td><td>1</td><td>1</td><td>0</td><td>1</td><td>1</td><td>1</td><td>1</td><td>1</td><td>-1</td><td>1</td><td>1</td><td>-1</td><td>1</td><td>1</td><td>0</td><td>1</td><td>1</td><td>1</td><td>1</td><td>1</td><td>NA</td><td>1</td><td>1</td><td>1</td><td>1</td><td>1</td><td>1</td></tr><tr><th>28</th><td>1</td><td>-1</td><td>1</td><td>1</td><td>1</td><td>1</td><td>0</td><td>1</td><td>1</td><td>1</td><td>1</td><td>1</td><td>-1</td><td>1</td><td>1</td><td>-1</td><td>1</td><td>1</td><td>0</td><td>1</td><td>1</td><td>1</td><td>1</td><td>-1</td><td>NA</td><td>1</td><td>1</td><td>1</td><td>0</td><td>1</td><td>1</td></tr><tr><th>29</th><td>1</td><td>-1</td><td>1</td><td>1</td><td>1</td><td>1</td><td>0</td><td>1</td><td>1</td><td>1</td><td>1</td><td>-1</td><td>1</td><td>1</td><td>1</td><td>-1</td><td>1</td><td>1</td><td>0</td><td>1</td><td>1</td><td>1</td><td>1</td><td>1</td><td>1</td><td>-1</td><td>1</td><td>-1</td><td>0</td><td>1</td><td>NA</td></tr><tr><th>30</th><td>1</td><td>-1</td><td>1</td><td>1</td><td>1</td><td>1</td><td>0</td><td>1</td><td>1</td><td>1</td><td>1</td><td>1</td><td>1</td><td>-1</td><td>0</td><td>-1</td><td>1</td><td>1</td><td>0</td><td>1</td><td>1</td><td>1</td><td>1</td><td>1</td><td>1</td><td>1</td><td>1</td><td>1</td><td>0</td><td>1</td><td>NA</td></tr><tr><th>&vellip;</th><td>&vellip;</td><td>&vellip;</td><td>&vellip;</td><td>&vellip;</td><td>&vellip;</td><td>&vellip;</td><td>&vellip;</td><td>&vellip;</td><td>&vellip;</td><td>&vellip;</td><td>&vellip;</td><td>&vellip;</td><td>&vellip;</td><td>&vellip;</td><td>&vellip;</td><td>&vellip;</td><td>&vellip;</td><td>&vellip;</td><td>&vellip;</td><td>&vellip;</td><td>&vellip;</td><td>&vellip;</td><td>&vellip;</td><td>&vellip;</td><td>&vellip;</td><td>&vellip;</td><td>&vellip;</td><td>&vellip;</td><td>&vellip;</td><td>&vellip;</td><td>&vellip;</td></tr></tbody></table>"
      ],
      "text/plain": [
       "5124×31 DataFrames.DataFrame\n",
       "│ Row  │ having_IP_Address │ URL_Length │ Shortining_Service │\n",
       "├──────┼───────────────────┼────────────┼────────────────────┤\n",
       "│ 1    │ 1                 │ -1         │ 1                  │\n",
       "│ 2    │ 1                 │ 1          │ 1                  │\n",
       "│ 3    │ 1                 │ -1         │ 1                  │\n",
       "│ 4    │ -1                │ -1         │ -1                 │\n",
       "│ 5    │ 1                 │ 1          │ 1                  │\n",
       "│ 6    │ 1                 │ -1         │ 1                  │\n",
       "│ 7    │ 1                 │ -1         │ 1                  │\n",
       "│ 8    │ 1                 │ -1         │ 1                  │\n",
       "│ 9    │ 1                 │ 1          │ 1                  │\n",
       "│ 10   │ 1                 │ -1         │ 1                  │\n",
       "│ 11   │ 1                 │ -1         │ 1                  │\n",
       "⋮\n",
       "│ 5113 │ 1                 │ -1         │ 1                  │\n",
       "│ 5114 │ 1                 │ -1         │ 1                  │\n",
       "│ 5115 │ 1                 │ -1         │ 1                  │\n",
       "│ 5116 │ 1                 │ 1          │ 1                  │\n",
       "│ 5117 │ 1                 │ -1         │ 1                  │\n",
       "│ 5118 │ 1                 │ -1         │ 1                  │\n",
       "│ 5119 │ 1                 │ -1         │ 1                  │\n",
       "│ 5120 │ -1                │ -1         │ -1                 │\n",
       "│ 5121 │ 1                 │ -1         │ 1                  │\n",
       "│ 5122 │ 1                 │ -1         │ 1                  │\n",
       "│ 5123 │ 1                 │ -1         │ 1                  │\n",
       "│ 5124 │ 1                 │ -1         │ 1                  │\n",
       "\n",
       "│ Row  │ having_At_Symbol │ double_slash_redirecting │ Prefix_Suffix │\n",
       "├──────┼──────────────────┼──────────────────────────┼───────────────┤\n",
       "│ 1    │ 1                │ 1                        │ 1             │\n",
       "│ 2    │ 1                │ 1                        │ 1             │\n",
       "│ 3    │ -1               │ 1                        │ 1             │\n",
       "│ 4    │ 1                │ -1                       │ 1             │\n",
       "│ 5    │ 1                │ 1                        │ 1             │\n",
       "│ 6    │ 1                │ -1                       │ 1             │\n",
       "│ 7    │ 1                │ 1                        │ -1            │\n",
       "│ 8    │ 1                │ 1                        │ -1            │\n",
       "│ 9    │ 1                │ 1                        │ -1            │\n",
       "│ 10   │ 1                │ 1                        │ 1             │\n",
       "│ 11   │ 1                │ 1                        │ 1             │\n",
       "⋮\n",
       "│ 5113 │ 1                │ 1                        │ 1             │\n",
       "│ 5114 │ 1                │ 1                        │ -1            │\n",
       "│ 5115 │ 1                │ 1                        │ 1             │\n",
       "│ 5116 │ 1                │ 1                        │ 1             │\n",
       "│ 5117 │ 1                │ 1                        │ -1            │\n",
       "│ 5118 │ 1                │ 1                        │ 1             │\n",
       "│ 5119 │ 1                │ 1                        │ 1             │\n",
       "│ 5120 │ 1                │ -1                       │ 1             │\n",
       "│ 5121 │ 1                │ 1                        │ 1             │\n",
       "│ 5122 │ 1                │ 1                        │ -1            │\n",
       "│ 5123 │ 1                │ 1                        │ -1            │\n",
       "│ 5124 │ 1                │ 1                        │ 1             │\n",
       "\n",
       "│ Row  │ having_Sub_Domain │ SSLfinal_State │ Domain_registeration_length │\n",
       "├──────┼───────────────────┼────────────────┼─────────────────────────────┤\n",
       "│ 1    │ 0                 │ -1             │ -1                          │\n",
       "│ 2    │ 0                 │ 1              │ 1                           │\n",
       "│ 3    │ 1                 │ 1              │ 1                           │\n",
       "│ 4    │ 1                 │ 1              │ 1                           │\n",
       "│ 5    │ 1                 │ 1              │ 1                           │\n",
       "│ 6    │ 0                 │ 1              │ 1                           │\n",
       "│ 7    │ -1                │ -1             │ -1                          │\n",
       "│ 8    │ 0                 │ -1             │ 1                           │\n",
       "│ 9    │ 0                 │ 0              │ 1                           │\n",
       "│ 10   │ 0                 │ -1             │ -1                          │\n",
       "│ 11   │ 1                 │ 1              │ 1                           │\n",
       "⋮\n",
       "│ 5113 │ -1                │ 1              │ 1                           │\n",
       "│ 5114 │ 0                 │ -1             │ -1                          │\n",
       "│ 5115 │ 1                 │ 1              │ 1                           │\n",
       "│ 5116 │ 1                 │ 1              │ 1                           │\n",
       "│ 5117 │ 1                 │ -1             │ -1                          │\n",
       "│ 5118 │ 1                 │ 1              │ 1                           │\n",
       "│ 5119 │ 1                 │ 1              │ 1                           │\n",
       "│ 5120 │ 1                 │ 1              │ 1                           │\n",
       "│ 5121 │ 1                 │ 1              │ 1                           │\n",
       "│ 5122 │ 1                 │ -1             │ 1                           │\n",
       "│ 5123 │ 1                 │ -1             │ -1                          │\n",
       "│ 5124 │ 0                 │ 1              │ 1                           │\n",
       "\n",
       "│ Row  │ Favicon │ port │ HTTPS_token │ Request_URL │ URL_of_Anchor │\n",
       "├──────┼─────────┼──────┼─────────────┼─────────────┼───────────────┤\n",
       "│ 1    │ 1       │ 1    │ -1          │ -1          │ -1            │\n",
       "│ 2    │ 1       │ 1    │ 1           │ 1           │ -1            │\n",
       "│ 3    │ 1       │ 1    │ 1           │ 1           │ 1             │\n",
       "│ 4    │ 1       │ 1    │ -1          │ 1           │ 1             │\n",
       "│ 5    │ -1      │ -1   │ 1           │ 0           │ 1             │\n",
       "│ 6    │ 1       │ 1    │ 1           │ 1           │ 1             │\n",
       "│ 7    │ -1      │ 1    │ 1           │ 1           │ -1            │\n",
       "│ 8    │ 1       │ 1    │ 1           │ 1           │ -1            │\n",
       "│ 9    │ 1       │ 1    │ 1           │ 1           │ -1            │\n",
       "│ 10   │ 1       │ 1    │ 1           │ 0           │ -1            │\n",
       "│ 11   │ 1       │ 1    │ 1           │ 1           │ 0             │\n",
       "⋮\n",
       "│ 5113 │ 1       │ 1    │ -1          │ 1           │ 1             │\n",
       "│ 5114 │ 1       │ 1    │ 1           │ 1           │ -1            │\n",
       "│ 5115 │ 1       │ 1    │ 1           │ 0           │ 1             │\n",
       "│ 5116 │ 1       │ 1    │ 1           │ 1           │ 1             │\n",
       "│ 5117 │ 1       │ 1    │ 1           │ 0           │ -1            │\n",
       "│ 5118 │ 1       │ 1    │ 1           │ 0           │ 1             │\n",
       "│ 5119 │ 1       │ 1    │ 1           │ 1           │ 1             │\n",
       "│ 5120 │ 1       │ 1    │ -1          │ 1           │ 1             │\n",
       "│ 5121 │ 1       │ 1    │ -1          │ -1          │ 1             │\n",
       "│ 5122 │ 1       │ 1    │ 1           │ -1          │ -1            │\n",
       "│ 5123 │ 1       │ 1    │ 1           │ 1           │ -1            │\n",
       "│ 5124 │ 1       │ 1    │ 1           │ 1           │ 1             │\n",
       "\n",
       "│ Row  │ Links_in_tags │ SFH │ Submitting_to_email │ Abnormal_URL │ Redirect │\n",
       "├──────┼───────────────┼─────┼─────────────────────┼──────────────┼──────────┤\n",
       "│ 1    │ 1             │ -1  │ 1                   │ 1            │ 0        │\n",
       "│ 2    │ -1            │ 1   │ 1                   │ 1            │ 0        │\n",
       "│ 3    │ -1            │ -1  │ 1                   │ 1            │ 0        │\n",
       "│ 4    │ 0             │ -1  │ 1                   │ -1           │ 1        │\n",
       "│ 5    │ 1             │ 1   │ -1                  │ 1            │ 0        │\n",
       "│ 6    │ 0             │ -1  │ 1                   │ 1            │ 0        │\n",
       "│ 7    │ 1             │ -1  │ 1                   │ 1            │ 0        │\n",
       "│ 8    │ 1             │ -1  │ 1                   │ 1            │ 0        │\n",
       "│ 9    │ -1            │ 1   │ 1                   │ 1            │ 0        │\n",
       "│ 10   │ 1             │ -1  │ 1                   │ 1            │ 0        │\n",
       "│ 11   │ -1            │ -1  │ 1                   │ 1            │ 0        │\n",
       "⋮\n",
       "│ 5113 │ 0             │ -1  │ 1                   │ 1            │ 0        │\n",
       "│ 5114 │ 1             │ -1  │ 1                   │ 1            │ 0        │\n",
       "│ 5115 │ 1             │ -1  │ 1                   │ 1            │ 0        │\n",
       "│ 5116 │ 0             │ 1   │ 1                   │ 1            │ 0        │\n",
       "│ 5117 │ 1             │ -1  │ 1                   │ 1            │ 0        │\n",
       "│ 5118 │ 0             │ -1  │ 1                   │ 1            │ 0        │\n",
       "│ 5119 │ 0             │ -1  │ -1                  │ 1            │ 0        │\n",
       "│ 5120 │ -1            │ -1  │ 1                   │ -1           │ 1        │\n",
       "│ 5121 │ 1             │ -1  │ 1                   │ -1           │ 0        │\n",
       "│ 5122 │ -1            │ -1  │ 1                   │ 1            │ 0        │\n",
       "│ 5123 │ 1             │ -1  │ 1                   │ 1            │ 0        │\n",
       "│ 5124 │ -1            │ -1  │ 1                   │ 1            │ 0        │\n",
       "\n",
       "│ Row  │ on_mouseover │ RightClick │ popUpWidnow │ Iframe │ age_of_domain │\n",
       "├──────┼──────────────┼────────────┼─────────────┼────────┼───────────────┤\n",
       "│ 1    │ 1            │ 1          │ 1           │ 1      │ -1            │\n",
       "│ 2    │ 1            │ 1          │ 1           │ 1      │ -1            │\n",
       "│ 3    │ 1            │ 1          │ 1           │ 1      │ 1             │\n",
       "│ 4    │ 1            │ 1          │ 1           │ 1      │ 1             │\n",
       "│ 5    │ 1            │ 1          │ -1          │ 1      │ 1             │\n",
       "│ 6    │ 1            │ 1          │ 1           │ 1      │ 1             │\n",
       "│ 7    │ 1            │ 1          │ -1          │ 1      │ 1             │\n",
       "│ 8    │ 1            │ 1          │ 1           │ 1      │ -1            │\n",
       "│ 9    │ 1            │ 1          │ 1           │ 1      │ 1             │\n",
       "│ 10   │ 1            │ 1          │ 1           │ 1      │ 1             │\n",
       "│ 11   │ 1            │ 1          │ 1           │ 1      │ 1             │\n",
       "⋮\n",
       "│ 5113 │ 1            │ 1          │ 1           │ 1      │ 1             │\n",
       "│ 5114 │ 1            │ 1          │ 1           │ 1      │ 1             │\n",
       "│ 5115 │ 1            │ 1          │ 1           │ 1      │ 1             │\n",
       "│ 5116 │ 1            │ 1          │ 1           │ 1      │ 1             │\n",
       "│ 5117 │ 1            │ 1          │ 1           │ 1      │ 1             │\n",
       "│ 5118 │ 1            │ 1          │ 1           │ 1      │ 1             │\n",
       "│ 5119 │ 1            │ 1          │ 1           │ 1      │ 1             │\n",
       "│ 5120 │ 1            │ 1          │ 1           │ 1      │ 1             │\n",
       "│ 5121 │ 1            │ 1          │ 1           │ 1      │ 1             │\n",
       "│ 5122 │ 1            │ 1          │ 1           │ 1      │ -1            │\n",
       "│ 5123 │ 1            │ 1          │ 1           │ 1      │ -1            │\n",
       "│ 5124 │ 1            │ 1          │ 1           │ 1      │ 1             │\n",
       "\n",
       "│ Row  │ DNSRecord │ web_traffic │ Page_Rank │ Google_Index │\n",
       "├──────┼───────────┼─────────────┼───────────┼──────────────┤\n",
       "│ 1    │ -1        │ -1          │ 1         │ 1            │\n",
       "│ 2    │ -1        │ -1          │ 1         │ 1            │\n",
       "│ 3    │ NA        │ 1           │ 1         │ 1            │\n",
       "│ 4    │ NA        │ 1           │ 1         │ 1            │\n",
       "│ 5    │ 1         │ 1           │ 1         │ 1            │\n",
       "│ 6    │ NA        │ 1           │ 1         │ 1            │\n",
       "│ 7    │ NA        │ -1          │ -1        │ 1            │\n",
       "│ 8    │ NA        │ -1          │ -1        │ 1            │\n",
       "│ 9    │ NA        │ -1          │ -1        │ 1            │\n",
       "│ 10   │ 1         │ -1          │ 1         │ -1           │\n",
       "│ 11   │ NA        │ 0           │ 1         │ 1            │\n",
       "⋮\n",
       "│ 5113 │ NA        │ 0           │ 1         │ 1            │\n",
       "│ 5114 │ NA        │ -1          │ 1         │ 1            │\n",
       "│ 5115 │ NA        │ 1           │ 1         │ 1            │\n",
       "│ 5116 │ NA        │ 1           │ 1         │ 1            │\n",
       "│ 5117 │ 1         │ -1          │ -1        │ 1            │\n",
       "│ 5118 │ 1         │ -1          │ 1         │ 1            │\n",
       "│ 5119 │ 1         │ -1          │ 1         │ -1           │\n",
       "│ 5120 │ NA        │ 1           │ -1        │ 1            │\n",
       "│ 5121 │ 1         │ -1          │ 1         │ 1            │\n",
       "│ 5122 │ 1         │ -1          │ -1        │ -1           │\n",
       "│ 5123 │ -1        │ -1          │ -1        │ 1            │\n",
       "│ 5124 │ -1        │ 1           │ -1        │ 1            │\n",
       "\n",
       "│ Row  │ Links_pointing_to_page │ Statistical_report │ DNS │\n",
       "├──────┼────────────────────────┼────────────────────┼─────┤\n",
       "│ 1    │ -1                     │ 1                  │ NA  │\n",
       "│ 2    │ 0                      │ 1                  │ NA  │\n",
       "│ 3    │ 0                      │ 1                  │ -1  │\n",
       "│ 4    │ 0                      │ 1                  │ 1   │\n",
       "│ 5    │ 0                      │ -1                 │ NA  │\n",
       "│ 6    │ 0                      │ 1                  │ 1   │\n",
       "│ 7    │ 1                      │ 1                  │ 1   │\n",
       "│ 8    │ 1                      │ 1                  │ 1   │\n",
       "│ 9    │ 0                      │ 1                  │ -1  │\n",
       "│ 10   │ 1                      │ 1                  │ NA  │\n",
       "│ 11   │ 0                      │ 1                  │ 1   │\n",
       "⋮\n",
       "│ 5113 │ 1                      │ 1                  │ 1   │\n",
       "│ 5114 │ 1                      │ 1                  │ 1   │\n",
       "│ 5115 │ 0                      │ 1                  │ 1   │\n",
       "│ 5116 │ 0                      │ 1                  │ 1   │\n",
       "│ 5117 │ 0                      │ 1                  │ NA  │\n",
       "│ 5118 │ 1                      │ 1                  │ NA  │\n",
       "│ 5119 │ -1                     │ 1                  │ NA  │\n",
       "│ 5120 │ 1                      │ 1                  │ 1   │\n",
       "│ 5121 │ 1                      │ -1                 │ NA  │\n",
       "│ 5122 │ 0                      │ 1                  │ NA  │\n",
       "│ 5123 │ 1                      │ 1                  │ NA  │\n",
       "│ 5124 │ 0                      │ 1                  │ NA  │"
      ]
     },
     "execution_count": 152,
     "metadata": {},
     "output_type": "execute_result"
    }
   ],
   "source": [
    "y = convert(Array, dataset[:Result]);\n",
    "\n",
    "\n",
    "X = delete!(dataset, :Result)"
   ]
  },
  {
   "cell_type": "code",
   "execution_count": 153,
   "metadata": {},
   "outputs": [
    {
     "data": {
      "text/plain": [
       "5124×31 Array{Int64,2}:\n",
       "  1  -1   1   1   1   1   0  -1  -1  …   1  -1  -1  -1   1   1  -1   1   1\n",
       "  1   1   1   1   1   1   0   1   1      1  -1  -1  -1   1   1   0   1   1\n",
       "  1  -1   1  -1   1   1   1   1   1      1   1   1   1   1   1   0   1  -1\n",
       " -1  -1  -1   1  -1   1   1   1   1      1   1   1   1   1   1   0   1   1\n",
       "  1   1   1   1   1   1   1   1   1      1   1   1   1   1   1   0  -1   1\n",
       "  1  -1   1   1  -1   1   0   1   1  …   1   1   1   1   1   1   0   1   1\n",
       "  1  -1   1   1   1  -1  -1  -1  -1      1   1   1  -1  -1   1   1   1   1\n",
       "  1  -1   1   1   1  -1   0  -1   1      1  -1   1  -1  -1   1   1   1   1\n",
       "  1   1   1   1   1  -1   0   0   1      1   1   1  -1  -1   1   0   1  -1\n",
       "  1  -1   1   1   1   1   0  -1  -1      1   1   1  -1   1  -1   1   1   1\n",
       "  1  -1   1   1   1   1   1   1   1  …   1   1   1   0   1   1   0   1   1\n",
       "  1   1   1   1   1  -1   1  -1  -1      1  -1   1  -1  -1   1   1   1   1\n",
       "  1   1   1   1   1   1  -1   1   1     -1  -1  -1  -1   1  -1  -1   1   1\n",
       "  ⋮                   ⋮              ⋱               ⋮                   ⋮\n",
       "  1  -1   1   1   1   1  -1   1   1      1   1   1   0   1   1   1   1   1\n",
       "  1  -1   1   1   1  -1   0  -1  -1      1   1   1  -1   1   1   1   1   1\n",
       "  1  -1   1   1   1   1   1   1   1      1   1   1   1   1   1   0   1   1\n",
       "  1   1   1   1   1   1   1   1   1  …   1   1   1   1   1   1   0   1   1\n",
       "  1  -1   1   1   1  -1   1  -1  -1      1   1   1  -1  -1   1   0   1   1\n",
       "  1  -1   1   1   1   1   1   1   1      1   1   1  -1   1   1   1   1   1\n",
       "  1  -1   1   1   1   1   1   1   1      1   1   1  -1   1  -1  -1   1   1\n",
       " -1  -1  -1   1  -1   1   1   1   1      1   1   1   1  -1   1   1   1   1\n",
       "  1  -1   1   1   1   1   1   1   1  …   1   1   1  -1   1   1   1  -1   1\n",
       "  1  -1   1   1   1  -1   1  -1   1      1  -1   1  -1  -1  -1   0   1   1\n",
       "  1  -1   1   1   1  -1   1  -1  -1      1  -1  -1  -1  -1   1   1   1   1\n",
       "  1  -1   1   1   1   1   0   1   1      1   1  -1   1  -1   1   0   1   1"
      ]
     },
     "execution_count": 153,
     "metadata": {},
     "output_type": "execute_result"
    }
   ],
   "source": [
    "colnumbers = [x for x in 1:31]\n",
    "cnt = zeros(3)\n",
    "for i in colnumbers\n",
    "     cnt = zeros(3)\n",
    "     for entry in X[i]\n",
    "         if !isna.(entry)\n",
    "             cnt[entry+2] += 1\n",
    "         end\n",
    "     end\n",
    "     X[isna.(X[i]), i] = findmax(cnt)[2]-2\n",
    "    \n",
    "end\n",
    "X = Array(X)"
   ]
  },
  {
   "cell_type": "code",
   "execution_count": 154,
   "metadata": {
    "collapsed": true
   },
   "outputs": [],
   "source": [
    "Xtrain = X[1:4000,:]\n",
    "Xtest = X[4001:end,:]\n",
    "ytrain = y[1:4000]\n",
    "ytest = y[4001:end];"
   ]
  },
  {
   "cell_type": "code",
   "execution_count": 155,
   "metadata": {
    "collapsed": true
   },
   "outputs": [],
   "source": [
    "using ScikitLearn: fit!, predict"
   ]
  },
  {
   "cell_type": "code",
   "execution_count": 156,
   "metadata": {},
   "outputs": [
    {
     "name": "stderr",
     "output_type": "stream",
     "text": [
      "\u001b[1m\u001b[36mINFO: \u001b[39m\u001b[22m\u001b[36mPackage DecisionTree is already installed\n",
      "\u001b[39m\u001b[1m\u001b[36mINFO: \u001b[39m\u001b[22m\u001b[36mMETADATA is out-of-date — you may not have the latest version of DecisionTree\n",
      "\u001b[39m\u001b[1m\u001b[36mINFO: \u001b[39m\u001b[22m\u001b[36mUse `Pkg.update()` to get the latest versions of your packages\n",
      "\u001b[39mWARNING: redefining constant StandardScaler\n",
      "WARNING: redefining constant KNeighborsClassifier\n",
      "WARNING: redefining constant SVC\n",
      "WARNING: redefining constant GaussianNB\n",
      "WARNING: redefining constant LinearDiscriminantAnalysis\n",
      "WARNING: redefining constant QuadraticDiscriminantAnalysis\n"
     ]
    }
   ],
   "source": [
    "Pkg.add(\"DecisionTree\")\n",
    "\n",
    "using ScikitLearn\n",
    "using PyCall\n",
    "using PyPlot\n",
    "using ScikitLearn.CrossValidation: train_test_split\n",
    "using DecisionTree\n",
    "\n",
    "#using ScikitLearn.Models: DecisionTreeClassifier, RandomForestClassifier, AdaBoostStumpClassifier\n",
    "@pyimport matplotlib.colors as mplc\n",
    "@sk_import preprocessing: StandardScaler\n",
    "@sk_import neighbors: KNeighborsClassifier\n",
    "@sk_import svm: SVC\n",
    "@sk_import naive_bayes: GaussianNB\n",
    "@sk_import discriminant_analysis: (LinearDiscriminantAnalysis, QuadraticDiscriminantAnalysis)\n",
    "using ScikitLearn.Utils: meshgrid"
   ]
  },
  {
   "cell_type": "code",
   "execution_count": 157,
   "metadata": {},
   "outputs": [
    {
     "name": "stderr",
     "output_type": "stream",
     "text": [
      "WARNING: redefining constant LogisticRegression\n"
     ]
    },
    {
     "data": {
      "text/plain": [
       "PyObject <class 'sklearn.linear_model.logistic.LogisticRegression'>"
      ]
     },
     "execution_count": 157,
     "metadata": {},
     "output_type": "execute_result"
    }
   ],
   "source": [
    "@sk_import linear_model: LogisticRegression"
   ]
  },
  {
   "cell_type": "code",
   "execution_count": 158,
   "metadata": {},
   "outputs": [
    {
     "name": "stdout",
     "output_type": "stream",
     "text": [
      "Best parameters: Dict{Symbol,Any}(Pair{Symbol,Any}(:C, 1.0))\n"
     ]
    }
   ],
   "source": [
    "using ScikitLearn.GridSearch: GridSearchCV\n",
    "gridsearch = GridSearchCV(LogisticRegression(penalty = \"l1\"), Dict(:C => 0.1:0.1:2.0))\n",
    "fit!(gridsearch, Xtest, ytest)\n",
    "println(\"Best parameters: $(gridsearch.best_params_)\")"
   ]
  },
  {
   "cell_type": "code",
   "execution_count": 159,
   "metadata": {},
   "outputs": [
    {
     "name": "stdout",
     "output_type": "stream",
     "text": [
      "Best parameters: Dict{Symbol,Any}(Pair{Symbol,Any}(:C, 1.1))\n"
     ]
    }
   ],
   "source": [
    "using ScikitLearn.GridSearch: GridSearchCV\n",
    "gridsearch = GridSearchCV(LogisticRegression(penalty = \"l2\"), Dict(:C => 0.1:0.1:2.0))\n",
    "fit!(gridsearch, Xtest, ytest)\n",
    "println(\"Best parameters: $(gridsearch.best_params_)\")"
   ]
  },
  {
   "cell_type": "code",
   "execution_count": 160,
   "metadata": {},
   "outputs": [
    {
     "data": {
      "text/plain": [
       "0.9288256227758007"
      ]
     },
     "execution_count": 160,
     "metadata": {},
     "output_type": "execute_result"
    }
   ],
   "source": [
    "log = LogisticRegression(C = 0.5, penalty = \"l1\", fit_intercept=true, max_iter = 100)\n",
    "fit!(log, Xtrain, ytrain)\n",
    "#model0 = fit(model, X, y)\n",
    "ylog = predict(log,Xtest) #the output vector of predictions\n",
    "accuracy = count(ylog .== ytest)/length(ytest)\n",
    "#accuracy = sum(predict(log, Xtest) .== ytest) / length(ytest)\n",
    "#println(\"accuracy: $accuracy\")"
   ]
  },
  {
   "cell_type": "code",
   "execution_count": 161,
   "metadata": {},
   "outputs": [
    {
     "name": "stdout",
     "output_type": "stream",
     "text": [
      "0.023131672597864767\n",
      "0.04804270462633452\n"
     ]
    }
   ],
   "source": [
    "false_neg = 0 \n",
    "false_pos = 0 \n",
    "sum = 0 \n",
    "for i=1:length(ylog)\n",
    "    if ytest[i] != ylog[i]\n",
    "        sum+=1\n",
    "        if (ytest[i] == 1 && ylog[i] == -1)\n",
    "            false_neg += 1\n",
    "        else\n",
    "            false_pos += 1\n",
    "        end\n",
    "    end\n",
    "end\n",
    "println(false_neg/length(ylog))\n",
    "println(false_pos/length(ylog))"
   ]
  },
  {
   "cell_type": "code",
   "execution_count": 162,
   "metadata": {},
   "outputs": [
    {
     "data": {
      "text/plain": [
       "0.9288256227758007"
      ]
     },
     "execution_count": 162,
     "metadata": {},
     "output_type": "execute_result"
    }
   ],
   "source": [
    "log2 = LogisticRegression(C = 0.1, penalty = \"l2\", fit_intercept=true)\n",
    "fit!(log2, Xtrain, ytrain)\n",
    "#model0 = fit(model, X, y)\n",
    "ylog2 = predict(log2,Xtest) #the output vector of predictions\n",
    "accuracy = count(ylog .== ytest)/length(ytest)\n",
    "#accuracy = sum(predict(log, Xtest) .== ytest) / length(ytest)\n",
    "#println(\"accuracy: $accuracy\")\n"
   ]
  },
  {
   "cell_type": "code",
   "execution_count": 163,
   "metadata": {},
   "outputs": [
    {
     "data": {
      "text/plain": [
       "PyObject LogisticRegression(C=0.5, class_weight=None, dual=False, fit_intercept=True,\n",
       "          intercept_scaling=1, max_iter=100, multi_class='ovr', n_jobs=1,\n",
       "          penalty='l1', random_state=None, solver='liblinear', tol=0.0001,\n",
       "          verbose=0, warm_start=False)"
      ]
     },
     "execution_count": 163,
     "metadata": {},
     "output_type": "execute_result"
    }
   ],
   "source": [
    "log"
   ]
  },
  {
   "cell_type": "code",
   "execution_count": 164,
   "metadata": {},
   "outputs": [
    {
     "name": "stdout",
     "output_type": "stream",
     "text": [
      "0.021352313167259787\n",
      "0.04804270462633452\n"
     ]
    }
   ],
   "source": [
    "false_neg = 0 \n",
    "false_pos = 0 \n",
    "for i=1:length(ylog2)\n",
    "    if ytest[i] != ylog2[i]\n",
    "        sum+=1\n",
    "        if (ytest[i] == 1 && ylog2[i] == -1)\n",
    "            false_neg += 1\n",
    "        else\n",
    "            false_pos += 1\n",
    "        end\n",
    "    end\n",
    "end\n",
    "println(false_neg/length(ylog))\n",
    "println(false_pos/length(ylog))"
   ]
  },
  {
   "cell_type": "code",
   "execution_count": 121,
   "metadata": {},
   "outputs": [
    {
     "data": {
      "text/plain": [
       "1124×2 Array{Float64,2}:\n",
       " 0.999882    0.00011765 \n",
       " 0.0840002   0.916      \n",
       " 0.987093    0.0129068  \n",
       " 0.0837364   0.916264   \n",
       " 0.964591    0.0354094  \n",
       " 0.999599    0.000400872\n",
       " 0.759044    0.240956   \n",
       " 0.999581    0.000419481\n",
       " 0.99484     0.00516012 \n",
       " 0.0151919   0.984808   \n",
       " 0.0389244   0.961076   \n",
       " 0.982016    0.0179842  \n",
       " 0.243416    0.756584   \n",
       " ⋮                      \n",
       " 0.990825    0.0091746  \n",
       " 0.152096    0.847904   \n",
       " 0.902249    0.0977508  \n",
       " 0.892436    0.107564   \n",
       " 0.0807093   0.919291   \n",
       " 0.0186492   0.981351   \n",
       " 0.0557226   0.944277   \n",
       " 0.00947892  0.990521   \n",
       " 0.999332    0.000668146\n",
       " 0.999141    0.000858521\n",
       " 0.019575    0.980425   \n",
       " 0.268124    0.731876   "
      ]
     },
     "execution_count": 121,
     "metadata": {},
     "output_type": "execute_result"
    }
   ],
   "source": [
    "#the probabilities of either -1 (first column) or 1 (second column)\n",
    "p = predict_proba(log, Xtest)"
   ]
  },
  {
   "cell_type": "code",
   "execution_count": 122,
   "metadata": {},
   "outputs": [
    {
     "name": "stdout",
     "output_type": "stream",
     "text": [
      "  0.850798 seconds (5.14 k allocations: 19.383 MiB, 4.43% gc time)\n"
     ]
    },
    {
     "data": {
      "text/plain": [
       "10-element Array{Float64,1}:\n",
       " 0.937622\n",
       " 0.937622\n",
       " 0.931774\n",
       " 0.94152 \n",
       " 0.933723\n",
       " 0.945419\n",
       " 0.945313\n",
       " 0.933594\n",
       " 0.90998 \n",
       " 0.908023"
      ]
     },
     "execution_count": 122,
     "metadata": {},
     "output_type": "execute_result"
    }
   ],
   "source": [
    "using ScikitLearn.CrossValidation: cross_val_score\n",
    "\n",
    "@time cv1 = cross_val_score(LogisticRegression(C=0.5, penalty = \"l1\"), X, y; cv = 10)"
   ]
  },
  {
   "cell_type": "code",
   "execution_count": 123,
   "metadata": {
    "scrolled": true
   },
   "outputs": [
    {
     "data": {
      "text/plain": [
       "Summary Stats:\n",
       "Mean:           0.932459\n",
       "Minimum:        0.908023\n",
       "1st Quartile:   0.932229\n",
       "Median:         0.935673\n",
       "3rd Quartile:   0.940546\n",
       "Maximum:        0.945419\n"
      ]
     },
     "execution_count": 123,
     "metadata": {},
     "output_type": "execute_result"
    }
   ],
   "source": [
    "using StatsBase, StatsFuns, StreamStats\n",
    "summarystats(cv1)"
   ]
  },
  {
   "cell_type": "code",
   "execution_count": 124,
   "metadata": {},
   "outputs": [
    {
     "name": "stdout",
     "output_type": "stream",
     "text": [
      "  0.500154 seconds (4.93 k allocations: 19.380 MiB, 36.38% gc time)\n"
     ]
    },
    {
     "data": {
      "text/plain": [
       "10-element Array{Float64,1}:\n",
       " 0.935673\n",
       " 0.94152 \n",
       " 0.927875\n",
       " 0.937622\n",
       " 0.927875\n",
       " 0.94347 \n",
       " 0.947266\n",
       " 0.935547\n",
       " 0.915851\n",
       " 0.911937"
      ]
     },
     "execution_count": 124,
     "metadata": {},
     "output_type": "execute_result"
    }
   ],
   "source": [
    "@time cv2 = cross_val_score(LogisticRegression(C=0.1, penalty = \"l2\"), X, y; cv=10)"
   ]
  },
  {
   "cell_type": "code",
   "execution_count": 125,
   "metadata": {},
   "outputs": [
    {
     "data": {
      "text/plain": [
       "Summary Stats:\n",
       "Mean:           0.932464\n",
       "Minimum:        0.911937\n",
       "1st Quartile:   0.927875\n",
       "Median:         0.935610\n",
       "3rd Quartile:   0.940546\n",
       "Maximum:        0.947266\n"
      ]
     },
     "execution_count": 125,
     "metadata": {},
     "output_type": "execute_result"
    }
   ],
   "source": [
    "summarystats(cv2)"
   ]
  },
  {
   "cell_type": "markdown",
   "metadata": {},
   "source": [
    "# proximal gradient method "
   ]
  },
  {
   "cell_type": "code",
   "execution_count": 126,
   "metadata": {
    "collapsed": true
   },
   "outputs": [],
   "source": [
    "using LowRankModels"
   ]
  },
  {
   "cell_type": "code",
   "execution_count": 127,
   "metadata": {},
   "outputs": [
    {
     "data": {
      "text/plain": [
       "grad (generic function with 20 methods)"
      ]
     },
     "execution_count": 127,
     "metadata": {},
     "output_type": "execute_result"
    }
   ],
   "source": [
    "import LowRankModels: evaluate, grad\n",
    "evaluate(loss::Loss, X::Array{Float64,2}, w, y) = evaluate(loss, X*w, y)\n",
    "grad(loss::Loss, X::Array{Float64,2}, w, y) = X'*grad(loss, X*w, y)"
   ]
  },
  {
   "cell_type": "code",
   "execution_count": 128,
   "metadata": {},
   "outputs": [
    {
     "data": {
      "text/plain": [
       "proxgrad (generic function with 2 methods)"
      ]
     },
     "execution_count": 128,
     "metadata": {},
     "output_type": "execute_result"
    }
   ],
   "source": [
    "# proximal gradient method\n",
    "function proxgrad(loss::Loss, reg::Regularizer, X, y;\n",
    "                  maxiters::Int = 10, stepsize::Number = 1., \n",
    "                  ch::ConvergenceHistory = ConvergenceHistory(\"proxgrad\"))\n",
    "    w = zeros(size(X,2))\n",
    "    for t=1:maxiters\n",
    "        t0 = time()\n",
    "        # gradient step\n",
    "        g = grad(loss, X, w, y)\n",
    "        w = w - stepsize*g\n",
    "        # prox step\n",
    "        w = prox(reg, w, stepsize)\n",
    "        # record objective value\n",
    "        update_ch!(ch, time() - t0, obj = evaluate(loss, X, w, y) + evaluate(reg, w))\n",
    "    end\n",
    "    return w\n",
    "end"
   ]
  },
  {
   "cell_type": "code",
   "execution_count": 129,
   "metadata": {},
   "outputs": [
    {
     "data": {
      "text/plain": [
       "LowRankModels.LogisticLoss(1.0, LowRankModels.BoolDomain())"
      ]
     },
     "execution_count": 129,
     "metadata": {},
     "output_type": "execute_result"
    }
   ],
   "source": [
    "reg = OneReg()\n",
    "loss = LogisticLoss()"
   ]
  },
  {
   "cell_type": "code",
   "execution_count": 130,
   "metadata": {},
   "outputs": [],
   "source": [
    "y_i = convert(Array{Bool}, ytrain .== 1);"
   ]
  },
  {
   "cell_type": "code",
   "execution_count": 131,
   "metadata": {},
   "outputs": [],
   "source": [
    "X_i = convert(Array{Float64,2},Xtrain);"
   ]
  },
  {
   "cell_type": "code",
   "execution_count": 132,
   "metadata": {},
   "outputs": [
    {
     "data": {
      "text/plain": [
       "1.9073543418828574e-5"
      ]
     },
     "execution_count": 132,
     "metadata": {},
     "output_type": "execute_result"
    }
   ],
   "source": [
    "step = 1/norm(Xtrain)^2"
   ]
  },
  {
   "cell_type": "code",
   "execution_count": 133,
   "metadata": {},
   "outputs": [
    {
     "name": "stderr",
     "output_type": "stream",
     "text": [
      "\u001b[1m\u001b[33mWARNING: \u001b[39m\u001b[22m\u001b[33mmax{T1 <: Real}(x::AbstractArray{T1}, y::Real) is deprecated, use max.(x, y) instead.\u001b[39m\n",
      "Stacktrace:\n",
      " [1] \u001b[1mdepwarn\u001b[22m\u001b[22m\u001b[1m(\u001b[22m\u001b[22m::String, ::Symbol\u001b[1m)\u001b[22m\u001b[22m at \u001b[1m./deprecated.jl:70\u001b[22m\u001b[22m\n",
      " [2] \u001b[1mmax\u001b[22m\u001b[22m\u001b[1m(\u001b[22m\u001b[22m::Array{Float64,1}, ::Int64\u001b[1m)\u001b[22m\u001b[22m at \u001b[1m./deprecated.jl:57\u001b[22m\u001b[22m\n",
      " [3] \u001b[1m#proxgrad#42\u001b[22m\u001b[22m\u001b[1m(\u001b[22m\u001b[22m::Int64, ::Float64, ::LowRankModels.ConvergenceHistory, ::Function, ::LowRankModels.LogisticLoss, ::LowRankModels.OneReg, ::Array{Float64,2}, ::Array{Bool,1}\u001b[1m)\u001b[22m\u001b[22m at \u001b[1m./In[128]:12\u001b[22m\u001b[22m\n",
      " [4] \u001b[1m(::#kw##proxgrad)\u001b[22m\u001b[22m\u001b[1m(\u001b[22m\u001b[22m::Array{Any,1}, ::#proxgrad, ::LowRankModels.LogisticLoss, ::LowRankModels.OneReg, ::Array{Float64,2}, ::Array{Bool,1}\u001b[1m)\u001b[22m\u001b[22m at \u001b[1m./<missing>:0\u001b[22m\u001b[22m\n",
      " [5] \u001b[1minclude_string\u001b[22m\u001b[22m\u001b[1m(\u001b[22m\u001b[22m::String, ::String\u001b[1m)\u001b[22m\u001b[22m at \u001b[1m./loading.jl:515\u001b[22m\u001b[22m\n",
      " [6] \u001b[1minclude_string\u001b[22m\u001b[22m\u001b[1m(\u001b[22m\u001b[22m::Module, ::String, ::String\u001b[1m)\u001b[22m\u001b[22m at \u001b[1m/Users/Joshua/.julia/v0.6/Compat/src/Compat.jl:478\u001b[22m\u001b[22m\n",
      " [7] \u001b[1mexecute_request\u001b[22m\u001b[22m\u001b[1m(\u001b[22m\u001b[22m::ZMQ.Socket, ::IJulia.Msg\u001b[1m)\u001b[22m\u001b[22m at \u001b[1m/Users/Joshua/.julia/v0.6/IJulia/src/execute_request.jl:154\u001b[22m\u001b[22m\n",
      " [8] \u001b[1meventloop\u001b[22m\u001b[22m\u001b[1m(\u001b[22m\u001b[22m::ZMQ.Socket\u001b[1m)\u001b[22m\u001b[22m at \u001b[1m/Users/Joshua/.julia/v0.6/IJulia/src/eventloop.jl:8\u001b[22m\u001b[22m\n",
      " [9] \u001b[1m(::IJulia.##14#17)\u001b[22m\u001b[22m\u001b[1m(\u001b[22m\u001b[22m\u001b[1m)\u001b[22m\u001b[22m at \u001b[1m./task.jl:335\u001b[22m\u001b[22m\n",
      "while loading In[133], in expression starting on line 4\n",
      "\u001b[1m\u001b[33mWARNING: \u001b[39m\u001b[22m\u001b[33msumabs(x) is deprecated, use sum(abs, x) instead.\u001b[39m\n",
      "Stacktrace:\n",
      " [1] \u001b[1mdepwarn\u001b[22m\u001b[22m\u001b[1m(\u001b[22m\u001b[22m::String, ::Symbol\u001b[1m)\u001b[22m\u001b[22m at \u001b[1m./deprecated.jl:70\u001b[22m\u001b[22m\n",
      " [2] \u001b[1msumabs\u001b[22m\u001b[22m\u001b[1m(\u001b[22m\u001b[22m::Array{Float64,1}\u001b[1m)\u001b[22m\u001b[22m at \u001b[1m./deprecated.jl:57\u001b[22m\u001b[22m\n",
      " [3] \u001b[1mevaluate\u001b[22m\u001b[22m at \u001b[1m/Users/Joshua/.julia/v0.6/LowRankModels/src/regularizers.jl:87\u001b[22m\u001b[22m [inlined]\n",
      " [4] \u001b[1m#proxgrad#42\u001b[22m\u001b[22m\u001b[1m(\u001b[22m\u001b[22m::Int64, ::Float64, ::LowRankModels.ConvergenceHistory, ::Function, ::LowRankModels.LogisticLoss, ::LowRankModels.OneReg, ::Array{Float64,2}, ::Array{Bool,1}\u001b[1m)\u001b[22m\u001b[22m at \u001b[1m./In[128]:14\u001b[22m\u001b[22m\n",
      " [5] \u001b[1m(::#kw##proxgrad)\u001b[22m\u001b[22m\u001b[1m(\u001b[22m\u001b[22m::Array{Any,1}, ::#proxgrad, ::LowRankModels.LogisticLoss, ::LowRankModels.OneReg, ::Array{Float64,2}, ::Array{Bool,1}\u001b[1m)\u001b[22m\u001b[22m at \u001b[1m./<missing>:0\u001b[22m\u001b[22m\n",
      " [6] \u001b[1minclude_string\u001b[22m\u001b[22m\u001b[1m(\u001b[22m\u001b[22m::String, ::String\u001b[1m)\u001b[22m\u001b[22m at \u001b[1m./loading.jl:515\u001b[22m\u001b[22m\n",
      " [7] \u001b[1minclude_string\u001b[22m\u001b[22m\u001b[1m(\u001b[22m\u001b[22m::Module, ::String, ::String\u001b[1m)\u001b[22m\u001b[22m at \u001b[1m/Users/Joshua/.julia/v0.6/Compat/src/Compat.jl:478\u001b[22m\u001b[22m\n",
      " [8] \u001b[1mexecute_request\u001b[22m\u001b[22m\u001b[1m(\u001b[22m\u001b[22m::ZMQ.Socket, ::IJulia.Msg\u001b[1m)\u001b[22m\u001b[22m at \u001b[1m/Users/Joshua/.julia/v0.6/IJulia/src/execute_request.jl:154\u001b[22m\u001b[22m\n",
      " [9] \u001b[1meventloop\u001b[22m\u001b[22m\u001b[1m(\u001b[22m\u001b[22m::ZMQ.Socket\u001b[1m)\u001b[22m\u001b[22m at \u001b[1m/Users/Joshua/.julia/v0.6/IJulia/src/eventloop.jl:8\u001b[22m\u001b[22m\n",
      " [10] \u001b[1m(::IJulia.##14#17)\u001b[22m\u001b[22m\u001b[1m(\u001b[22m\u001b[22m\u001b[1m)\u001b[22m\u001b[22m at \u001b[1m./task.jl:335\u001b[22m\u001b[22m\n",
      "while loading In[133], in expression starting on line 4\n"
     ]
    },
    {
     "name": "stdout",
     "output_type": "stream",
     "text": [
      "[-0.062475, 0.0578973, 0.00511565, -0.600075, -0.206478, 0.985686, 0.676693, 1.64828, -0.15709, 0.116157, -0.155472, -0.0260746, -0.279775, 1.34991, 0.200822, -0.0423966, 0.145395, -0.202953, -0.380229, -0.447566, -0.51031, 0.149167, -0.1056, 0.327085, -0.0283642, 0.460115, 0.268683, -0.216559, -0.274865, 0.0398951, 0.179162]\n",
      "1.64828260844583\n"
     ]
    }
   ],
   "source": [
    "using Plots\n",
    "\n",
    "ch = ConvergenceHistory(\"OneReg\")\n",
    "w = proxgrad(loss, reg, X_i, y_i; \n",
    "             stepsize=step, maxiters=1000,\n",
    "             ch = ch)\n",
    "\n",
    "Plots.plot(ch.objective)\n",
    "println(w)\n",
    "println(maximum(abs.(w)))"
   ]
  },
  {
   "cell_type": "code",
   "execution_count": 134,
   "metadata": {},
   "outputs": [
    {
     "data": {
      "text/html": [
       "<img src=\"data:image/png;base64,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\" />"
      ]
     },
     "execution_count": 134,
     "metadata": {},
     "output_type": "execute_result"
    }
   ],
   "source": [
    "Plots.plot(ch.objective)\n",
    "xlabel!(\"iteration\")\n",
    "ylabel!(\"objective\")"
   ]
  },
  {
   "cell_type": "code",
   "execution_count": 135,
   "metadata": {},
   "outputs": [
    {
     "name": "stdout",
     "output_type": "stream",
     "text": [
      "0.9190391459074733\n"
     ]
    }
   ],
   "source": [
    "y_i2 = Xtest*w\n",
    "\n",
    "ynew = []\n",
    "for i in y_i2\n",
    "    if i > 0\n",
    "        append!(ynew,1)\n",
    "    else\n",
    "        append!(ynew,-1)\n",
    "    end\n",
    "end\n",
    "\n",
    "sum = 0 \n",
    "for i=1:length(ynew)\n",
    "    if ynew[i] == ytest[i]\n",
    "        sum+=1\n",
    "    end\n",
    "end\n",
    "println(sum/length(ynew))"
   ]
  },
  {
   "cell_type": "code",
   "execution_count": 136,
   "metadata": {},
   "outputs": [],
   "source": [
    "h = .02  # step size in the mesh\n",
    "\n",
    "names = [\"Nearest Neighbors\", \"Linear SVM\", \"RBF SVM\", \"Decision Tree (Julia)\",\n",
    "         \"Random Forest (Julia)\", \"AdaBoost (Julia)\", \"Naive Bayes\", \"Linear Discriminant Analysis\",\n",
    "         \"Quadratic Discriminant Analysis\"]\n",
    "classifiers = [\n",
    "    KNeighborsClassifier(3),\n",
    "    SVC(kernel=\"linear\", C=0.025),\n",
    "    SVC(gamma=5, C=4),\n",
    "    DecisionTreeClassifier(pruning_purity_threshold=0.8),\n",
    "    RandomForestClassifier(ntrees=30),\n",
    "    # Note: scikit-learn's adaboostclassifier is better than DecisionTree.jl in this instance\n",
    "    # because it's not restricted to stumps, and the data isn't axis-aligned\n",
    "    AdaBoostStumpClassifier(niterations=30),\n",
    "    GaussianNB(),\n",
    "    LinearDiscriminantAnalysis(),\n",
    "    QuadraticDiscriminantAnalysis(), \n",
    "];"
   ]
  },
  {
   "cell_type": "code",
   "execution_count": 137,
   "metadata": {},
   "outputs": [
    {
     "data": {
      "text/plain": [
       "10-element Array{Float64,1}:\n",
       " 0.97076 \n",
       " 0.966862\n",
       " 0.974659\n",
       " 0.94347 \n",
       " 0.968811\n",
       " 0.961014\n",
       " 0.966797\n",
       " 0.949219\n",
       " 0.956947\n",
       " 0.964775"
      ]
     },
     "execution_count": 137,
     "metadata": {},
     "output_type": "execute_result"
    }
   ],
   "source": [
    "cvt = cross_val_score(DecisionTreeClassifier(pruning_purity_threshold=0.8), X, y; cv=10)"
   ]
  },
  {
   "cell_type": "code",
   "execution_count": 138,
   "metadata": {},
   "outputs": [
    {
     "data": {
      "text/plain": [
       "Summary Stats:\n",
       "Mean:           0.962331\n",
       "Minimum:        0.943470\n",
       "1st Quartile:   0.957964\n",
       "Median:         0.965786\n",
       "3rd Quartile:   0.968324\n",
       "Maximum:        0.974659\n"
      ]
     },
     "execution_count": 138,
     "metadata": {},
     "output_type": "execute_result"
    }
   ],
   "source": [
    "summarystats(cvt)"
   ]
  },
  {
   "cell_type": "code",
   "execution_count": 139,
   "metadata": {},
   "outputs": [
    {
     "data": {
      "text/plain": [
       "10-element Array{Float64,1}:\n",
       " 0.97271 \n",
       " 0.974659\n",
       " 0.978558\n",
       " 0.955166\n",
       " 0.966862\n",
       " 0.968811\n",
       " 0.962891\n",
       " 0.966797\n",
       " 0.966732\n",
       " 0.966732"
      ]
     },
     "execution_count": 139,
     "metadata": {},
     "output_type": "execute_result"
    }
   ],
   "source": [
    "cvt = cross_val_score(RandomForestClassifier(ntrees=30),X,y; cv = 10)"
   ]
  },
  {
   "cell_type": "code",
   "execution_count": 140,
   "metadata": {},
   "outputs": [
    {
     "data": {
      "text/plain": [
       "Summary Stats:\n",
       "Mean:           0.967992\n",
       "Minimum:        0.955166\n",
       "1st Quartile:   0.966732\n",
       "Median:         0.966829\n",
       "3rd Quartile:   0.971735\n",
       "Maximum:        0.978558\n"
      ]
     },
     "execution_count": 140,
     "metadata": {},
     "output_type": "execute_result"
    }
   ],
   "source": [
    "summarystats(cvt)"
   ]
  },
  {
   "cell_type": "code",
   "execution_count": 141,
   "metadata": {
    "scrolled": true
   },
   "outputs": [
    {
     "name": "stdout",
     "output_type": "stream",
     "text": [
      "0.9457295373665481\n",
      "0.9190391459074733\n",
      "0.8416370106761566\n",
      "0.9501779359430605\n",
      "0.9590747330960854\n",
      "0.895017793594306\n",
      "0.8959074733096085\n",
      "0.9172597864768683\n",
      "0.905693950177936\n"
     ]
    }
   ],
   "source": [
    "for (name, clf) in zip(names, classifiers)\n",
    "    fit!(clf, Xtrain, ytrain)\n",
    "    scor = score(clf, Xtest, ytest)\n",
    "    println(scor)\n",
    "end"
   ]
  },
  {
   "cell_type": "code",
   "execution_count": 142,
   "metadata": {},
   "outputs": [
    {
     "data": {
      "text/plain": [
       "Decision Tree\n",
       "Leaves: 244\n",
       "Depth:  24"
      ]
     },
     "execution_count": 142,
     "metadata": {},
     "output_type": "execute_result"
    }
   ],
   "source": [
    "model = build_tree(ytrain, Xtrain)"
   ]
  },
  {
   "cell_type": "code",
   "execution_count": 143,
   "metadata": {},
   "outputs": [
    {
     "data": {
      "text/plain": [
       "Decision Tree\n",
       "Leaves: 201\n",
       "Depth:  19"
      ]
     },
     "execution_count": 143,
     "metadata": {},
     "output_type": "execute_result"
    }
   ],
   "source": [
    "model = prune_tree(model, 0.8)"
   ]
  },
  {
   "cell_type": "code",
   "execution_count": 144,
   "metadata": {},
   "outputs": [
    {
     "name": "stdout",
     "output_type": "stream",
     "text": [
      "Feature 8, Threshold 1\n",
      "L-> Feature 14, Threshold 1\n",
      "    L-> Feature 6, Threshold 1\n",
      "        L-> -1 : 1007/1007\n",
      "        R-> Feature 8, Threshold 0\n",
      "            L-> Feature 17, Threshold 1\n",
      "                L-> \n",
      "                R-> -1 : 456/457\n",
      "            R-> Feature 2, Threshold 0\n",
      "                L-> -1 : 7/8\n",
      "                R-> 1 : 1/1\n",
      "    R-> Feature 6, Threshold 1\n",
      "        L-> -1 : 93/93\n",
      "        R-> Feature 24, Threshold 1\n",
      "            L-> -1 : 15/15\n",
      "            R-> Feature 2, Threshold 0\n",
      "                L-> \n",
      "                R-> \n",
      "R-> Feature 14, Threshold 0\n",
      "    L-> Feature 7, Threshold 0\n",
      "        L-> Feature 26, Threshold 1\n",
      "            L-> -1 : 130/131\n",
      "            R-> Feature 15, Threshold 1\n",
      "                L-> \n",
      "                R-> -1 : 25/25\n",
      "        R-> Feature 6, Threshold 1\n",
      "            L-> Feature 13, Threshold 0\n",
      "                L-> \n",
      "                R-> \n",
      "            R-> Feature 26, Threshold 0\n",
      "                L-> \n",
      "                R-> \n",
      "    R-> Feature 6, Threshold 1\n",
      "        L-> Feature 7, Threshold 0\n",
      "            L-> Feature 16, Threshold 1\n",
      "                L-> \n",
      "                R-> 1 : 5/6\n",
      "            R-> Feature 29, Threshold 0\n",
      "                L-> -1 : 2/2\n",
      "                R-> \n",
      "        R-> Feature 27, Threshold 1\n",
      "            L-> Feature 26, Threshold 1\n",
      "                L-> 1 : 43/44\n",
      "                R-> \n",
      "            R-> Feature 14, Threshold 1\n",
      "                L-> \n",
      "                R-> \n"
     ]
    }
   ],
   "source": [
    "print_tree(model,5)"
   ]
  },
  {
   "cell_type": "code",
   "execution_count": 145,
   "metadata": {},
   "outputs": [],
   "source": [
    "ytree = apply_tree(model, Xtest); #apply model to test data"
   ]
  },
  {
   "cell_type": "code",
   "execution_count": 146,
   "metadata": {},
   "outputs": [
    {
     "name": "stdout",
     "output_type": "stream",
     "text": [
      "false positive: 0.02224199288256228\n",
      "false negative: 0.027580071174377226\n",
      "total error 0.0498220640569395\n"
     ]
    }
   ],
   "source": [
    "false_pos = 0\n",
    "false_neg = 0 \n",
    "sum = 0 \n",
    "for i=1:length(ytree)\n",
    "    if ytest[i] != ytree[i]\n",
    "        sum+=1\n",
    "        if (ytest[i] == 1 && ytree[i] == -1)\n",
    "            false_neg += 1\n",
    "        else\n",
    "            false_pos += 1\n",
    "        end\n",
    "    end\n",
    "end\n",
    "println(\"false positive: \", false_pos/length(ytree))\n",
    "println(\"false negative: \",false_neg/length(ytree))\n",
    "println(\"total error \", sum/length(ytree))"
   ]
  },
  {
   "cell_type": "code",
   "execution_count": 147,
   "metadata": {
    "scrolled": false
   },
   "outputs": [
    {
     "name": "stdout",
     "output_type": "stream",
     "text": [
      "\n",
      "Fold 1"
     ]
    },
    {
     "data": {
      "text/plain": [
       "2×2 Array{Int64,2}:\n",
       " 695   23\n",
       "  35  580"
      ]
     },
     "metadata": {},
     "output_type": "display_data"
    },
    {
     "name": "stdout",
     "output_type": "stream",
     "text": [
      "\n",
      "Classes:  [-1, 1]\n",
      "Matrix:   \n",
      "Accuracy: 0.9564891222805701\n",
      "Kappa:    0.9123328616266623\n"
     ]
    },
    {
     "data": {
      "text/plain": [
       "2×2 Array{Int64,2}:\n",
       " 699   45\n",
       "  32  557"
      ]
     },
     "metadata": {},
     "output_type": "display_data"
    },
    {
     "name": "stdout",
     "output_type": "stream",
     "text": [
      "\n",
      "Fold 2\n",
      "Classes:  [-1, 1]\n",
      "Matrix:   \n",
      "Accuracy: 0.9422355588897224\n",
      "Kappa:    0.8831562974203339\n"
     ]
    },
    {
     "data": {
      "text/plain": [
       "2×2 Array{Int64,2}:\n",
       " 730   43\n",
       "  26  534"
      ]
     },
     "metadata": {},
     "output_type": "display_data"
    },
    {
     "name": "stdout",
     "output_type": "stream",
     "text": [
      "\n",
      "Fold 3\n",
      "Classes:  [-1, 1]\n",
      "Matrix:   \n",
      "Accuracy: 0.9482370592648162\n",
      "Kappa:    0.8942040371252649\n",
      "\n",
      "Mean Accuracy: 0.948987246811703\n"
     ]
    },
    {
     "data": {
      "text/plain": [
       "3-element Array{Float64,1}:\n",
       " 0.956489\n",
       " 0.942236\n",
       " 0.948237"
      ]
     },
     "execution_count": 147,
     "metadata": {},
     "output_type": "execute_result"
    }
   ],
   "source": [
    "accuracy = nfoldCV_forest(ytrain, Xtrain, 2, 100,3,0.5)"
   ]
  },
  {
   "cell_type": "code",
   "execution_count": 90,
   "metadata": {},
   "outputs": [
    {
     "data": {
      "text/plain": [
       "Ensemble of Decision Trees\n",
       "Trees:      100\n",
       "Avg Leaves: 135.23\n",
       "Avg Depth:  15.53"
      ]
     },
     "execution_count": 90,
     "metadata": {},
     "output_type": "execute_result"
    }
   ],
   "source": [
    "rf = build_forest(ytrain, Xtrain, 2, 100, 0.5, 50)"
   ]
  },
  {
   "cell_type": "code",
   "execution_count": 91,
   "metadata": {},
   "outputs": [],
   "source": [
    "yforest = apply_forest(rf, Xtest);"
   ]
  },
  {
   "cell_type": "code",
   "execution_count": 92,
   "metadata": {},
   "outputs": [
    {
     "name": "stdout",
     "output_type": "stream",
     "text": [
      "false positive: 0.028469750889679714\n",
      "false negative: 0.026690391459074734\n",
      "total error 0.05516014234875445\n"
     ]
    }
   ],
   "source": [
    "false_pos = 0\n",
    "false_neg = 0 \n",
    "sum = 0 \n",
    "for i=1:length(yforest)\n",
    "    if ytest[i] != yforest[i]\n",
    "        sum+=1\n",
    "        if (ytest[i] == 1 && yforest[i] == -1)\n",
    "            false_neg += 1\n",
    "        else\n",
    "            false_pos += 1\n",
    "        end\n",
    "    end\n",
    "end\n",
    "println(\"false positive: \", false_pos/length(yforest))\n",
    "println(\"false negative: \",false_neg/length(yforest))\n",
    "println(\"total error \", sum/length(yforest))"
   ]
  },
  {
   "cell_type": "code",
   "execution_count": null,
   "metadata": {
    "collapsed": true
   },
   "outputs": [],
   "source": []
  }
 ],
 "metadata": {
  "kernelspec": {
   "display_name": "Julia 0.6.0",
   "language": "julia",
   "name": "julia-0.6"
  },
  "language_info": {
   "file_extension": ".jl",
   "mimetype": "application/julia",
   "name": "julia",
   "version": "0.6.0"
  }
 },
 "nbformat": 4,
 "nbformat_minor": 2
}
