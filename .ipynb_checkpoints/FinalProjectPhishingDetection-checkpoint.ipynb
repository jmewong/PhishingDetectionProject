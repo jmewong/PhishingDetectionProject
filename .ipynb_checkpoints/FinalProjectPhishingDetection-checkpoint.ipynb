{
 "cells": [
  {
   "cell_type": "code",
   "execution_count": 10,
   "metadata": {},
   "outputs": [
    {
     "data": {
      "text/plain": [
       "proxgrad_const (generic function with 1 method)"
      ]
     },
     "execution_count": 10,
     "metadata": {},
     "output_type": "execute_result"
    }
   ],
   "source": [
    "include(\"./proxgrad.jl\")"
   ]
  },
  {
   "cell_type": "code",
   "execution_count": 55,
   "metadata": {},
   "outputs": [
    {
     "data": {
      "text/plain": [
       "readArff (generic function with 2 methods)"
      ]
     },
     "execution_count": 55,
     "metadata": {},
     "output_type": "execute_result"
    }
   ],
   "source": [
    "using DataFrames\n",
    "using GZip\n",
    "\n",
    "##possible types in arff files are:\n",
    "#real, numeric,\n",
    "#date\n",
    "#string\n",
    "#nominal specifications, starting with {\n",
    "\n",
    "function convertType(attrType)\n",
    "  x = lowercase(attrType)\n",
    "  res = nothing\n",
    "    \n",
    "  if in(x, [\"real\" \"numeric\"])\n",
    "    res = \"numeric\"\n",
    "  elseif startswith(x, \"{\")\n",
    "    res = \"nominal\"\n",
    "  else #date and string\n",
    "    res = x\n",
    "  end\n",
    "  return(res)\n",
    "end\n",
    "\n",
    "function readArff(filename, gzip=false)\n",
    "  f = nothing\n",
    "  if gzip\n",
    "    f = GZip.gzopen(filename)\n",
    "  else\n",
    "    f = open(filename)\n",
    "  end\n",
    "  lines = eachline(f)\n",
    "    \n",
    "  header = true\n",
    "  colNames = nothing\n",
    "  attrTypes = nothing\n",
    "  myData = DataFrame()\n",
    "  attributes = DataFrame()\n",
    "  nAttr = 0\n",
    "  nData = 0\n",
    "\n",
    "  for l in lines\n",
    "    if header\n",
    "      mAttr = match(r\"^[[:space:]]*@(?i)attribute\", l)\n",
    "      if mAttr == nothing\n",
    "        mData = ismatch(r\"^[[:space:]]*@(?i)data\", l)\n",
    "        if mData\n",
    "          colNames = convert(Array, attributes[2,:])\n",
    "          attrTypes = map(convertType, convert(Array, attributes[3,:]))\n",
    "          header=false\n",
    "          break\n",
    "        end\n",
    "      else\n",
    "        nAttr += 1\n",
    "        attributes[:, nAttr] = split(l)[1:3]\n",
    "      end\n",
    "    end\n",
    "  end\n",
    "  myData = readtable(f, names = vec(map(Symbol, colNames)))\n",
    "  close(f)\n",
    "  return(myData, attrTypes)\n",
    "end"
   ]
  },
  {
   "cell_type": "code",
   "execution_count": 56,
   "metadata": {
    "collapsed": true
   },
   "outputs": [],
   "source": [
    "dataset1, attributeTypes1 = readArff(\"Mohammad14JulyDS_1.arff\");"
   ]
  },
  {
   "cell_type": "code",
   "execution_count": 57,
   "metadata": {
    "collapsed": true
   },
   "outputs": [],
   "source": [
    "dataset2, attributeTypes2 = readArff(\"Mohammad14JulyDS_2.arff\");"
   ]
  },
  {
   "cell_type": "code",
   "execution_count": 58,
   "metadata": {
    "collapsed": true,
    "scrolled": true
   },
   "outputs": [],
   "source": [
    "dataset = vcat(dataset1, dataset2);"
   ]
  },
  {
   "cell_type": "code",
   "execution_count": 59,
   "metadata": {},
   "outputs": [
    {
     "data": {
      "text/html": [
       "<table class=\"data-frame\"><thead><tr><th></th><th>having_IP_Address</th><th>URL_Length</th><th>Shortining_Service</th><th>having_At_Symbol</th><th>double_slash_redirecting</th><th>Prefix_Suffix</th><th>having_Sub_Domain</th><th>SSLfinal_State</th><th>Domain_registeration_length</th><th>Favicon</th><th>port</th><th>HTTPS_token</th><th>Request_URL</th><th>URL_of_Anchor</th><th>Links_in_tags</th><th>SFH</th><th>Submitting_to_email</th><th>Abnormal_URL</th><th>Redirect</th><th>on_mouseover</th><th>RightClick</th><th>popUpWidnow</th><th>Iframe</th><th>age_of_domain</th><th>DNSRecord</th><th>web_traffic</th><th>Page_Rank</th><th>Google_Index</th><th>Links_pointing_to_page</th><th>Statistical_report</th><th>Result</th><th>DNS</th></tr></thead><tbody><tr><th>1</th><td>1</td><td>1</td><td>1</td><td>1</td><td>1</td><td>1</td><td>1</td><td>1</td><td>1</td><td>1</td><td>1</td><td>1</td><td>-1</td><td>-1</td><td>1</td><td>1</td><td>1</td><td>1</td><td>0</td><td>1</td><td>1</td><td>1</td><td>1</td><td>1</td><td>1</td><td>1</td><td>1</td><td>1</td><td>0</td><td>1</td><td>1</td><td>NA</td></tr><tr><th>2</th><td>1</td><td>-1</td><td>1</td><td>1</td><td>1</td><td>1</td><td>0</td><td>1</td><td>1</td><td>1</td><td>1</td><td>1</td><td>1</td><td>1</td><td>0</td><td>-1</td><td>1</td><td>1</td><td>0</td><td>1</td><td>1</td><td>1</td><td>1</td><td>1</td><td>1</td><td>-1</td><td>1</td><td>1</td><td>1</td><td>1</td><td>1</td><td>NA</td></tr><tr><th>3</th><td>1</td><td>-1</td><td>1</td><td>-1</td><td>1</td><td>-1</td><td>-1</td><td>-1</td><td>1</td><td>1</td><td>1</td><td>1</td><td>1</td><td>1</td><td>-1</td><td>-1</td><td>1</td><td>1</td><td>0</td><td>1</td><td>1</td><td>1</td><td>1</td><td>1</td><td>1</td><td>-1</td><td>1</td><td>1</td><td>0</td><td>1</td><td>-1</td><td>NA</td></tr><tr><th>4</th><td>1</td><td>-1</td><td>1</td><td>1</td><td>1</td><td>1</td><td>0</td><td>1</td><td>1</td><td>1</td><td>1</td><td>1</td><td>-1</td><td>1</td><td>1</td><td>-1</td><td>1</td><td>1</td><td>0</td><td>1</td><td>1</td><td>1</td><td>1</td><td>1</td><td>1</td><td>1</td><td>1</td><td>-1</td><td>0</td><td>1</td><td>1</td><td>NA</td></tr><tr><th>5</th><td>1</td><td>-1</td><td>1</td><td>-1</td><td>1</td><td>1</td><td>0</td><td>1</td><td>1</td><td>1</td><td>1</td><td>1</td><td>0</td><td>1</td><td>1</td><td>-1</td><td>1</td><td>1</td><td>0</td><td>1</td><td>1</td><td>1</td><td>1</td><td>1</td><td>NA</td><td>1</td><td>1</td><td>1</td><td>0</td><td>1</td><td>1</td><td>1</td></tr><tr><th>6</th><td>1</td><td>-1</td><td>1</td><td>1</td><td>-1</td><td>1</td><td>-1</td><td>1</td><td>1</td><td>1</td><td>1</td><td>1</td><td>1</td><td>1</td><td>1</td><td>-1</td><td>1</td><td>1</td><td>1</td><td>1</td><td>1</td><td>1</td><td>1</td><td>1</td><td>1</td><td>1</td><td>1</td><td>1</td><td>0</td><td>1</td><td>1</td><td>NA</td></tr><tr><th>7</th><td>-1</td><td>-1</td><td>-1</td><td>1</td><td>-1</td><td>1</td><td>1</td><td>1</td><td>1</td><td>-1</td><td>-1</td><td>-1</td><td>-1</td><td>1</td><td>0</td><td>-1</td><td>-1</td><td>-1</td><td>1</td><td>1</td><td>1</td><td>-1</td><td>-1</td><td>1</td><td>1</td><td>1</td><td>1</td><td>1</td><td>1</td><td>-1</td><td>1</td><td>NA</td></tr><tr><th>8</th><td>1</td><td>-1</td><td>1</td><td>1</td><td>1</td><td>1</td><td>0</td><td>-1</td><td>1</td><td>1</td><td>1</td><td>1</td><td>1</td><td>-1</td><td>1</td><td>-1</td><td>-1</td><td>1</td><td>0</td><td>1</td><td>1</td><td>1</td><td>1</td><td>-1</td><td>NA</td><td>1</td><td>-1</td><td>1</td><td>1</td><td>1</td><td>-1</td><td>-1</td></tr><tr><th>9</th><td>1</td><td>1</td><td>1</td><td>1</td><td>1</td><td>1</td><td>1</td><td>1</td><td>1</td><td>1</td><td>1</td><td>1</td><td>-1</td><td>1</td><td>1</td><td>1</td><td>1</td><td>1</td><td>0</td><td>1</td><td>1</td><td>1</td><td>1</td><td>1</td><td>NA</td><td>1</td><td>1</td><td>1</td><td>1</td><td>1</td><td>1</td><td>1</td></tr><tr><th>10</th><td>1</td><td>-1</td><td>1</td><td>1</td><td>1</td><td>1</td><td>1</td><td>1</td><td>1</td><td>1</td><td>1</td><td>1</td><td>-1</td><td>-1</td><td>1</td><td>-1</td><td>1</td><td>1</td><td>0</td><td>1</td><td>1</td><td>1</td><td>1</td><td>1</td><td>1</td><td>-1</td><td>1</td><td>1</td><td>0</td><td>1</td><td>1</td><td>NA</td></tr><tr><th>11</th><td>1</td><td>1</td><td>1</td><td>1</td><td>1</td><td>1</td><td>1</td><td>1</td><td>1</td><td>1</td><td>1</td><td>1</td><td>-1</td><td>1</td><td>0</td><td>1</td><td>1</td><td>1</td><td>0</td><td>1</td><td>1</td><td>1</td><td>1</td><td>1</td><td>NA</td><td>1</td><td>1</td><td>-1</td><td>0</td><td>1</td><td>1</td><td>1</td></tr><tr><th>12</th><td>1</td><td>1</td><td>1</td><td>1</td><td>1</td><td>-1</td><td>-1</td><td>1</td><td>-1</td><td>1</td><td>1</td><td>1</td><td>0</td><td>-1</td><td>0</td><td>1</td><td>1</td><td>1</td><td>0</td><td>1</td><td>1</td><td>1</td><td>1</td><td>1</td><td>NA</td><td>1</td><td>-1</td><td>-1</td><td>1</td><td>1</td><td>-1</td><td>1</td></tr><tr><th>13</th><td>1</td><td>-1</td><td>1</td><td>1</td><td>1</td><td>1</td><td>1</td><td>1</td><td>1</td><td>-1</td><td>-1</td><td>1</td><td>1</td><td>1</td><td>1</td><td>-1</td><td>-1</td><td>1</td><td>0</td><td>1</td><td>1</td><td>-1</td><td>1</td><td>1</td><td>1</td><td>-1</td><td>1</td><td>1</td><td>0</td><td>-1</td><td>1</td><td>NA</td></tr><tr><th>14</th><td>1</td><td>-1</td><td>1</td><td>1</td><td>1</td><td>1</td><td>0</td><td>1</td><td>1</td><td>1</td><td>1</td><td>1</td><td>1</td><td>1</td><td>1</td><td>-1</td><td>1</td><td>1</td><td>0</td><td>1</td><td>1</td><td>1</td><td>1</td><td>1</td><td>-1</td><td>1</td><td>1</td><td>1</td><td>0</td><td>1</td><td>1</td><td>NA</td></tr><tr><th>15</th><td>1</td><td>-1</td><td>1</td><td>1</td><td>1</td><td>1</td><td>0</td><td>1</td><td>1</td><td>1</td><td>1</td><td>1</td><td>1</td><td>1</td><td>0</td><td>-1</td><td>1</td><td>1</td><td>0</td><td>1</td><td>1</td><td>1</td><td>1</td><td>1</td><td>NA</td><td>1</td><td>1</td><td>1</td><td>0</td><td>1</td><td>1</td><td>1</td></tr><tr><th>16</th><td>1</td><td>-1</td><td>1</td><td>1</td><td>1</td><td>1</td><td>0</td><td>1</td><td>1</td><td>1</td><td>1</td><td>1</td><td>1</td><td>1</td><td>1</td><td>-1</td><td>1</td><td>1</td><td>0</td><td>1</td><td>1</td><td>1</td><td>1</td><td>1</td><td>1</td><td>1</td><td>1</td><td>1</td><td>0</td><td>1</td><td>1</td><td>NA</td></tr><tr><th>17</th><td>1</td><td>-1</td><td>1</td><td>1</td><td>-1</td><td>1</td><td>0</td><td>1</td><td>1</td><td>1</td><td>1</td><td>1</td><td>1</td><td>1</td><td>0</td><td>-1</td><td>1</td><td>1</td><td>0</td><td>1</td><td>1</td><td>1</td><td>1</td><td>1</td><td>1</td><td>0</td><td>1</td><td>1</td><td>0</td><td>1</td><td>1</td><td>NA</td></tr><tr><th>18</th><td>1</td><td>-1</td><td>1</td><td>1</td><td>1</td><td>1</td><td>0</td><td>1</td><td>1</td><td>1</td><td>1</td><td>1</td><td>-1</td><td>-1</td><td>1</td><td>-1</td><td>1</td><td>1</td><td>0</td><td>1</td><td>1</td><td>1</td><td>1</td><td>1</td><td>1</td><td>1</td><td>1</td><td>1</td><td>0</td><td>1</td><td>1</td><td>NA</td></tr><tr><th>19</th><td>1</td><td>-1</td><td>1</td><td>1</td><td>1</td><td>1</td><td>1</td><td>1</td><td>1</td><td>-1</td><td>-1</td><td>1</td><td>1</td><td>1</td><td>0</td><td>-1</td><td>-1</td><td>1</td><td>0</td><td>1</td><td>1</td><td>-1</td><td>1</td><td>1</td><td>NA</td><td>1</td><td>1</td><td>1</td><td>0</td><td>-1</td><td>1</td><td>1</td></tr><tr><th>20</th><td>1</td><td>-1</td><td>1</td><td>1</td><td>1</td><td>1</td><td>0</td><td>1</td><td>1</td><td>1</td><td>1</td><td>1</td><td>1</td><td>1</td><td>0</td><td>-1</td><td>1</td><td>1</td><td>0</td><td>1</td><td>1</td><td>1</td><td>1</td><td>1</td><td>NA</td><td>1</td><td>1</td><td>1</td><td>0</td><td>1</td><td>1</td><td>1</td></tr><tr><th>21</th><td>1</td><td>-1</td><td>1</td><td>1</td><td>1</td><td>1</td><td>1</td><td>1</td><td>1</td><td>1</td><td>1</td><td>1</td><td>-1</td><td>1</td><td>0</td><td>-1</td><td>1</td><td>1</td><td>0</td><td>1</td><td>1</td><td>1</td><td>1</td><td>-1</td><td>1</td><td>1</td><td>1</td><td>1</td><td>0</td><td>1</td><td>1</td><td>NA</td></tr><tr><th>22</th><td>1</td><td>-1</td><td>1</td><td>1</td><td>1</td><td>-1</td><td>-1</td><td>-1</td><td>1</td><td>1</td><td>1</td><td>1</td><td>-1</td><td>-1</td><td>0</td><td>-1</td><td>1</td><td>1</td><td>0</td><td>1</td><td>1</td><td>1</td><td>1</td><td>1</td><td>NA</td><td>-1</td><td>1</td><td>-1</td><td>0</td><td>1</td><td>-1</td><td>1</td></tr><tr><th>23</th><td>1</td><td>-1</td><td>1</td><td>1</td><td>1</td><td>1</td><td>1</td><td>1</td><td>1</td><td>-1</td><td>-1</td><td>1</td><td>0</td><td>1</td><td>1</td><td>-1</td><td>-1</td><td>1</td><td>0</td><td>-1</td><td>1</td><td>-1</td><td>1</td><td>1</td><td>NA</td><td>1</td><td>1</td><td>1</td><td>1</td><td>-1</td><td>1</td><td>1</td></tr><tr><th>24</th><td>1</td><td>-1</td><td>1</td><td>1</td><td>1</td><td>-1</td><td>1</td><td>-1</td><td>-1</td><td>1</td><td>1</td><td>1</td><td>1</td><td>-1</td><td>1</td><td>-1</td><td>1</td><td>1</td><td>0</td><td>1</td><td>1</td><td>1</td><td>1</td><td>1</td><td>NA</td><td>1</td><td>-1</td><td>1</td><td>0</td><td>1</td><td>-1</td><td>-1</td></tr><tr><th>25</th><td>1</td><td>1</td><td>1</td><td>1</td><td>1</td><td>1</td><td>1</td><td>1</td><td>1</td><td>1</td><td>1</td><td>1</td><td>-1</td><td>1</td><td>1</td><td>1</td><td>1</td><td>1</td><td>0</td><td>1</td><td>1</td><td>1</td><td>1</td><td>1</td><td>1</td><td>1</td><td>1</td><td>-1</td><td>1</td><td>1</td><td>1</td><td>NA</td></tr><tr><th>26</th><td>1</td><td>-1</td><td>1</td><td>1</td><td>1</td><td>1</td><td>0</td><td>1</td><td>1</td><td>1</td><td>1</td><td>1</td><td>-1</td><td>1</td><td>-1</td><td>-1</td><td>1</td><td>1</td><td>0</td><td>1</td><td>1</td><td>1</td><td>1</td><td>1</td><td>1</td><td>1</td><td>1</td><td>1</td><td>0</td><td>1</td><td>1</td><td>NA</td></tr><tr><th>27</th><td>1</td><td>-1</td><td>1</td><td>1</td><td>1</td><td>-1</td><td>0</td><td>-1</td><td>1</td><td>1</td><td>1</td><td>1</td><td>-1</td><td>1</td><td>1</td><td>-1</td><td>1</td><td>1</td><td>0</td><td>1</td><td>1</td><td>1</td><td>1</td><td>1</td><td>NA</td><td>1</td><td>-1</td><td>1</td><td>0</td><td>1</td><td>1</td><td>-1</td></tr><tr><th>28</th><td>-1</td><td>1</td><td>-1</td><td>1</td><td>-1</td><td>-1</td><td>1</td><td>0</td><td>1</td><td>1</td><td>1</td><td>-1</td><td>1</td><td>1</td><td>-1</td><td>1</td><td>1</td><td>-1</td><td>1</td><td>1</td><td>1</td><td>1</td><td>1</td><td>1</td><td>NA</td><td>0</td><td>-1</td><td>1</td><td>1</td><td>1</td><td>-1</td><td>1</td></tr><tr><th>29</th><td>1</td><td>-1</td><td>1</td><td>1</td><td>1</td><td>1</td><td>1</td><td>1</td><td>1</td><td>1</td><td>1</td><td>1</td><td>1</td><td>1</td><td>1</td><td>-1</td><td>1</td><td>1</td><td>0</td><td>1</td><td>1</td><td>1</td><td>1</td><td>1</td><td>NA</td><td>1</td><td>1</td><td>1</td><td>1</td><td>1</td><td>1</td><td>1</td></tr><tr><th>30</th><td>1</td><td>-1</td><td>1</td><td>1</td><td>1</td><td>1</td><td>1</td><td>1</td><td>1</td><td>1</td><td>1</td><td>1</td><td>-1</td><td>1</td><td>0</td><td>-1</td><td>1</td><td>1</td><td>0</td><td>1</td><td>1</td><td>1</td><td>1</td><td>1</td><td>NA</td><td>1</td><td>1</td><td>1</td><td>0</td><td>1</td><td>1</td><td>1</td></tr><tr><th>&vellip;</th><td>&vellip;</td><td>&vellip;</td><td>&vellip;</td><td>&vellip;</td><td>&vellip;</td><td>&vellip;</td><td>&vellip;</td><td>&vellip;</td><td>&vellip;</td><td>&vellip;</td><td>&vellip;</td><td>&vellip;</td><td>&vellip;</td><td>&vellip;</td><td>&vellip;</td><td>&vellip;</td><td>&vellip;</td><td>&vellip;</td><td>&vellip;</td><td>&vellip;</td><td>&vellip;</td><td>&vellip;</td><td>&vellip;</td><td>&vellip;</td><td>&vellip;</td><td>&vellip;</td><td>&vellip;</td><td>&vellip;</td><td>&vellip;</td><td>&vellip;</td><td>&vellip;</td><td>&vellip;</td></tr></tbody></table>"
      ],
      "text/plain": [
       "5124×32 DataFrames.DataFrame\n",
       "│ Row  │ having_IP_Address │ URL_Length │ Shortining_Service │\n",
       "├──────┼───────────────────┼────────────┼────────────────────┤\n",
       "│ 1    │ 1                 │ 1          │ 1                  │\n",
       "│ 2    │ 1                 │ -1         │ 1                  │\n",
       "│ 3    │ 1                 │ -1         │ 1                  │\n",
       "│ 4    │ 1                 │ -1         │ 1                  │\n",
       "│ 5    │ 1                 │ -1         │ 1                  │\n",
       "│ 6    │ 1                 │ -1         │ 1                  │\n",
       "│ 7    │ -1                │ -1         │ -1                 │\n",
       "│ 8    │ 1                 │ -1         │ 1                  │\n",
       "│ 9    │ 1                 │ 1          │ 1                  │\n",
       "│ 10   │ 1                 │ -1         │ 1                  │\n",
       "│ 11   │ 1                 │ 1          │ 1                  │\n",
       "⋮\n",
       "│ 5113 │ 1                 │ -1         │ 1                  │\n",
       "│ 5114 │ 1                 │ -1         │ 1                  │\n",
       "│ 5115 │ 1                 │ -1         │ 1                  │\n",
       "│ 5116 │ 1                 │ -1         │ 1                  │\n",
       "│ 5117 │ 1                 │ -1         │ 1                  │\n",
       "│ 5118 │ 1                 │ -1         │ 1                  │\n",
       "│ 5119 │ 1                 │ -1         │ 1                  │\n",
       "│ 5120 │ 1                 │ -1         │ 1                  │\n",
       "│ 5121 │ 1                 │ -1         │ 1                  │\n",
       "│ 5122 │ 1                 │ -1         │ 1                  │\n",
       "│ 5123 │ 1                 │ -1         │ 1                  │\n",
       "│ 5124 │ 1                 │ 1          │ 1                  │\n",
       "\n",
       "│ Row  │ having_At_Symbol │ double_slash_redirecting │ Prefix_Suffix │\n",
       "├──────┼──────────────────┼──────────────────────────┼───────────────┤\n",
       "│ 1    │ 1                │ 1                        │ 1             │\n",
       "│ 2    │ 1                │ 1                        │ 1             │\n",
       "│ 3    │ -1               │ 1                        │ -1            │\n",
       "│ 4    │ 1                │ 1                        │ 1             │\n",
       "│ 5    │ -1               │ 1                        │ 1             │\n",
       "│ 6    │ 1                │ -1                       │ 1             │\n",
       "│ 7    │ 1                │ -1                       │ 1             │\n",
       "│ 8    │ 1                │ 1                        │ 1             │\n",
       "│ 9    │ 1                │ 1                        │ 1             │\n",
       "│ 10   │ 1                │ 1                        │ 1             │\n",
       "│ 11   │ 1                │ 1                        │ 1             │\n",
       "⋮\n",
       "│ 5113 │ 1                │ 1                        │ 1             │\n",
       "│ 5114 │ 1                │ 1                        │ 1             │\n",
       "│ 5115 │ 1                │ 1                        │ -1            │\n",
       "│ 5116 │ 1                │ 1                        │ -1            │\n",
       "│ 5117 │ 1                │ 1                        │ -1            │\n",
       "│ 5118 │ -1               │ 1                        │ -1            │\n",
       "│ 5119 │ 1                │ 1                        │ 1             │\n",
       "│ 5120 │ 1                │ 1                        │ 1             │\n",
       "│ 5121 │ 1                │ 1                        │ -1            │\n",
       "│ 5122 │ 1                │ 1                        │ 1             │\n",
       "│ 5123 │ 1                │ 1                        │ 1             │\n",
       "│ 5124 │ 1                │ 1                        │ -1            │\n",
       "\n",
       "│ Row  │ having_Sub_Domain │ SSLfinal_State │ Domain_registeration_length │\n",
       "├──────┼───────────────────┼────────────────┼─────────────────────────────┤\n",
       "│ 1    │ 1                 │ 1              │ 1                           │\n",
       "│ 2    │ 0                 │ 1              │ 1                           │\n",
       "│ 3    │ -1                │ -1             │ 1                           │\n",
       "│ 4    │ 0                 │ 1              │ 1                           │\n",
       "│ 5    │ 0                 │ 1              │ 1                           │\n",
       "│ 6    │ -1                │ 1              │ 1                           │\n",
       "│ 7    │ 1                 │ 1              │ 1                           │\n",
       "│ 8    │ 0                 │ -1             │ 1                           │\n",
       "│ 9    │ 1                 │ 1              │ 1                           │\n",
       "│ 10   │ 1                 │ 1              │ 1                           │\n",
       "│ 11   │ 1                 │ 1              │ 1                           │\n",
       "⋮\n",
       "│ 5113 │ 1                 │ 1              │ 1                           │\n",
       "│ 5114 │ 0                 │ 1              │ -1                          │\n",
       "│ 5115 │ 0                 │ -1             │ 1                           │\n",
       "│ 5116 │ 1                 │ -1             │ 1                           │\n",
       "│ 5117 │ 1                 │ -1             │ -1                          │\n",
       "│ 5118 │ 0                 │ -1             │ 1                           │\n",
       "│ 5119 │ -1                │ 1              │ 1                           │\n",
       "│ 5120 │ 0                 │ 1              │ 1                           │\n",
       "│ 5121 │ 1                 │ -1             │ 1                           │\n",
       "│ 5122 │ 1                 │ 1              │ 1                           │\n",
       "│ 5123 │ 1                 │ 1              │ 1                           │\n",
       "│ 5124 │ 0                 │ -1             │ -1                          │\n",
       "\n",
       "│ Row  │ Favicon │ port │ HTTPS_token │ Request_URL │ URL_of_Anchor │\n",
       "├──────┼─────────┼──────┼─────────────┼─────────────┼───────────────┤\n",
       "│ 1    │ 1       │ 1    │ 1           │ -1          │ -1            │\n",
       "│ 2    │ 1       │ 1    │ 1           │ 1           │ 1             │\n",
       "│ 3    │ 1       │ 1    │ 1           │ 1           │ 1             │\n",
       "│ 4    │ 1       │ 1    │ 1           │ -1          │ 1             │\n",
       "│ 5    │ 1       │ 1    │ 1           │ 0           │ 1             │\n",
       "│ 6    │ 1       │ 1    │ 1           │ 1           │ 1             │\n",
       "│ 7    │ -1      │ -1   │ -1          │ -1          │ 1             │\n",
       "│ 8    │ 1       │ 1    │ 1           │ 1           │ -1            │\n",
       "│ 9    │ 1       │ 1    │ 1           │ -1          │ 1             │\n",
       "│ 10   │ 1       │ 1    │ 1           │ -1          │ -1            │\n",
       "│ 11   │ 1       │ 1    │ 1           │ -1          │ 1             │\n",
       "⋮\n",
       "│ 5113 │ 1       │ 1    │ 1           │ 0           │ 1             │\n",
       "│ 5114 │ 1       │ 1    │ 1           │ 1           │ 1             │\n",
       "│ 5115 │ -1      │ 1    │ -1          │ 1           │ -1            │\n",
       "│ 5116 │ 1       │ 1    │ 1           │ -1          │ 1             │\n",
       "│ 5117 │ -1      │ -1   │ 1           │ -1          │ -1            │\n",
       "│ 5118 │ 1       │ 1    │ 1           │ 1           │ -1            │\n",
       "│ 5119 │ 1       │ 1    │ 1           │ 1           │ 1             │\n",
       "│ 5120 │ 1       │ 1    │ 1           │ 1           │ 1             │\n",
       "│ 5121 │ 1       │ 1    │ 1           │ 1           │ -1            │\n",
       "│ 5122 │ 1       │ 1    │ 1           │ -1          │ 1             │\n",
       "│ 5123 │ 1       │ 1    │ 1           │ 1           │ 1             │\n",
       "│ 5124 │ 1       │ 1    │ 1           │ 1           │ -1            │\n",
       "\n",
       "│ Row  │ Links_in_tags │ SFH │ Submitting_to_email │ Abnormal_URL │ Redirect │\n",
       "├──────┼───────────────┼─────┼─────────────────────┼──────────────┼──────────┤\n",
       "│ 1    │ 1             │ 1   │ 1                   │ 1            │ 0        │\n",
       "│ 2    │ 0             │ -1  │ 1                   │ 1            │ 0        │\n",
       "│ 3    │ -1            │ -1  │ 1                   │ 1            │ 0        │\n",
       "│ 4    │ 1             │ -1  │ 1                   │ 1            │ 0        │\n",
       "│ 5    │ 1             │ -1  │ 1                   │ 1            │ 0        │\n",
       "│ 6    │ 1             │ -1  │ 1                   │ 1            │ 1        │\n",
       "│ 7    │ 0             │ -1  │ -1                  │ -1           │ 1        │\n",
       "│ 8    │ 1             │ -1  │ -1                  │ 1            │ 0        │\n",
       "│ 9    │ 1             │ 1   │ 1                   │ 1            │ 0        │\n",
       "│ 10   │ 1             │ -1  │ 1                   │ 1            │ 0        │\n",
       "│ 11   │ 0             │ 1   │ 1                   │ 1            │ 0        │\n",
       "⋮\n",
       "│ 5113 │ -1            │ -1  │ 1                   │ 1            │ 0        │\n",
       "│ 5114 │ 1             │ -1  │ 1                   │ 1            │ 0        │\n",
       "│ 5115 │ 0             │ -1  │ 1                   │ -1           │ 0        │\n",
       "│ 5116 │ 0             │ -1  │ 1                   │ 1            │ 0        │\n",
       "│ 5117 │ 0             │ -1  │ -1                  │ 1            │ 0        │\n",
       "│ 5118 │ 0             │ -1  │ 1                   │ 1            │ 0        │\n",
       "│ 5119 │ 1             │ -1  │ 1                   │ 1            │ 0        │\n",
       "│ 5120 │ 1             │ -1  │ 1                   │ 1            │ 0        │\n",
       "│ 5121 │ -1            │ -1  │ 1                   │ 1            │ 0        │\n",
       "│ 5122 │ 1             │ -1  │ 1                   │ 1            │ 0        │\n",
       "│ 5123 │ 0             │ -1  │ 1                   │ 1            │ 0        │\n",
       "│ 5124 │ 0             │ 1   │ 1                   │ 1            │ 0        │\n",
       "\n",
       "│ Row  │ on_mouseover │ RightClick │ popUpWidnow │ Iframe │ age_of_domain │\n",
       "├──────┼──────────────┼────────────┼─────────────┼────────┼───────────────┤\n",
       "│ 1    │ 1            │ 1          │ 1           │ 1      │ 1             │\n",
       "│ 2    │ 1            │ 1          │ 1           │ 1      │ 1             │\n",
       "│ 3    │ 1            │ 1          │ 1           │ 1      │ 1             │\n",
       "│ 4    │ 1            │ 1          │ 1           │ 1      │ 1             │\n",
       "│ 5    │ 1            │ 1          │ 1           │ 1      │ 1             │\n",
       "│ 6    │ 1            │ 1          │ 1           │ 1      │ 1             │\n",
       "│ 7    │ 1            │ 1          │ -1          │ -1     │ 1             │\n",
       "│ 8    │ 1            │ 1          │ 1           │ 1      │ -1            │\n",
       "│ 9    │ 1            │ 1          │ 1           │ 1      │ 1             │\n",
       "│ 10   │ 1            │ 1          │ 1           │ 1      │ 1             │\n",
       "│ 11   │ 1            │ 1          │ 1           │ 1      │ 1             │\n",
       "⋮\n",
       "│ 5113 │ 1            │ 1          │ 1           │ 1      │ 1             │\n",
       "│ 5114 │ 1            │ 1          │ 1           │ 1      │ 1             │\n",
       "│ 5115 │ -1           │ 1          │ -1          │ 1      │ -1            │\n",
       "│ 5116 │ 1            │ 1          │ 1           │ 1      │ 1             │\n",
       "│ 5117 │ -1           │ -1         │ -1          │ -1     │ 1             │\n",
       "│ 5118 │ 1            │ 1          │ 1           │ 1      │ 1             │\n",
       "│ 5119 │ 1            │ 1          │ 1           │ 1      │ 1             │\n",
       "│ 5120 │ 1            │ 1          │ 1           │ 1      │ 1             │\n",
       "│ 5121 │ 1            │ 1          │ 1           │ 1      │ 1             │\n",
       "│ 5122 │ 1            │ 1          │ 1           │ 1      │ 1             │\n",
       "│ 5123 │ 1            │ 1          │ 1           │ 1      │ 1             │\n",
       "│ 5124 │ 1            │ 1          │ 1           │ 1      │ -1            │\n",
       "\n",
       "│ Row  │ DNSRecord │ web_traffic │ Page_Rank │ Google_Index │\n",
       "├──────┼───────────┼─────────────┼───────────┼──────────────┤\n",
       "│ 1    │ 1         │ 1           │ 1         │ 1            │\n",
       "│ 2    │ 1         │ -1          │ 1         │ 1            │\n",
       "│ 3    │ 1         │ -1          │ 1         │ 1            │\n",
       "│ 4    │ 1         │ 1           │ 1         │ -1           │\n",
       "│ 5    │ NA        │ 1           │ 1         │ 1            │\n",
       "│ 6    │ 1         │ 1           │ 1         │ 1            │\n",
       "│ 7    │ 1         │ 1           │ 1         │ 1            │\n",
       "│ 8    │ NA        │ 1           │ -1        │ 1            │\n",
       "│ 9    │ NA        │ 1           │ 1         │ 1            │\n",
       "│ 10   │ 1         │ -1          │ 1         │ 1            │\n",
       "│ 11   │ NA        │ 1           │ 1         │ -1           │\n",
       "⋮\n",
       "│ 5113 │ 1         │ 1           │ -1        │ 1            │\n",
       "│ 5114 │ 1         │ 1           │ -1        │ 1            │\n",
       "│ 5115 │ NA        │ -1          │ 1         │ -1           │\n",
       "│ 5116 │ NA        │ 1           │ -1        │ 1            │\n",
       "│ 5117 │ NA        │ -1          │ 1         │ 1            │\n",
       "│ 5118 │ NA        │ -1          │ 1         │ 1            │\n",
       "│ 5119 │ 1         │ 1           │ 1         │ 1            │\n",
       "│ 5120 │ NA        │ 1           │ 1         │ 1            │\n",
       "│ 5121 │ 1         │ -1          │ 1         │ 1            │\n",
       "│ 5122 │ -1        │ 1           │ 1         │ 1            │\n",
       "│ 5123 │ -1        │ 0           │ 1         │ 1            │\n",
       "│ 5124 │ 1         │ -1          │ -1        │ 1            │\n",
       "\n",
       "│ Row  │ Links_pointing_to_page │ Statistical_report │ Result │ DNS │\n",
       "├──────┼────────────────────────┼────────────────────┼────────┼─────┤\n",
       "│ 1    │ 0                      │ 1                  │ 1      │ NA  │\n",
       "│ 2    │ 1                      │ 1                  │ 1      │ NA  │\n",
       "│ 3    │ 0                      │ 1                  │ -1     │ NA  │\n",
       "│ 4    │ 0                      │ 1                  │ 1      │ NA  │\n",
       "│ 5    │ 0                      │ 1                  │ 1      │ 1   │\n",
       "│ 6    │ 0                      │ 1                  │ 1      │ NA  │\n",
       "│ 7    │ 1                      │ -1                 │ 1      │ NA  │\n",
       "│ 8    │ 1                      │ 1                  │ -1     │ -1  │\n",
       "│ 9    │ 1                      │ 1                  │ 1      │ 1   │\n",
       "│ 10   │ 0                      │ 1                  │ 1      │ NA  │\n",
       "│ 11   │ 0                      │ 1                  │ 1      │ 1   │\n",
       "⋮\n",
       "│ 5113 │ 1                      │ 1                  │ -1     │ NA  │\n",
       "│ 5114 │ 0                      │ 1                  │ 1      │ NA  │\n",
       "│ 5115 │ -1                     │ -1                 │ -1     │ -1  │\n",
       "│ 5116 │ 1                      │ 1                  │ -1     │ 1   │\n",
       "│ 5117 │ 1                      │ -1                 │ -1     │ 1   │\n",
       "│ 5118 │ 0                      │ 1                  │ -1     │ 1   │\n",
       "│ 5119 │ -1                     │ 1                  │ 1      │ NA  │\n",
       "│ 5120 │ 0                      │ 1                  │ 1      │ 1   │\n",
       "│ 5121 │ 0                      │ 1                  │ -1     │ NA  │\n",
       "│ 5122 │ 1                      │ 1                  │ 1      │ NA  │\n",
       "│ 5123 │ 0                      │ 1                  │ 1      │ NA  │\n",
       "│ 5124 │ 0                      │ 1                  │ -1     │ NA  │"
      ]
     },
     "execution_count": 59,
     "metadata": {},
     "output_type": "execute_result"
    }
   ],
   "source": [
    "dataset = dataset[shuffle(1:end),:]"
   ]
  },
  {
   "cell_type": "code",
   "execution_count": 60,
   "metadata": {},
   "outputs": [
    {
     "data": {
      "text/plain": [
       "32-element Array{Symbol,1}:\n",
       " :having_IP_Address          \n",
       " :URL_Length                 \n",
       " :Shortining_Service         \n",
       " :having_At_Symbol           \n",
       " :double_slash_redirecting   \n",
       " :Prefix_Suffix              \n",
       " :having_Sub_Domain          \n",
       " :SSLfinal_State             \n",
       " :Domain_registeration_length\n",
       " :Favicon                    \n",
       " :port                       \n",
       " :HTTPS_token                \n",
       " :Request_URL                \n",
       " ⋮                           \n",
       " :RightClick                 \n",
       " :popUpWidnow                \n",
       " :Iframe                     \n",
       " :age_of_domain              \n",
       " :DNSRecord                  \n",
       " :web_traffic                \n",
       " :Page_Rank                  \n",
       " :Google_Index               \n",
       " :Links_pointing_to_page     \n",
       " :Statistical_report         \n",
       " :Result                     \n",
       " :DNS                        "
      ]
     },
     "execution_count": 60,
     "metadata": {},
     "output_type": "execute_result"
    }
   ],
   "source": [
    "n = names(dataset)"
   ]
  },
  {
   "cell_type": "code",
   "execution_count": 61,
   "metadata": {},
   "outputs": [
    {
     "data": {
      "text/plain": [
       "30×0 Array{Symbol,2}"
      ]
     },
     "execution_count": 61,
     "metadata": {},
     "output_type": "execute_result"
    }
   ],
   "source": [
    "y = convert(Array, dataset[:Result]);\n",
    "\n",
    "\n",
    "X = delete!(dataset, :Result)\n",
    "\n",
    "n = n[1:30,32:end]\n",
    "\n"
   ]
  },
  {
   "cell_type": "code",
   "execution_count": 62,
   "metadata": {},
   "outputs": [
    {
     "ename": "LoadError",
     "evalue": "\u001b[91mUndefVarError: cnt not defined\u001b[39m",
     "output_type": "error",
     "traceback": [
      "\u001b[91mUndefVarError: cnt not defined\u001b[39m",
      "",
      "Stacktrace:",
      " [1] \u001b[1minclude_string\u001b[22m\u001b[22m\u001b[1m(\u001b[22m\u001b[22m::String, ::String\u001b[1m)\u001b[22m\u001b[22m at \u001b[1m./loading.jl:515\u001b[22m\u001b[22m"
     ]
    }
   ],
   "source": [
    "for nm in n\n",
    "    cnt = zeros(3)\n",
    "    for entry in X[nm]\n",
    "        if !isna.(entry)\n",
    "       \n",
    "            cnt[entry+2] += 1\n",
    "            end\n",
    "        end\n",
    "    end\n",
    "    X[isna.(X[nm]), nm] = findmax(cnt)[2]-2\n",
    "    \n",
    "end\n",
    "@show X = Array(X)\n",
    "\n",
    "#[X[isna.(X[nm]), nm] = mode(X[nm]) for nm in n]"
   ]
  },
  {
   "cell_type": "code",
   "execution_count": 63,
   "metadata": {},
   "outputs": [
    {
     "ename": "LoadError",
     "evalue": "\u001b[91mKeyError: key :Result not found\u001b[39m",
     "output_type": "error",
     "traceback": [
      "\u001b[91mKeyError: key :Result not found\u001b[39m",
      "",
      "Stacktrace:",
      " [1] \u001b[1mgetindex\u001b[22m\u001b[22m at \u001b[1m./dict.jl:474\u001b[22m\u001b[22m [inlined]",
      " [2] \u001b[1mgetindex\u001b[22m\u001b[22m\u001b[1m(\u001b[22m\u001b[22m::DataFrames.Index, ::Symbol\u001b[1m)\u001b[22m\u001b[22m at \u001b[1m/Users/Joshua/.julia/v0.6/DataFrames/src/other/index.jl:115\u001b[22m\u001b[22m",
      " [3] \u001b[1mgetindex\u001b[22m\u001b[22m\u001b[1m(\u001b[22m\u001b[22m::DataFrames.DataFrame, ::Symbol\u001b[1m)\u001b[22m\u001b[22m at \u001b[1m/Users/Joshua/.julia/v0.6/DataFrames/src/dataframe/dataframe.jl:228\u001b[22m\u001b[22m",
      " [4] \u001b[1minclude_string\u001b[22m\u001b[22m\u001b[1m(\u001b[22m\u001b[22m::String, ::String\u001b[1m)\u001b[22m\u001b[22m at \u001b[1m./loading.jl:515\u001b[22m\u001b[22m"
     ]
    }
   ],
   "source": [
    "y = convert(Array,dataset[:Result]);"
   ]
  },
  {
   "cell_type": "code",
   "execution_count": 64,
   "metadata": {},
   "outputs": [],
   "source": [
    "Xtrain = X[1:4000,:]\n",
    "Xtest = X[4001:end,:]\n",
    "ytrain = y[1:4000]\n",
    "ytest = y[4001:end];"
   ]
  },
  {
   "cell_type": "code",
   "execution_count": 12,
   "metadata": {
    "collapsed": true
   },
   "outputs": [],
   "source": [
    "using ScikitLearn: fit!, predict"
   ]
  },
  {
   "cell_type": "code",
   "execution_count": 13,
   "metadata": {},
   "outputs": [
    {
     "name": "stderr",
     "output_type": "stream",
     "text": [
      "\u001b[1m\u001b[36mINFO: \u001b[39m\u001b[22m\u001b[36mPackage DecisionTree is already installed\n",
      "\u001b[39m\u001b[1m\u001b[36mINFO: \u001b[39m\u001b[22m\u001b[36mMETADATA is out-of-date — you may not have the latest version of DecisionTree\n",
      "\u001b[39m\u001b[1m\u001b[36mINFO: \u001b[39m\u001b[22m\u001b[36mUse `Pkg.update()` to get the latest versions of your packages\n",
      "\u001b[39m"
     ]
    }
   ],
   "source": [
    "Pkg.add(\"DecisionTree\")\n",
    "\n",
    "using ScikitLearn\n",
    "using PyCall\n",
    "using PyPlot\n",
    "using ScikitLearn.CrossValidation: train_test_split\n",
    "using DecisionTree\n",
    "\n",
    "#using ScikitLearn.Models: DecisionTreeClassifier, RandomForestClassifier, AdaBoostStumpClassifier\n",
    "@pyimport matplotlib.colors as mplc\n",
    "@sk_import preprocessing: StandardScaler\n",
    "@sk_import neighbors: KNeighborsClassifier\n",
    "@sk_import svm: SVC\n",
    "@sk_import naive_bayes: GaussianNB\n",
    "@sk_import discriminant_analysis: (LinearDiscriminantAnalysis, QuadraticDiscriminantAnalysis)\n",
    "using ScikitLearn.Utils: meshgrid"
   ]
  },
  {
   "cell_type": "code",
   "execution_count": 14,
   "metadata": {},
   "outputs": [
    {
     "data": {
      "text/plain": [
       "PyObject <class 'sklearn.linear_model.logistic.LogisticRegression'>"
      ]
     },
     "execution_count": 14,
     "metadata": {},
     "output_type": "execute_result"
    }
   ],
   "source": [
    "@sk_import linear_model: LogisticRegression"
   ]
  },
  {
   "cell_type": "code",
   "execution_count": 15,
   "metadata": {},
   "outputs": [
    {
     "ename": "LoadError",
     "evalue": "\u001b[91mUndefVarError: Xtest not defined\u001b[39m",
     "output_type": "error",
     "traceback": [
      "\u001b[91mUndefVarError: Xtest not defined\u001b[39m",
      "",
      "Stacktrace:",
      " [1] \u001b[1minclude_string\u001b[22m\u001b[22m\u001b[1m(\u001b[22m\u001b[22m::String, ::String\u001b[1m)\u001b[22m\u001b[22m at \u001b[1m./loading.jl:515\u001b[22m\u001b[22m"
     ]
    }
   ],
   "source": [
    "using ScikitLearn.GridSearch: GridSearchCV\n",
    "gridsearch = GridSearchCV(LogisticRegression(penalty = \"l1\"), Dict(:C => 0.1:0.1:2.0))\n",
    "fit!(gridsearch, Xtest, ytest)\n",
    "println(\"Best parameters: $(gridsearch.best_params_)\")"
   ]
  },
  {
   "cell_type": "code",
   "execution_count": 16,
   "metadata": {},
   "outputs": [
    {
     "ename": "LoadError",
     "evalue": "\u001b[91mUndefVarError: Xtest not defined\u001b[39m",
     "output_type": "error",
     "traceback": [
      "\u001b[91mUndefVarError: Xtest not defined\u001b[39m",
      "",
      "Stacktrace:",
      " [1] \u001b[1minclude_string\u001b[22m\u001b[22m\u001b[1m(\u001b[22m\u001b[22m::String, ::String\u001b[1m)\u001b[22m\u001b[22m at \u001b[1m./loading.jl:515\u001b[22m\u001b[22m"
     ]
    }
   ],
   "source": [
    "using ScikitLearn.GridSearch: GridSearchCV\n",
    "gridsearch = GridSearchCV(LogisticRegression(penalty = \"l2\"), Dict(:C => 0.1:0.1:2.0))\n",
    "fit!(gridsearch, Xtest, ytest)\n",
    "println(\"Best parameters: $(gridsearch.best_params_)\")"
   ]
  },
  {
   "cell_type": "code",
   "execution_count": 17,
   "metadata": {},
   "outputs": [
    {
     "ename": "LoadError",
     "evalue": "\u001b[91mUndefVarError: Xtrain not defined\u001b[39m",
     "output_type": "error",
     "traceback": [
      "\u001b[91mUndefVarError: Xtrain not defined\u001b[39m",
      "",
      "Stacktrace:",
      " [1] \u001b[1minclude_string\u001b[22m\u001b[22m\u001b[1m(\u001b[22m\u001b[22m::String, ::String\u001b[1m)\u001b[22m\u001b[22m at \u001b[1m./loading.jl:515\u001b[22m\u001b[22m"
     ]
    }
   ],
   "source": [
    "log = LogisticRegression(C = 0.5, penalty = \"l1\", fit_intercept=true, max_iter = 100)\n",
    "fit!(log, Xtrain, ytrain)\n",
    "#model0 = fit(model, X, y)\n",
    "ylog = predict(log,Xtest) #the output vector of predictions\n",
    "accuracy = count(ylog .== ytest)/length(ytest)\n",
    "#accuracy = sum(predict(log, Xtest) .== ytest) / length(ytest)\n",
    "#println(\"accuracy: $accuracy\")"
   ]
  },
  {
   "cell_type": "code",
   "execution_count": 18,
   "metadata": {},
   "outputs": [
    {
     "ename": "LoadError",
     "evalue": "\u001b[91mUndefVarError: ylog not defined\u001b[39m",
     "output_type": "error",
     "traceback": [
      "\u001b[91mUndefVarError: ylog not defined\u001b[39m",
      "",
      "Stacktrace:",
      " [1] \u001b[1manonymous\u001b[22m\u001b[22m at \u001b[1m./<missing>:?\u001b[22m\u001b[22m",
      " [2] \u001b[1minclude_string\u001b[22m\u001b[22m\u001b[1m(\u001b[22m\u001b[22m::String, ::String\u001b[1m)\u001b[22m\u001b[22m at \u001b[1m./loading.jl:515\u001b[22m\u001b[22m"
     ]
    }
   ],
   "source": [
    "false_neg = 0 \n",
    "false_pos = 0 \n",
    "sum = 0 \n",
    "for i=1:length(ylog)\n",
    "    if ytest[i] != ylog[i]\n",
    "        sum+=1\n",
    "        if (ytest[i] == 1 && ylog[i] == -1)\n",
    "            false_neg += 1\n",
    "        else\n",
    "            false_pos += 1\n",
    "        end\n",
    "    end\n",
    "end\n",
    "println(false_neg/length(ylog))\n",
    "println(false_pos/length(ylog))"
   ]
  },
  {
   "cell_type": "code",
   "execution_count": 19,
   "metadata": {},
   "outputs": [
    {
     "ename": "LoadError",
     "evalue": "\u001b[91mUndefVarError: Xtrain not defined\u001b[39m",
     "output_type": "error",
     "traceback": [
      "\u001b[91mUndefVarError: Xtrain not defined\u001b[39m",
      "",
      "Stacktrace:",
      " [1] \u001b[1minclude_string\u001b[22m\u001b[22m\u001b[1m(\u001b[22m\u001b[22m::String, ::String\u001b[1m)\u001b[22m\u001b[22m at \u001b[1m./loading.jl:515\u001b[22m\u001b[22m"
     ]
    }
   ],
   "source": [
    "log2 = LogisticRegression(C = 0.1, penalty = \"l2\", fit_intercept=true)\n",
    "fit!(log2, Xtrain, ytrain)\n",
    "#model0 = fit(model, X, y)\n",
    "ylog2 = predict(log2,Xtest) #the output vector of predictions\n",
    "accuracy = count(ylog .== ytest)/length(ytest)\n",
    "#accuracy = sum(predict(log, Xtest) .== ytest) / length(ytest)\n",
    "#println(\"accuracy: $accuracy\")\n"
   ]
  },
  {
   "cell_type": "code",
   "execution_count": 20,
   "metadata": {},
   "outputs": [
    {
     "data": {
      "text/plain": [
       "PyObject LogisticRegression(C=0.5, class_weight=None, dual=False, fit_intercept=True,\n",
       "          intercept_scaling=1, max_iter=100, multi_class='ovr', n_jobs=1,\n",
       "          penalty='l1', random_state=None, solver='liblinear', tol=0.0001,\n",
       "          verbose=0, warm_start=False)"
      ]
     },
     "execution_count": 20,
     "metadata": {},
     "output_type": "execute_result"
    }
   ],
   "source": [
    "log"
   ]
  },
  {
   "cell_type": "code",
   "execution_count": 21,
   "metadata": {},
   "outputs": [
    {
     "ename": "LoadError",
     "evalue": "\u001b[91mUndefVarError: ylog2 not defined\u001b[39m",
     "output_type": "error",
     "traceback": [
      "\u001b[91mUndefVarError: ylog2 not defined\u001b[39m",
      "",
      "Stacktrace:",
      " [1] \u001b[1manonymous\u001b[22m\u001b[22m at \u001b[1m./<missing>:?\u001b[22m\u001b[22m",
      " [2] \u001b[1minclude_string\u001b[22m\u001b[22m\u001b[1m(\u001b[22m\u001b[22m::String, ::String\u001b[1m)\u001b[22m\u001b[22m at \u001b[1m./loading.jl:515\u001b[22m\u001b[22m"
     ]
    }
   ],
   "source": [
    "false_neg = 0 \n",
    "false_pos = 0 \n",
    "for i=1:length(ylog2)\n",
    "    if ytest[i] != ylog2[i]\n",
    "        sum+=1\n",
    "        if (ytest[i] == 1 && ylog2[i] == -1)\n",
    "            false_neg += 1\n",
    "        else\n",
    "            false_pos += 1\n",
    "        end\n",
    "    end\n",
    "end\n",
    "println(false_neg/length(ylog))\n",
    "println(false_pos/length(ylog))"
   ]
  },
  {
   "cell_type": "code",
   "execution_count": 22,
   "metadata": {},
   "outputs": [
    {
     "ename": "LoadError",
     "evalue": "\u001b[91mUndefVarError: Xtest not defined\u001b[39m",
     "output_type": "error",
     "traceback": [
      "\u001b[91mUndefVarError: Xtest not defined\u001b[39m",
      "",
      "Stacktrace:",
      " [1] \u001b[1minclude_string\u001b[22m\u001b[22m\u001b[1m(\u001b[22m\u001b[22m::String, ::String\u001b[1m)\u001b[22m\u001b[22m at \u001b[1m./loading.jl:515\u001b[22m\u001b[22m"
     ]
    }
   ],
   "source": [
    "#the probabilities of either -1 (first column) or 1 (second column)\n",
    "p = predict_proba(log, Xtest)"
   ]
  },
  {
   "cell_type": "code",
   "execution_count": 23,
   "metadata": {},
   "outputs": [
    {
     "ename": "LoadError",
     "evalue": "\u001b[91mUndefVarError: X not defined\u001b[39m",
     "output_type": "error",
     "traceback": [
      "\u001b[91mUndefVarError: X not defined\u001b[39m",
      "",
      "Stacktrace:",
      " [1] \u001b[1minclude_string\u001b[22m\u001b[22m\u001b[1m(\u001b[22m\u001b[22m::String, ::String\u001b[1m)\u001b[22m\u001b[22m at \u001b[1m./loading.jl:515\u001b[22m\u001b[22m"
     ]
    }
   ],
   "source": [
    "using ScikitLearn.CrossValidation: cross_val_score\n",
    "\n",
    "@time cv1 = cross_val_score(LogisticRegression(C=0.5, penalty = \"l1\"), X, y; cv = 10)"
   ]
  },
  {
   "cell_type": "code",
   "execution_count": 24,
   "metadata": {
    "scrolled": true
   },
   "outputs": [
    {
     "name": "stderr",
     "output_type": "stream",
     "text": [
      "WARNING: using StatsBase.fit! in module Main conflicts with an existing identifier.\n",
      "WARNING: using StatsBase.predict in module Main conflicts with an existing identifier.\n",
      "\n",
      "WARNING: deprecated syntax \"abstract StreamStat{F<:Distributions.VariateForm,S<:Distributions.ValueSupport}\" at /Users/Joshua/.julia/v0.6/StreamStats/src/streamstat.jl:5.\n",
      "Use \"abstract type StreamStat{F<:Distributions.VariateForm,S<:Distributions.ValueSupport} end\" instead.\n",
      "\n",
      "WARNING: deprecated syntax \"typealias DiscreteUnivariateStreamStat StreamStat{Distributions.Univariate,Distributions.Discrete}\" at /Users/Joshua/.julia/v0.6/StreamStats/src/streamstat.jl:10.\n",
      "Use \"const DiscreteUnivariateStreamStat = StreamStat{Distributions.Univariate,Distributions.Discrete}\" instead.\n",
      "\n",
      "WARNING: deprecated syntax \"typealias ContinuousUnivariateStreamStat StreamStat{Distributions.Univariate,Distributions.Continuous}\" at /Users/Joshua/.julia/v0.6/StreamStats/src/streamstat.jl:15.\n",
      "Use \"const ContinuousUnivariateStreamStat = StreamStat{Distributions.Univariate,Distributions.Continuous}\" instead.\n",
      "\n",
      "WARNING: deprecated syntax \"typealias DiscreteMultivariateStreamStat StreamStat{Distributions.Multivariate,Distributions.Discrete}\" at /Users/Joshua/.julia/v0.6/StreamStats/src/streamstat.jl:20.\n",
      "Use \"const DiscreteMultivariateStreamStat = StreamStat{Distributions.Multivariate,Distributions.Discrete}\" instead.\n",
      "\n",
      "WARNING: deprecated syntax \"typealias ContinuousMultivariateStreamStat StreamStat{Distributions.Multivariate,Distributions.Continuous}\" at /Users/Joshua/.julia/v0.6/StreamStats/src/streamstat.jl:25.\n",
      "Use \"const ContinuousMultivariateStreamStat = StreamStat{Distributions.Multivariate,Distributions.Continuous}\" instead.\n"
     ]
    },
    {
     "ename": "LoadError",
     "evalue": "LoadError: LoadError: \u001b[91mUndefVarError: Uint32 not defined\u001b[39m\nwhile loading /Users/Joshua/.julia/v0.6/StreamStats/src/hyper_log_log.jl, in expression starting on line 3\nwhile loading /Users/Joshua/.julia/v0.6/StreamStats/src/StreamStats.jl, in expression starting on line 18",
     "output_type": "error",
     "traceback": [
      "LoadError: LoadError: \u001b[91mUndefVarError: Uint32 not defined\u001b[39m\nwhile loading /Users/Joshua/.julia/v0.6/StreamStats/src/hyper_log_log.jl, in expression starting on line 3\nwhile loading /Users/Joshua/.julia/v0.6/StreamStats/src/StreamStats.jl, in expression starting on line 18",
      "",
      "Stacktrace:",
      " [1] \u001b[1minclude_from_node1\u001b[22m\u001b[22m\u001b[1m(\u001b[22m\u001b[22m::String\u001b[1m)\u001b[22m\u001b[22m at \u001b[1m./loading.jl:569\u001b[22m\u001b[22m",
      " [2] \u001b[1minclude\u001b[22m\u001b[22m\u001b[1m(\u001b[22m\u001b[22m::String\u001b[1m)\u001b[22m\u001b[22m at \u001b[1m./sysimg.jl:14\u001b[22m\u001b[22m",
      " [3] \u001b[1minclude_from_node1\u001b[22m\u001b[22m\u001b[1m(\u001b[22m\u001b[22m::String\u001b[1m)\u001b[22m\u001b[22m at \u001b[1m./loading.jl:569\u001b[22m\u001b[22m",
      " [4] \u001b[1meval\u001b[22m\u001b[22m\u001b[1m(\u001b[22m\u001b[22m::Module, ::Any\u001b[1m)\u001b[22m\u001b[22m at \u001b[1m./boot.jl:235\u001b[22m\u001b[22m",
      " [5] \u001b[1m_require\u001b[22m\u001b[22m\u001b[1m(\u001b[22m\u001b[22m::Symbol\u001b[1m)\u001b[22m\u001b[22m at \u001b[1m./loading.jl:483\u001b[22m\u001b[22m",
      " [6] \u001b[1mrequire\u001b[22m\u001b[22m\u001b[1m(\u001b[22m\u001b[22m::Symbol\u001b[1m)\u001b[22m\u001b[22m at \u001b[1m./loading.jl:398\u001b[22m\u001b[22m",
      " [7] \u001b[1minclude_string\u001b[22m\u001b[22m\u001b[1m(\u001b[22m\u001b[22m::String, ::String\u001b[1m)\u001b[22m\u001b[22m at \u001b[1m./loading.jl:515\u001b[22m\u001b[22m"
     ]
    }
   ],
   "source": [
    "using StatsBase, StatsFuns, StreamStats\n",
    "summarystats(cv1)"
   ]
  },
  {
   "cell_type": "code",
   "execution_count": 25,
   "metadata": {},
   "outputs": [
    {
     "ename": "LoadError",
     "evalue": "\u001b[91mUndefVarError: X not defined\u001b[39m",
     "output_type": "error",
     "traceback": [
      "\u001b[91mUndefVarError: X not defined\u001b[39m",
      "",
      "Stacktrace:",
      " [1] \u001b[1minclude_string\u001b[22m\u001b[22m\u001b[1m(\u001b[22m\u001b[22m::String, ::String\u001b[1m)\u001b[22m\u001b[22m at \u001b[1m./loading.jl:515\u001b[22m\u001b[22m"
     ]
    }
   ],
   "source": [
    "@time cv2 = cross_val_score(LogisticRegression(C=0.1, penalty = \"l2\"), X, y; cv=10)"
   ]
  },
  {
   "cell_type": "code",
   "execution_count": 26,
   "metadata": {},
   "outputs": [
    {
     "ename": "LoadError",
     "evalue": "\u001b[91mUndefVarError: cv2 not defined\u001b[39m",
     "output_type": "error",
     "traceback": [
      "\u001b[91mUndefVarError: cv2 not defined\u001b[39m",
      "",
      "Stacktrace:",
      " [1] \u001b[1minclude_string\u001b[22m\u001b[22m\u001b[1m(\u001b[22m\u001b[22m::String, ::String\u001b[1m)\u001b[22m\u001b[22m at \u001b[1m./loading.jl:515\u001b[22m\u001b[22m"
     ]
    }
   ],
   "source": [
    "summarystats(cv2)"
   ]
  },
  {
   "cell_type": "markdown",
   "metadata": {},
   "source": [
    "# proximal gradient method "
   ]
  },
  {
   "cell_type": "code",
   "execution_count": 27,
   "metadata": {
    "collapsed": true
   },
   "outputs": [],
   "source": [
    "using LowRankModels"
   ]
  },
  {
   "cell_type": "code",
   "execution_count": 28,
   "metadata": {},
   "outputs": [
    {
     "data": {
      "text/plain": [
       "grad (generic function with 20 methods)"
      ]
     },
     "execution_count": 28,
     "metadata": {},
     "output_type": "execute_result"
    }
   ],
   "source": [
    "import LowRankModels: evaluate, grad\n",
    "evaluate(loss::Loss, X::Array{Float64,2}, w, y) = evaluate(loss, X*w, y)\n",
    "grad(loss::Loss, X::Array{Float64,2}, w, y) = X'*grad(loss, X*w, y)"
   ]
  },
  {
   "cell_type": "code",
   "execution_count": 29,
   "metadata": {},
   "outputs": [
    {
     "data": {
      "text/plain": [
       "proxgrad (generic function with 2 methods)"
      ]
     },
     "execution_count": 29,
     "metadata": {},
     "output_type": "execute_result"
    }
   ],
   "source": [
    "# proximal gradient method\n",
    "function proxgrad(loss::Loss, reg::Regularizer, X, y;\n",
    "                  maxiters::Int = 10, stepsize::Number = 1., \n",
    "                  ch::ConvergenceHistory = ConvergenceHistory(\"proxgrad\"))\n",
    "    w = zeros(size(X,2))\n",
    "    for t=1:maxiters\n",
    "        t0 = time()\n",
    "        # gradient step\n",
    "        g = grad(loss, X, w, y)\n",
    "        w = w - stepsize*g\n",
    "        # prox step\n",
    "        w = prox(reg, w, stepsize)\n",
    "        # record objective value\n",
    "        update_ch!(ch, time() - t0, obj = evaluate(loss, X, w, y) + evaluate(reg, w))\n",
    "    end\n",
    "    return w\n",
    "end"
   ]
  },
  {
   "cell_type": "code",
   "execution_count": 30,
   "metadata": {},
   "outputs": [
    {
     "data": {
      "text/plain": [
       "LowRankModels.LogisticLoss(1.0, LowRankModels.BoolDomain())"
      ]
     },
     "execution_count": 30,
     "metadata": {},
     "output_type": "execute_result"
    }
   ],
   "source": [
    "reg = OneReg()\n",
    "loss = LogisticLoss()"
   ]
  },
  {
   "cell_type": "code",
   "execution_count": 31,
   "metadata": {},
   "outputs": [
    {
     "ename": "LoadError",
     "evalue": "\u001b[91mUndefVarError: ytrain not defined\u001b[39m",
     "output_type": "error",
     "traceback": [
      "\u001b[91mUndefVarError: ytrain not defined\u001b[39m",
      "",
      "Stacktrace:",
      " [1] \u001b[1minclude_string\u001b[22m\u001b[22m\u001b[1m(\u001b[22m\u001b[22m::String, ::String\u001b[1m)\u001b[22m\u001b[22m at \u001b[1m./loading.jl:515\u001b[22m\u001b[22m"
     ]
    }
   ],
   "source": [
    "y_i = convert(Array{Bool}, ytrain .== 1);"
   ]
  },
  {
   "cell_type": "code",
   "execution_count": 32,
   "metadata": {},
   "outputs": [
    {
     "ename": "LoadError",
     "evalue": "\u001b[91mUndefVarError: Xtrain not defined\u001b[39m",
     "output_type": "error",
     "traceback": [
      "\u001b[91mUndefVarError: Xtrain not defined\u001b[39m",
      "",
      "Stacktrace:",
      " [1] \u001b[1minclude_string\u001b[22m\u001b[22m\u001b[1m(\u001b[22m\u001b[22m::String, ::String\u001b[1m)\u001b[22m\u001b[22m at \u001b[1m./loading.jl:515\u001b[22m\u001b[22m"
     ]
    }
   ],
   "source": [
    "X_i = convert(Array{Float64,2},Xtrain);"
   ]
  },
  {
   "cell_type": "code",
   "execution_count": 33,
   "metadata": {},
   "outputs": [
    {
     "ename": "LoadError",
     "evalue": "\u001b[91mUndefVarError: Xtrain not defined\u001b[39m",
     "output_type": "error",
     "traceback": [
      "\u001b[91mUndefVarError: Xtrain not defined\u001b[39m",
      "",
      "Stacktrace:",
      " [1] \u001b[1minclude_string\u001b[22m\u001b[22m\u001b[1m(\u001b[22m\u001b[22m::String, ::String\u001b[1m)\u001b[22m\u001b[22m at \u001b[1m./loading.jl:515\u001b[22m\u001b[22m"
     ]
    }
   ],
   "source": [
    "step = 1/norm(Xtrain)^2"
   ]
  },
  {
   "cell_type": "code",
   "execution_count": 34,
   "metadata": {},
   "outputs": [
    {
     "ename": "LoadError",
     "evalue": "\u001b[91mUndefVarError: X_i not defined\u001b[39m",
     "output_type": "error",
     "traceback": [
      "\u001b[91mUndefVarError: X_i not defined\u001b[39m",
      "",
      "Stacktrace:",
      " [1] \u001b[1minclude_string\u001b[22m\u001b[22m\u001b[1m(\u001b[22m\u001b[22m::String, ::String\u001b[1m)\u001b[22m\u001b[22m at \u001b[1m./loading.jl:515\u001b[22m\u001b[22m"
     ]
    }
   ],
   "source": [
    "using Plots\n",
    "\n",
    "ch = ConvergenceHistory(\"OneReg\")\n",
    "w = proxgrad(loss, reg, X_i, y_i; \n",
    "             stepsize=step, maxiters=1000,\n",
    "             ch = ch)\n",
    "\n",
    "Plots.plot(ch.objective)\n",
    "println(w)\n",
    "println(maximum(abs.(w)))"
   ]
  },
  {
   "cell_type": "code",
   "execution_count": 35,
   "metadata": {},
   "outputs": [
    {
     "data": {
      "text/html": [
       "<img src=\"data:image/png;base64,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\" />"
      ]
     },
     "execution_count": 35,
     "metadata": {},
     "output_type": "execute_result"
    }
   ],
   "source": [
    "Plots.plot(ch.objective)\n",
    "xlabel!(\"iteration\")\n",
    "ylabel!(\"objective\")"
   ]
  },
  {
   "cell_type": "code",
   "execution_count": 36,
   "metadata": {},
   "outputs": [
    {
     "ename": "LoadError",
     "evalue": "\u001b[91mUndefVarError: Xtest not defined\u001b[39m",
     "output_type": "error",
     "traceback": [
      "\u001b[91mUndefVarError: Xtest not defined\u001b[39m",
      "",
      "Stacktrace:",
      " [1] \u001b[1minclude_string\u001b[22m\u001b[22m\u001b[1m(\u001b[22m\u001b[22m::String, ::String\u001b[1m)\u001b[22m\u001b[22m at \u001b[1m./loading.jl:515\u001b[22m\u001b[22m"
     ]
    }
   ],
   "source": [
    "y_i2 = Xtest*w\n",
    "\n",
    "ynew = []\n",
    "for i in y_i2\n",
    "    if i > 0\n",
    "        append!(ynew,1)\n",
    "    else\n",
    "        append!(ynew,-1)\n",
    "    end\n",
    "end\n",
    "\n",
    "sum = 0 \n",
    "for i=1:length(ynew)\n",
    "    if ynew[i] == ytest[i]\n",
    "        sum+=1\n",
    "    end\n",
    "end\n",
    "println(sum/length(ynew))"
   ]
  },
  {
   "cell_type": "code",
   "execution_count": 37,
   "metadata": {},
   "outputs": [
    {
     "name": "stderr",
     "output_type": "stream",
     "text": [
      "WARNING: imported binding for names overwritten in module Main\n"
     ]
    }
   ],
   "source": [
    "h = .02  # step size in the mesh\n",
    "\n",
    "names = [\"Nearest Neighbors\", \"Linear SVM\", \"RBF SVM\", \"Decision Tree (Julia)\",\n",
    "         \"Random Forest (Julia)\", \"AdaBoost (Julia)\", \"Naive Bayes\", \"Linear Discriminant Analysis\",\n",
    "         \"Quadratic Discriminant Analysis\"]\n",
    "classifiers = [\n",
    "    KNeighborsClassifier(3),\n",
    "    SVC(kernel=\"linear\", C=0.025),\n",
    "    SVC(gamma=5, C=4),\n",
    "    DecisionTreeClassifier(pruning_purity_threshold=0.8),\n",
    "    RandomForestClassifier(ntrees=30),\n",
    "    # Note: scikit-learn's adaboostclassifier is better than DecisionTree.jl in this instance\n",
    "    # because it's not restricted to stumps, and the data isn't axis-aligned\n",
    "    AdaBoostStumpClassifier(niterations=30),\n",
    "    GaussianNB(),\n",
    "    LinearDiscriminantAnalysis(),\n",
    "    QuadraticDiscriminantAnalysis(), \n",
    "];"
   ]
  },
  {
   "cell_type": "code",
   "execution_count": 38,
   "metadata": {},
   "outputs": [
    {
     "ename": "LoadError",
     "evalue": "\u001b[91mUndefVarError: X not defined\u001b[39m",
     "output_type": "error",
     "traceback": [
      "\u001b[91mUndefVarError: X not defined\u001b[39m",
      "",
      "Stacktrace:",
      " [1] \u001b[1minclude_string\u001b[22m\u001b[22m\u001b[1m(\u001b[22m\u001b[22m::String, ::String\u001b[1m)\u001b[22m\u001b[22m at \u001b[1m./loading.jl:515\u001b[22m\u001b[22m"
     ]
    }
   ],
   "source": [
    "cvt = cross_val_score(DecisionTreeClassifier(pruning_purity_threshold=0.8), X, y; cv=10)"
   ]
  },
  {
   "cell_type": "code",
   "execution_count": 39,
   "metadata": {},
   "outputs": [
    {
     "ename": "LoadError",
     "evalue": "\u001b[91mUndefVarError: cvt not defined\u001b[39m",
     "output_type": "error",
     "traceback": [
      "\u001b[91mUndefVarError: cvt not defined\u001b[39m",
      "",
      "Stacktrace:",
      " [1] \u001b[1minclude_string\u001b[22m\u001b[22m\u001b[1m(\u001b[22m\u001b[22m::String, ::String\u001b[1m)\u001b[22m\u001b[22m at \u001b[1m./loading.jl:515\u001b[22m\u001b[22m"
     ]
    }
   ],
   "source": [
    "summarystats(cvt)"
   ]
  },
  {
   "cell_type": "code",
   "execution_count": 40,
   "metadata": {},
   "outputs": [
    {
     "ename": "LoadError",
     "evalue": "\u001b[91mUndefVarError: X not defined\u001b[39m",
     "output_type": "error",
     "traceback": [
      "\u001b[91mUndefVarError: X not defined\u001b[39m",
      "",
      "Stacktrace:",
      " [1] \u001b[1minclude_string\u001b[22m\u001b[22m\u001b[1m(\u001b[22m\u001b[22m::String, ::String\u001b[1m)\u001b[22m\u001b[22m at \u001b[1m./loading.jl:515\u001b[22m\u001b[22m"
     ]
    }
   ],
   "source": [
    "cvt = cross_val_score(RandomForestClassifier(ntrees=30),X,y; cv = 10)"
   ]
  },
  {
   "cell_type": "code",
   "execution_count": 41,
   "metadata": {},
   "outputs": [
    {
     "ename": "LoadError",
     "evalue": "\u001b[91mUndefVarError: cvt not defined\u001b[39m",
     "output_type": "error",
     "traceback": [
      "\u001b[91mUndefVarError: cvt not defined\u001b[39m",
      "",
      "Stacktrace:",
      " [1] \u001b[1minclude_string\u001b[22m\u001b[22m\u001b[1m(\u001b[22m\u001b[22m::String, ::String\u001b[1m)\u001b[22m\u001b[22m at \u001b[1m./loading.jl:515\u001b[22m\u001b[22m"
     ]
    }
   ],
   "source": [
    "summarystats(cvt)"
   ]
  },
  {
   "cell_type": "code",
   "execution_count": 42,
   "metadata": {
    "scrolled": true
   },
   "outputs": [
    {
     "ename": "LoadError",
     "evalue": "\u001b[91mUndefVarError: Xtrain not defined\u001b[39m",
     "output_type": "error",
     "traceback": [
      "\u001b[91mUndefVarError: Xtrain not defined\u001b[39m",
      "",
      "Stacktrace:",
      " [1] \u001b[1mmacro expansion\u001b[22m\u001b[22m at \u001b[1m./In[42]:2\u001b[22m\u001b[22m [inlined]",
      " [2] \u001b[1manonymous\u001b[22m\u001b[22m at \u001b[1m./<missing>:?\u001b[22m\u001b[22m",
      " [3] \u001b[1minclude_string\u001b[22m\u001b[22m\u001b[1m(\u001b[22m\u001b[22m::String, ::String\u001b[1m)\u001b[22m\u001b[22m at \u001b[1m./loading.jl:515\u001b[22m\u001b[22m"
     ]
    }
   ],
   "source": [
    "for (name, clf) in zip(names, classifiers)\n",
    "    fit!(clf, Xtrain, ytrain)\n",
    "    scor = score(clf, Xtest, ytest)\n",
    "    println(scor)\n",
    "end"
   ]
  },
  {
   "cell_type": "code",
   "execution_count": 43,
   "metadata": {},
   "outputs": [
    {
     "ename": "LoadError",
     "evalue": "\u001b[91mUndefVarError: ytrain not defined\u001b[39m",
     "output_type": "error",
     "traceback": [
      "\u001b[91mUndefVarError: ytrain not defined\u001b[39m",
      "",
      "Stacktrace:",
      " [1] \u001b[1minclude_string\u001b[22m\u001b[22m\u001b[1m(\u001b[22m\u001b[22m::String, ::String\u001b[1m)\u001b[22m\u001b[22m at \u001b[1m./loading.jl:515\u001b[22m\u001b[22m"
     ]
    }
   ],
   "source": [
    "model = build_tree(ytrain, Xtrain)"
   ]
  },
  {
   "cell_type": "code",
   "execution_count": 44,
   "metadata": {},
   "outputs": [
    {
     "ename": "LoadError",
     "evalue": "\u001b[91mUndefVarError: model not defined\u001b[39m",
     "output_type": "error",
     "traceback": [
      "\u001b[91mUndefVarError: model not defined\u001b[39m",
      "",
      "Stacktrace:",
      " [1] \u001b[1minclude_string\u001b[22m\u001b[22m\u001b[1m(\u001b[22m\u001b[22m::String, ::String\u001b[1m)\u001b[22m\u001b[22m at \u001b[1m./loading.jl:515\u001b[22m\u001b[22m"
     ]
    }
   ],
   "source": [
    "model = prune_tree(model, 0.8)"
   ]
  },
  {
   "cell_type": "code",
   "execution_count": 45,
   "metadata": {},
   "outputs": [
    {
     "ename": "LoadError",
     "evalue": "\u001b[91mUndefVarError: model not defined\u001b[39m",
     "output_type": "error",
     "traceback": [
      "\u001b[91mUndefVarError: model not defined\u001b[39m",
      "",
      "Stacktrace:",
      " [1] \u001b[1minclude_string\u001b[22m\u001b[22m\u001b[1m(\u001b[22m\u001b[22m::String, ::String\u001b[1m)\u001b[22m\u001b[22m at \u001b[1m./loading.jl:515\u001b[22m\u001b[22m"
     ]
    }
   ],
   "source": [
    "print_tree(model,5)"
   ]
  },
  {
   "cell_type": "code",
   "execution_count": 46,
   "metadata": {},
   "outputs": [
    {
     "ename": "LoadError",
     "evalue": "\u001b[91mUndefVarError: model not defined\u001b[39m",
     "output_type": "error",
     "traceback": [
      "\u001b[91mUndefVarError: model not defined\u001b[39m",
      "",
      "Stacktrace:",
      " [1] \u001b[1minclude_string\u001b[22m\u001b[22m\u001b[1m(\u001b[22m\u001b[22m::String, ::String\u001b[1m)\u001b[22m\u001b[22m at \u001b[1m./loading.jl:515\u001b[22m\u001b[22m"
     ]
    }
   ],
   "source": [
    "ytree = apply_tree(model, Xtest); #apply model to test data"
   ]
  },
  {
   "cell_type": "code",
   "execution_count": 47,
   "metadata": {},
   "outputs": [
    {
     "ename": "LoadError",
     "evalue": "\u001b[91mUndefVarError: ytree not defined\u001b[39m",
     "output_type": "error",
     "traceback": [
      "\u001b[91mUndefVarError: ytree not defined\u001b[39m",
      "",
      "Stacktrace:",
      " [1] \u001b[1manonymous\u001b[22m\u001b[22m at \u001b[1m./<missing>:?\u001b[22m\u001b[22m",
      " [2] \u001b[1minclude_string\u001b[22m\u001b[22m\u001b[1m(\u001b[22m\u001b[22m::String, ::String\u001b[1m)\u001b[22m\u001b[22m at \u001b[1m./loading.jl:515\u001b[22m\u001b[22m"
     ]
    }
   ],
   "source": [
    "false_pos = 0\n",
    "false_neg = 0 \n",
    "sum = 0 \n",
    "for i=1:length(ytree)\n",
    "    if ytest[i] != ytree[i]\n",
    "        sum+=1\n",
    "        if (ytest[i] == 1 && ytree[i] == -1)\n",
    "            false_neg += 1\n",
    "        else\n",
    "            false_pos += 1\n",
    "        end\n",
    "    end\n",
    "end\n",
    "println(\"false positive: \", false_pos/length(ytree))\n",
    "println(\"false negative: \",false_neg/length(ytree))\n",
    "println(\"total error \", sum/length(ytree))"
   ]
  },
  {
   "cell_type": "code",
   "execution_count": 48,
   "metadata": {
    "scrolled": false
   },
   "outputs": [
    {
     "ename": "LoadError",
     "evalue": "\u001b[91mUndefVarError: ytrain not defined\u001b[39m",
     "output_type": "error",
     "traceback": [
      "\u001b[91mUndefVarError: ytrain not defined\u001b[39m",
      "",
      "Stacktrace:",
      " [1] \u001b[1minclude_string\u001b[22m\u001b[22m\u001b[1m(\u001b[22m\u001b[22m::String, ::String\u001b[1m)\u001b[22m\u001b[22m at \u001b[1m./loading.jl:515\u001b[22m\u001b[22m"
     ]
    }
   ],
   "source": [
    "accuracy = nfoldCV_forest(ytrain, Xtrain, 2, 100,3,0.5)"
   ]
  },
  {
   "cell_type": "code",
   "execution_count": 49,
   "metadata": {},
   "outputs": [
    {
     "ename": "LoadError",
     "evalue": "\u001b[91mUndefVarError: ytrain not defined\u001b[39m",
     "output_type": "error",
     "traceback": [
      "\u001b[91mUndefVarError: ytrain not defined\u001b[39m",
      "",
      "Stacktrace:",
      " [1] \u001b[1minclude_string\u001b[22m\u001b[22m\u001b[1m(\u001b[22m\u001b[22m::String, ::String\u001b[1m)\u001b[22m\u001b[22m at \u001b[1m./loading.jl:515\u001b[22m\u001b[22m"
     ]
    }
   ],
   "source": [
    "rf = build_forest(ytrain, Xtrain, 2, 100, 0.5, 50)"
   ]
  },
  {
   "cell_type": "code",
   "execution_count": 50,
   "metadata": {},
   "outputs": [
    {
     "ename": "LoadError",
     "evalue": "\u001b[91mUndefVarError: rf not defined\u001b[39m",
     "output_type": "error",
     "traceback": [
      "\u001b[91mUndefVarError: rf not defined\u001b[39m",
      "",
      "Stacktrace:",
      " [1] \u001b[1minclude_string\u001b[22m\u001b[22m\u001b[1m(\u001b[22m\u001b[22m::String, ::String\u001b[1m)\u001b[22m\u001b[22m at \u001b[1m./loading.jl:515\u001b[22m\u001b[22m"
     ]
    }
   ],
   "source": [
    "yforest = apply_forest(rf, Xtest);"
   ]
  },
  {
   "cell_type": "code",
   "execution_count": 51,
   "metadata": {},
   "outputs": [
    {
     "ename": "LoadError",
     "evalue": "\u001b[91mUndefVarError: yforest not defined\u001b[39m",
     "output_type": "error",
     "traceback": [
      "\u001b[91mUndefVarError: yforest not defined\u001b[39m",
      "",
      "Stacktrace:",
      " [1] \u001b[1manonymous\u001b[22m\u001b[22m at \u001b[1m./<missing>:?\u001b[22m\u001b[22m",
      " [2] \u001b[1minclude_string\u001b[22m\u001b[22m\u001b[1m(\u001b[22m\u001b[22m::String, ::String\u001b[1m)\u001b[22m\u001b[22m at \u001b[1m./loading.jl:515\u001b[22m\u001b[22m"
     ]
    }
   ],
   "source": [
    "false_pos = 0\n",
    "false_neg = 0 \n",
    "sum = 0 \n",
    "for i=1:length(yforest)\n",
    "    if ytest[i] != yforest[i]\n",
    "        sum+=1\n",
    "        if (ytest[i] == 1 && yforest[i] == -1)\n",
    "            false_neg += 1\n",
    "        else\n",
    "            false_pos += 1\n",
    "        end\n",
    "    end\n",
    "end\n",
    "println(\"false positive: \", false_pos/length(yforest))\n",
    "println(\"false negative: \",false_neg/length(yforest))\n",
    "println(\"total error \", sum/length(yforest))"
   ]
  }
 ],
 "metadata": {
  "kernelspec": {
   "display_name": "Julia 0.6.0",
   "language": "julia",
   "name": "julia-0.6"
  },
  "language_info": {
   "file_extension": ".jl",
   "mimetype": "application/julia",
   "name": "julia",
   "version": "0.6.0"
  }
 },
 "nbformat": 4,
 "nbformat_minor": 2
}
