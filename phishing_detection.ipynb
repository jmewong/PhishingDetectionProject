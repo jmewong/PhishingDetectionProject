{
 "cells": [
  {
   "cell_type": "code",
   "execution_count": 2,
   "metadata": {},
   "outputs": [
    {
     "name": "stderr",
     "output_type": "stream",
     "text": [
      "WARNING: Method definition (::Type{ArrayViews.UnsafeContiguousView{T, N} where N where T})(Ptr{T}, Int64, Tuple{Vararg{Int64, N}}) in module ArrayViews at /Users/Joshua/.julia/v0.6/ArrayViews/src/arrviews.jl:18 overwritten at /Users/Joshua/.julia/v0.6/ArrayViews/src/arrviews.jl:26.\n",
      "WARNING: Method definition isnan(DataArrays.NAtype) in module DataArrays at /Users/Joshua/.julia/v0.6/DataArrays/src/natype.jl:66 overwritten in module LowRankModels at /Users/Joshua/.julia/v0.6/LowRankModels/src/fit_dataframe.jl:249.\n"
     ]
    },
    {
     "data": {
      "text/plain": [
       "proxgrad_const (generic function with 1 method)"
      ]
     },
     "execution_count": 2,
     "metadata": {},
     "output_type": "execute_result"
    }
   ],
   "source": [
    "include(\"./proxgrad.jl\")"
   ]
  },
  {
   "cell_type": "code",
   "execution_count": 3,
   "metadata": {},
   "outputs": [
    {
     "data": {
      "text/plain": [
       "readArff (generic function with 2 methods)"
      ]
     },
     "execution_count": 3,
     "metadata": {},
     "output_type": "execute_result"
    }
   ],
   "source": [
    "using DataFrames\n",
    "using GZip\n",
    "\n",
    "##possible types in arff files are:\n",
    "#real, numeric,\n",
    "#date\n",
    "#string\n",
    "#nominal specifications, starting with {\n",
    "\n",
    "function convertType(attrType)\n",
    "  x = lowercase(attrType)\n",
    "  res = nothing\n",
    "    \n",
    "  if in(x, [\"real\" \"numeric\"])\n",
    "    res = \"numeric\"\n",
    "  elseif startswith(x, \"{\")\n",
    "    res = \"nominal\"\n",
    "  else #date and string\n",
    "    res = x\n",
    "  end\n",
    "  return(res)\n",
    "end\n",
    "\n",
    "function readArff(filename, gzip=false)\n",
    "  f = nothing\n",
    "  if gzip\n",
    "    f = GZip.gzopen(filename)\n",
    "  else\n",
    "    f = open(filename)\n",
    "  end\n",
    "  lines = eachline(f)\n",
    "    \n",
    "  header = true\n",
    "  colNames = nothing\n",
    "  attrTypes = nothing\n",
    "  myData = DataFrame()\n",
    "  attributes = DataFrame()\n",
    "  nAttr = 0\n",
    "  nData = 0\n",
    "\n",
    "  for l in lines\n",
    "    if header\n",
    "      mAttr = match(r\"^[[:space:]]*@(?i)attribute\", l)\n",
    "      if mAttr == nothing\n",
    "        mData = ismatch(r\"^[[:space:]]*@(?i)data\", l)\n",
    "        if mData\n",
    "          colNames = convert(Array, attributes[2,:])\n",
    "          attrTypes = map(convertType, convert(Array, attributes[3,:]))\n",
    "          header=false\n",
    "          break\n",
    "        end\n",
    "      else\n",
    "        nAttr += 1\n",
    "        attributes[:, nAttr] = split(l)[1:3]\n",
    "      end\n",
    "    end\n",
    "  end\n",
    "  myData = readtable(f, names = vec(map(Symbol, colNames)))\n",
    "  close(f)\n",
    "  return(myData, attrTypes)\n",
    "end"
   ]
  },
  {
   "cell_type": "code",
   "execution_count": 4,
   "metadata": {
    "collapsed": true
   },
   "outputs": [],
   "source": [
    "dataset1, attributeTypes1 = readArff(\"Mohammad14JulyDS_1.arff\");"
   ]
  },
  {
   "cell_type": "code",
   "execution_count": 5,
   "metadata": {
    "collapsed": true
   },
   "outputs": [],
   "source": [
    "dataset2, attributeTypes2 = readArff(\"Mohammad14JulyDS_2.arff\");"
   ]
  },
  {
   "cell_type": "code",
   "execution_count": 6,
   "metadata": {
    "collapsed": true,
    "scrolled": true
   },
   "outputs": [],
   "source": [
    "dataset = vcat(dataset1, dataset2);"
   ]
  },
  {
   "cell_type": "code",
   "execution_count": 7,
   "metadata": {
    "collapsed": true
   },
   "outputs": [],
   "source": [
    "dataset = dataset[shuffle(1:end),:];"
   ]
  },
  {
   "cell_type": "code",
   "execution_count": 8,
   "metadata": {},
   "outputs": [
    {
     "data": {
      "text/plain": [
       "32-element Array{Symbol,1}:\n",
       " :having_IP_Address          \n",
       " :URL_Length                 \n",
       " :Shortining_Service         \n",
       " :having_At_Symbol           \n",
       " :double_slash_redirecting   \n",
       " :Prefix_Suffix              \n",
       " :having_Sub_Domain          \n",
       " :SSLfinal_State             \n",
       " :Domain_registeration_length\n",
       " :Favicon                    \n",
       " :port                       \n",
       " :HTTPS_token                \n",
       " :Request_URL                \n",
       " ⋮                           \n",
       " :RightClick                 \n",
       " :popUpWidnow                \n",
       " :Iframe                     \n",
       " :age_of_domain              \n",
       " :DNSRecord                  \n",
       " :web_traffic                \n",
       " :Page_Rank                  \n",
       " :Google_Index               \n",
       " :Links_pointing_to_page     \n",
       " :Statistical_report         \n",
       " :Result                     \n",
       " :DNS                        "
      ]
     },
     "execution_count": 8,
     "metadata": {},
     "output_type": "execute_result"
    }
   ],
   "source": [
    "names(dataset)"
   ]
  },
  {
   "cell_type": "code",
   "execution_count": 9,
   "metadata": {
    "collapsed": true
   },
   "outputs": [],
   "source": [
    "# X = dataset[:, filter(x -> x != :Result, names(dataset))]\n",
    "# [X[isna.(X[nm]), nm] =  0  for nm in names(X)]\n",
    "# X = Array(X)\n",
    "\n",
    "X = dataset[:, filter(x -> x != :Result, names(dataset))]\n",
    "for nm in names(X)\n",
    "    count = zeros(3)\n",
    "    for entry in X[nm]\n",
    "        if !isna.(entry)\n",
    "            count[entry+2] += 1\n",
    "        end\n",
    "    end\n",
    "    X[isna.(X[nm]), nm] = maximum(count)-2\n",
    "    \n",
    "end\n",
    "X = Array(X)\n",
    "y = convert(Array, dataset[:Result]);"
   ]
  },
  {
   "cell_type": "code",
   "execution_count": 10,
   "metadata": {
    "collapsed": true
   },
   "outputs": [],
   "source": [
    "y = convert(Array,dataset[:Result]);"
   ]
  },
  {
   "cell_type": "code",
   "execution_count": 11,
   "metadata": {
    "collapsed": true
   },
   "outputs": [],
   "source": [
    "Xtrain = X[1:4000,:]\n",
    "Xtest = X[4001:end,:]\n",
    "ytrain = y[1:4000]\n",
    "ytest = y[4001:end];"
   ]
  },
  {
   "cell_type": "code",
   "execution_count": 12,
   "metadata": {
    "collapsed": true
   },
   "outputs": [],
   "source": [
    "using ScikitLearn: fit!, predict"
   ]
  },
  {
   "cell_type": "code",
   "execution_count": 13,
   "metadata": {},
   "outputs": [
    {
     "name": "stderr",
     "output_type": "stream",
     "text": [
      "\u001b[1m\u001b[36mINFO: \u001b[39m\u001b[22m\u001b[36mPackage DecisionTree is already installed\n",
      "\u001b[39m\u001b[1m\u001b[36mINFO: \u001b[39m\u001b[22m\u001b[36mMETADATA is out-of-date — you may not have the latest version of DecisionTree\n",
      "\u001b[39m\u001b[1m\u001b[36mINFO: \u001b[39m\u001b[22m\u001b[36mUse `Pkg.update()` to get the latest versions of your packages\n",
      "\u001b[39m"
     ]
    }
   ],
   "source": [
    "Pkg.add(\"DecisionTree\")\n",
    "\n",
    "using ScikitLearn\n",
    "using PyCall\n",
    "using PyPlot\n",
    "using ScikitLearn.CrossValidation: train_test_split\n",
    "using DecisionTree\n",
    "\n",
    "#using ScikitLearn.Models: DecisionTreeClassifier, RandomForestClassifier, AdaBoostStumpClassifier\n",
    "@pyimport matplotlib.colors as mplc\n",
    "@sk_import preprocessing: StandardScaler\n",
    "@sk_import neighbors: KNeighborsClassifier\n",
    "@sk_import svm: SVC\n",
    "@sk_import naive_bayes: GaussianNB\n",
    "@sk_import discriminant_analysis: (LinearDiscriminantAnalysis, QuadraticDiscriminantAnalysis)\n",
    "using ScikitLearn.Utils: meshgrid"
   ]
  },
  {
   "cell_type": "code",
   "execution_count": 14,
   "metadata": {},
   "outputs": [
    {
     "data": {
      "text/plain": [
       "PyObject <class 'sklearn.linear_model.logistic.LogisticRegression'>"
      ]
     },
     "execution_count": 14,
     "metadata": {},
     "output_type": "execute_result"
    }
   ],
   "source": [
    "@sk_import linear_model: LogisticRegression"
   ]
  },
  {
   "cell_type": "code",
   "execution_count": 15,
   "metadata": {},
   "outputs": [
    {
     "name": "stdout",
     "output_type": "stream",
     "text": [
      "Best parameters: Dict{Symbol,Any}(Pair{Symbol,Any}(:C, 0.3))\n"
     ]
    }
   ],
   "source": [
    "using ScikitLearn.GridSearch: GridSearchCV\n",
    "gridsearch = GridSearchCV(LogisticRegression(penalty = \"l1\"), Dict(:C => 0.1:0.1:2.0))\n",
    "fit!(gridsearch, Xtest, ytest)\n",
    "println(\"Best parameters: $(gridsearch.best_params_)\")"
   ]
  },
  {
   "cell_type": "code",
   "execution_count": 16,
   "metadata": {},
   "outputs": [
    {
     "name": "stdout",
     "output_type": "stream",
     "text": [
      "Best parameters: Dict{Symbol,Any}(Pair{Symbol,Any}(:C, 0.1))\n"
     ]
    }
   ],
   "source": [
    "using ScikitLearn.GridSearch: GridSearchCV\n",
    "gridsearch = GridSearchCV(LogisticRegression(penalty = \"l2\"), Dict(:C => 0.1:0.1:2.0))\n",
    "fit!(gridsearch, Xtest, ytest)\n",
    "println(\"Best parameters: $(gridsearch.best_params_)\")"
   ]
  },
  {
   "cell_type": "code",
   "execution_count": 19,
   "metadata": {},
   "outputs": [
    {
     "name": "stdout",
     "output_type": "stream",
     "text": [
      "log = LogisticRegression(C=0.5, penalty=\"l1\", fit_intercept=true, max_iter=100) = PyObject LogisticRegression(C=0.5, class_weight=None, dual=False, fit_intercept=True,\n",
      "          intercept_scaling=1, max_iter=100, multi_class='ovr', n_jobs=1,\n",
      "          penalty='l1', random_state=None, solver='liblinear', tol=0.0001,\n",
      "          verbose=0, warm_start=False)\n"
     ]
    },
    {
     "data": {
      "text/plain": [
       "0.9101423487544484"
      ]
     },
     "execution_count": 19,
     "metadata": {},
     "output_type": "execute_result"
    }
   ],
   "source": [
    "log = LogisticRegression(C = 0.5, penalty = \"l1\", fit_intercept=true, max_iter = 100)\n",
    "fit!(log, Xtrain, ytrain)\n",
    "#model0 = fit(model, X, y)\n",
    "ylog = predict(log,Xtest) #the output vector of predictions\n",
    "accuracy = count(ylog .== ytest)/length(ytest)\n",
    "#accuracy = sum(predict(log, Xtest) .== ytest) / length(ytest)\n",
    "#println(\"accuracy: $accuracy\")"
   ]
  },
  {
   "cell_type": "code",
   "execution_count": 18,
   "metadata": {},
   "outputs": [
    {
     "name": "stdout",
     "output_type": "stream",
     "text": [
      "0.03825622775800712\n",
      "0.051601423487544484\n"
     ]
    }
   ],
   "source": [
    "false_neg = 0 \n",
    "false_pos = 0 \n",
    "sum = 0 \n",
    "for i=1:length(ylog)\n",
    "    if ytest[i] != ylog[i]\n",
    "        sum+=1\n",
    "        if (ytest[i] == 1 && ylog[i] == -1)\n",
    "            false_neg += 1\n",
    "        else\n",
    "            false_pos += 1\n",
    "        end\n",
    "    end\n",
    "end\n",
    "println(false_neg/length(ylog))\n",
    "println(false_pos/length(ylog))"
   ]
  },
  {
   "cell_type": "code",
   "execution_count": 40,
   "metadata": {},
   "outputs": [
    {
     "data": {
      "text/plain": [
       "0.9412811387900356"
      ]
     },
     "execution_count": 40,
     "metadata": {},
     "output_type": "execute_result"
    }
   ],
   "source": [
    "log2 = LogisticRegression(C = 0.1, penalty = \"l2\", fit_intercept=true)\n",
    "fit!(log2, Xtrain, ytrain)\n",
    "#model0 = fit(model, X, y)\n",
    "ylog2 = predict(log2,Xtest) #the output vector of predictions\n",
    "accuracy = count(ylog .== ytest)/length(ytest)\n",
    "#accuracy = sum(predict(log, Xtest) .== ytest) / length(ytest)\n",
    "#println(\"accuracy: $accuracy\")\n"
   ]
  },
  {
   "cell_type": "code",
   "execution_count": 41,
   "metadata": {},
   "outputs": [
    {
     "data": {
      "text/plain": [
       "PyObject LogisticRegression(C=0.5, class_weight=None, dual=False, fit_intercept=True,\n",
       "          intercept_scaling=1, max_iter=100, multi_class='ovr', n_jobs=1,\n",
       "          penalty='l1', random_state=None, solver='liblinear', tol=0.0001,\n",
       "          verbose=0, warm_start=False)"
      ]
     },
     "execution_count": 41,
     "metadata": {},
     "output_type": "execute_result"
    }
   ],
   "source": [
    "log"
   ]
  },
  {
   "cell_type": "code",
   "execution_count": 42,
   "metadata": {},
   "outputs": [
    {
     "name": "stdout",
     "output_type": "stream",
     "text": [
      "0.02491103202846975\n",
      "0.037366548042704624\n"
     ]
    }
   ],
   "source": [
    "false_neg = 0 \n",
    "false_pos = 0 \n",
    "for i=1:length(ylog2)\n",
    "    if ytest[i] != ylog2[i]\n",
    "        sum+=1\n",
    "        if (ytest[i] == 1 && ylog2[i] == -1)\n",
    "            false_neg += 1\n",
    "        else\n",
    "            false_pos += 1\n",
    "        end\n",
    "    end\n",
    "end\n",
    "println(false_neg/length(ylog))\n",
    "println(false_pos/length(ylog))"
   ]
  },
  {
   "cell_type": "code",
   "execution_count": 43,
   "metadata": {},
   "outputs": [
    {
     "data": {
      "text/plain": [
       "1124×2 Array{Float64,2}:\n",
       " 0.937485    0.0625149  \n",
       " 0.998836    0.00116368 \n",
       " 0.997151    0.00284856 \n",
       " 0.0223906   0.977609   \n",
       " 0.993045    0.00695471 \n",
       " 0.998898    0.00110195 \n",
       " 0.0781827   0.921817   \n",
       " 0.816009    0.183991   \n",
       " 0.999884    0.000115723\n",
       " 0.959726    0.0402738  \n",
       " 0.00959297  0.990407   \n",
       " 0.997912    0.00208752 \n",
       " 0.0387174   0.961283   \n",
       " ⋮                      \n",
       " 0.018325    0.981675   \n",
       " 0.889183    0.110817   \n",
       " 0.347571    0.652429   \n",
       " 0.998123    0.00187702 \n",
       " 0.129984    0.870016   \n",
       " 0.947186    0.0528139  \n",
       " 0.944962    0.0550384  \n",
       " 0.98739     0.0126098  \n",
       " 0.506055    0.493945   \n",
       " 0.957258    0.0427418  \n",
       " 0.0242115   0.975788   \n",
       " 0.0810508   0.918949   "
      ]
     },
     "execution_count": 43,
     "metadata": {},
     "output_type": "execute_result"
    }
   ],
   "source": [
    "#the probabilities of either -1 (first column) or 1 (second column)\n",
    "p = predict_proba(log, Xtest)"
   ]
  },
  {
   "cell_type": "code",
   "execution_count": 44,
   "metadata": {},
   "outputs": [
    {
     "name": "stdout",
     "output_type": "stream",
     "text": [
      "  0.991755 seconds (207.28 k allocations: 30.794 MiB, 1.23% gc time)\n"
     ]
    },
    {
     "data": {
      "text/plain": [
       "10-element Array{Float64,1}:\n",
       " 0.94347 \n",
       " 0.933723\n",
       " 0.933723\n",
       " 0.929825\n",
       " 0.939571\n",
       " 0.922027\n",
       " 0.919922\n",
       " 0.939453\n",
       " 0.943249\n",
       " 0.939335"
      ]
     },
     "execution_count": 44,
     "metadata": {},
     "output_type": "execute_result"
    }
   ],
   "source": [
    "using ScikitLearn.CrossValidation: cross_val_score\n",
    "\n",
    "@time cv1 = cross_val_score(LogisticRegression(C=0.5, penalty = \"l1\"), X, y; cv = 10)"
   ]
  },
  {
   "cell_type": "code",
   "execution_count": 47,
   "metadata": {
    "scrolled": true
   },
   "outputs": [
    {
     "data": {
      "text/plain": [
       "Summary Stats:\n",
       "Mean:           0.934430\n",
       "Minimum:        0.919922\n",
       "1st Quartile:   0.930799\n",
       "Median:         0.936529\n",
       "3rd Quartile:   0.939542\n",
       "Maximum:        0.943470\n"
      ]
     },
     "execution_count": 47,
     "metadata": {},
     "output_type": "execute_result"
    }
   ],
   "source": [
    "using StatsBase, StatsFuns, StreamStats\n",
    "summarystats(cv1)"
   ]
  },
  {
   "cell_type": "code",
   "execution_count": 48,
   "metadata": {},
   "outputs": [
    {
     "name": "stdout",
     "output_type": "stream",
     "text": [
      "  0.289632 seconds (4.91 k allocations: 19.380 MiB, 5.04% gc time)\n"
     ]
    },
    {
     "data": {
      "text/plain": [
       "10-element Array{Float64,1}:\n",
       " 0.94347 \n",
       " 0.925926\n",
       " 0.937622\n",
       " 0.923977\n",
       " 0.94152 \n",
       " 0.920078\n",
       " 0.917969\n",
       " 0.941406\n",
       " 0.941292\n",
       " 0.933464"
      ]
     },
     "execution_count": 48,
     "metadata": {},
     "output_type": "execute_result"
    }
   ],
   "source": [
    "@time cv2 = cross_val_score(LogisticRegression(C=0.1, penalty = \"l2\"), X, y; cv=10)"
   ]
  },
  {
   "cell_type": "code",
   "execution_count": 49,
   "metadata": {},
   "outputs": [
    {
     "data": {
      "text/plain": [
       "Summary Stats:\n",
       "Mean:           0.932672\n",
       "Minimum:        0.917969\n",
       "1st Quartile:   0.924464\n",
       "Median:         0.935543\n",
       "3rd Quartile:   0.941378\n",
       "Maximum:        0.943470\n"
      ]
     },
     "execution_count": 49,
     "metadata": {},
     "output_type": "execute_result"
    }
   ],
   "source": [
    "summarystats(cv2)"
   ]
  },
  {
   "cell_type": "markdown",
   "metadata": {},
   "source": [
    "# proximal gradient method "
   ]
  },
  {
   "cell_type": "code",
   "execution_count": 50,
   "metadata": {
    "collapsed": true
   },
   "outputs": [],
   "source": [
    "using LowRankModels"
   ]
  },
  {
   "cell_type": "code",
   "execution_count": 51,
   "metadata": {},
   "outputs": [
    {
     "data": {
      "text/plain": [
       "grad (generic function with 20 methods)"
      ]
     },
     "execution_count": 51,
     "metadata": {},
     "output_type": "execute_result"
    }
   ],
   "source": [
    "import LowRankModels: evaluate, grad\n",
    "evaluate(loss::Loss, X::Array{Float64,2}, w, y) = evaluate(loss, X*w, y)\n",
    "grad(loss::Loss, X::Array{Float64,2}, w, y) = X'*grad(loss, X*w, y)"
   ]
  },
  {
   "cell_type": "code",
   "execution_count": 68,
   "metadata": {},
   "outputs": [
    {
     "data": {
      "text/plain": [
       "proxgrad (generic function with 2 methods)"
      ]
     },
     "execution_count": 68,
     "metadata": {},
     "output_type": "execute_result"
    }
   ],
   "source": [
    "# proximal gradient method\n",
    "function proxgrad(loss::Loss, reg::Regularizer, X, y;\n",
    "                  maxiters::Int = 10, stepsize::Number = 1., \n",
    "                  ch::ConvergenceHistory = ConvergenceHistory(\"proxgrad\"))\n",
    "    w = zeros(size(X,2))\n",
    "    for t=1:maxiters\n",
    "        t0 = time()\n",
    "        # gradient step\n",
    "        g = grad(loss, X, w, y)\n",
    "        w = w - stepsize*g\n",
    "        # prox step\n",
    "        w = prox(reg, w, stepsize)\n",
    "        # record objective value\n",
    "        update_ch!(ch, time() - t0, obj = evaluate(loss, X, w, y) + evaluate(reg, w))\n",
    "    end\n",
    "    return w\n",
    "end"
   ]
  },
  {
   "cell_type": "code",
   "execution_count": 53,
   "metadata": {},
   "outputs": [
    {
     "data": {
      "text/plain": [
       "LowRankModels.LogisticLoss(1.0, LowRankModels.BoolDomain())"
      ]
     },
     "execution_count": 53,
     "metadata": {},
     "output_type": "execute_result"
    }
   ],
   "source": [
    "reg = OneReg()\n",
    "loss = LogisticLoss()"
   ]
  },
  {
   "cell_type": "code",
   "execution_count": 56,
   "metadata": {
    "collapsed": true
   },
   "outputs": [],
   "source": [
    "y_i = convert(Array{Bool}, ytrain .== 1);"
   ]
  },
  {
   "cell_type": "code",
   "execution_count": 57,
   "metadata": {
    "collapsed": true
   },
   "outputs": [],
   "source": [
    "X_i = convert(Array{Float64,2},Xtrain);"
   ]
  },
  {
   "cell_type": "code",
   "execution_count": 58,
   "metadata": {},
   "outputs": [
    {
     "data": {
      "text/plain": [
       "2.054791804687632e-5"
      ]
     },
     "execution_count": 58,
     "metadata": {},
     "output_type": "execute_result"
    }
   ],
   "source": [
    "step = 1/norm(Xtrain)^2"
   ]
  },
  {
   "cell_type": "code",
   "execution_count": 64,
   "metadata": {},
   "outputs": [
    {
     "name": "stderr",
     "output_type": "stream",
     "text": [
      "\u001b[1m\u001b[33mWARNING: \u001b[39m\u001b[22m\u001b[33mmax{T1 <: Real}(x::AbstractArray{T1}, y::Real) is deprecated, use max.(x, y) instead.\u001b[39m\n",
      "Stacktrace:\n",
      " [1] \u001b[1mdepwarn\u001b[22m\u001b[22m\u001b[1m(\u001b[22m\u001b[22m::String, ::Symbol\u001b[1m)\u001b[22m\u001b[22m at \u001b[1m./deprecated.jl:70\u001b[22m\u001b[22m\n",
      " [2] \u001b[1mmax\u001b[22m\u001b[22m\u001b[1m(\u001b[22m\u001b[22m::Array{Float64,1}, ::Int64\u001b[1m)\u001b[22m\u001b[22m at \u001b[1m./deprecated.jl:57\u001b[22m\u001b[22m\n",
      " [3] \u001b[1m#proxgrad#51\u001b[22m\u001b[22m\u001b[1m(\u001b[22m\u001b[22m::Int64, ::Float64, ::LowRankModels.ConvergenceHistory, ::Function, ::LowRankModels.LogisticLoss, ::LowRankModels.OneReg, ::Array{Float64,2}, ::Array{Bool,1}\u001b[1m)\u001b[22m\u001b[22m at \u001b[1m./In[52]:12\u001b[22m\u001b[22m\n",
      " [4] \u001b[1m(::#kw##proxgrad)\u001b[22m\u001b[22m\u001b[1m(\u001b[22m\u001b[22m::Array{Any,1}, ::#proxgrad, ::LowRankModels.LogisticLoss, ::LowRankModels.OneReg, ::Array{Float64,2}, ::Array{Bool,1}\u001b[1m)\u001b[22m\u001b[22m at \u001b[1m./<missing>:0\u001b[22m\u001b[22m\n",
      " [5] \u001b[1minclude_string\u001b[22m\u001b[22m\u001b[1m(\u001b[22m\u001b[22m::String, ::String\u001b[1m)\u001b[22m\u001b[22m at \u001b[1m./loading.jl:515\u001b[22m\u001b[22m\n",
      " [6] \u001b[1minclude_string\u001b[22m\u001b[22m\u001b[1m(\u001b[22m\u001b[22m::Module, ::String, ::String\u001b[1m)\u001b[22m\u001b[22m at \u001b[1m/Users/Joshua/.julia/v0.6/Compat/src/Compat.jl:478\u001b[22m\u001b[22m\n",
      " [7] \u001b[1mexecute_request\u001b[22m\u001b[22m\u001b[1m(\u001b[22m\u001b[22m::ZMQ.Socket, ::IJulia.Msg\u001b[1m)\u001b[22m\u001b[22m at \u001b[1m/Users/Joshua/.julia/v0.6/IJulia/src/execute_request.jl:154\u001b[22m\u001b[22m\n",
      " [8] \u001b[1meventloop\u001b[22m\u001b[22m\u001b[1m(\u001b[22m\u001b[22m::ZMQ.Socket\u001b[1m)\u001b[22m\u001b[22m at \u001b[1m/Users/Joshua/.julia/v0.6/IJulia/src/eventloop.jl:8\u001b[22m\u001b[22m\n",
      " [9] \u001b[1m(::IJulia.##14#17)\u001b[22m\u001b[22m\u001b[1m(\u001b[22m\u001b[22m\u001b[1m)\u001b[22m\u001b[22m at \u001b[1m./task.jl:335\u001b[22m\u001b[22m\n",
      "while loading In[64], in expression starting on line 5\n",
      "\u001b[1m\u001b[33mWARNING: \u001b[39m\u001b[22m\u001b[33msumabs(x) is deprecated, use sum(abs, x) instead.\u001b[39m\n",
      "Stacktrace:\n",
      " [1] \u001b[1mdepwarn\u001b[22m\u001b[22m\u001b[1m(\u001b[22m\u001b[22m::String, ::Symbol\u001b[1m)\u001b[22m\u001b[22m at \u001b[1m./deprecated.jl:70\u001b[22m\u001b[22m\n",
      " [2] \u001b[1msumabs\u001b[22m\u001b[22m\u001b[1m(\u001b[22m\u001b[22m::Array{Float64,1}\u001b[1m)\u001b[22m\u001b[22m at \u001b[1m./deprecated.jl:57\u001b[22m\u001b[22m\n",
      " [3] \u001b[1mevaluate\u001b[22m\u001b[22m at \u001b[1m/Users/Joshua/.julia/v0.6/LowRankModels/src/regularizers.jl:87\u001b[22m\u001b[22m [inlined]\n",
      " [4] \u001b[1m#proxgrad#51\u001b[22m\u001b[22m\u001b[1m(\u001b[22m\u001b[22m::Int64, ::Float64, ::LowRankModels.ConvergenceHistory, ::Function, ::LowRankModels.LogisticLoss, ::LowRankModels.OneReg, ::Array{Float64,2}, ::Array{Bool,1}\u001b[1m)\u001b[22m\u001b[22m at \u001b[1m./In[52]:14\u001b[22m\u001b[22m\n",
      " [5] \u001b[1m(::#kw##proxgrad)\u001b[22m\u001b[22m\u001b[1m(\u001b[22m\u001b[22m::Array{Any,1}, ::#proxgrad, ::LowRankModels.LogisticLoss, ::LowRankModels.OneReg, ::Array{Float64,2}, ::Array{Bool,1}\u001b[1m)\u001b[22m\u001b[22m at \u001b[1m./<missing>:0\u001b[22m\u001b[22m\n",
      " [6] \u001b[1minclude_string\u001b[22m\u001b[22m\u001b[1m(\u001b[22m\u001b[22m::String, ::String\u001b[1m)\u001b[22m\u001b[22m at \u001b[1m./loading.jl:515\u001b[22m\u001b[22m\n",
      " [7] \u001b[1minclude_string\u001b[22m\u001b[22m\u001b[1m(\u001b[22m\u001b[22m::Module, ::String, ::String\u001b[1m)\u001b[22m\u001b[22m at \u001b[1m/Users/Joshua/.julia/v0.6/Compat/src/Compat.jl:478\u001b[22m\u001b[22m\n",
      " [8] \u001b[1mexecute_request\u001b[22m\u001b[22m\u001b[1m(\u001b[22m\u001b[22m::ZMQ.Socket, ::IJulia.Msg\u001b[1m)\u001b[22m\u001b[22m at \u001b[1m/Users/Joshua/.julia/v0.6/IJulia/src/execute_request.jl:154\u001b[22m\u001b[22m\n",
      " [9] \u001b[1meventloop\u001b[22m\u001b[22m\u001b[1m(\u001b[22m\u001b[22m::ZMQ.Socket\u001b[1m)\u001b[22m\u001b[22m at \u001b[1m/Users/Joshua/.julia/v0.6/IJulia/src/eventloop.jl:8\u001b[22m\u001b[22m\n",
      " [10] \u001b[1m(::IJulia.##14#17)\u001b[22m\u001b[22m\u001b[1m(\u001b[22m\u001b[22m\u001b[1m)\u001b[22m\u001b[22m at \u001b[1m./task.jl:335\u001b[22m\u001b[22m\n",
      "while loading In[64], in expression starting on line 5\n"
     ]
    },
    {
     "name": "stdout",
     "output_type": "stream",
     "text": [
      "[-0.063639, 0.00593467, 0.0526942, -0.533221, -0.15178, 0.983294, 0.673297, 1.51053, -0.159647, 0.143622, -0.153624, -0.114667, -0.238229, 1.38269, 0.288512, -0.0775394, 0.117984, -0.266371, -0.455705, -0.466099, -0.542566, 0.268842, -0.101115, 0.258636, 0.1974, 0.39472, 0.252875, -0.156347, -0.353557, 0.0, 0.330545]\n",
      "1.5105263093722325\n"
     ]
    }
   ],
   "source": [
    "using Plots\n",
    "\n",
    "ch = ConvergenceHistory(\"OneReg\")\n",
    "w = proxgrad(loss, reg, X_i, y_i; \n",
    "             stepsize=step, maxiters=1000,\n",
    "             ch = ch)\n",
    "\n",
    "Plots.plot(ch.objective)\n",
    "println(w)\n",
    "println(maximum(abs.(w)))"
   ]
  },
  {
   "cell_type": "code",
   "execution_count": 66,
   "metadata": {},
   "outputs": [
    {
     "data": {
      "text/html": [
       "<img src=\"data:image/png;base64,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\" />"
      ]
     },
     "execution_count": 66,
     "metadata": {},
     "output_type": "execute_result"
    }
   ],
   "source": [
    "Plots.plot(ch.objective)\n",
    "xlabel!(\"iteration\")\n",
    "ylabel!(\"objective\")"
   ]
  },
  {
   "cell_type": "code",
   "execution_count": 69,
   "metadata": {},
   "outputs": [
    {
     "name": "stdout",
     "output_type": "stream",
     "text": [
      "0.9395017793594306\n"
     ]
    }
   ],
   "source": [
    "y_i2 = Xtest*w\n",
    "\n",
    "ynew = []\n",
    "for i in y_i2\n",
    "    if i > 0\n",
    "        append!(ynew,1)\n",
    "    else\n",
    "        append!(ynew,-1)\n",
    "    end\n",
    "end\n",
    "\n",
    "sum = 0 \n",
    "for i=1:length(ynew)\n",
    "    if ynew[i] == ytest[i]\n",
    "        sum+=1\n",
    "    end\n",
    "end\n",
    "println(sum/length(ynew))"
   ]
  },
  {
   "cell_type": "code",
   "execution_count": 75,
   "metadata": {
    "collapsed": true
   },
   "outputs": [],
   "source": [
    "h = .02  # step size in the mesh\n",
    "\n",
    "names = [\"Nearest Neighbors\", \"Linear SVM\", \"RBF SVM\", \"Decision Tree (Julia)\",\n",
    "         \"Random Forest (Julia)\", \"AdaBoost (Julia)\", \"Naive Bayes\", \"Linear Discriminant Analysis\",\n",
    "         \"Quadratic Discriminant Analysis\"]\n",
    "classifiers = [\n",
    "    KNeighborsClassifier(3),\n",
    "    SVC(kernel=\"linear\", C=0.025),\n",
    "    SVC(gamma=5, C=4),\n",
    "    DecisionTreeClassifier(pruning_purity_threshold=0.8),\n",
    "    RandomForestClassifier(ntrees=30),\n",
    "    # Note: scikit-learn's adaboostclassifier is better than DecisionTree.jl in this instance\n",
    "    # because it's not restricted to stumps, and the data isn't axis-aligned\n",
    "    AdaBoostStumpClassifier(niterations=30),\n",
    "    GaussianNB(),\n",
    "    LinearDiscriminantAnalysis(),\n",
    "    QuadraticDiscriminantAnalysis(), \n",
    "];"
   ]
  },
  {
   "cell_type": "code",
   "execution_count": 77,
   "metadata": {},
   "outputs": [
    {
     "data": {
      "text/plain": [
       "10-element Array{Float64,1}:\n",
       " 0.94347 \n",
       " 0.945419\n",
       " 0.949318\n",
       " 0.933723\n",
       " 0.935673\n",
       " 0.945419\n",
       " 0.949219\n",
       " 0.949219\n",
       " 0.968689\n",
       " 0.939335"
      ]
     },
     "execution_count": 77,
     "metadata": {},
     "output_type": "execute_result"
    }
   ],
   "source": [
    "cvt = cross_val_score(DecisionTreeClassifier(pruning_purity_threshold=0.8), X, y; cv=10)"
   ]
  },
  {
   "cell_type": "code",
   "execution_count": 78,
   "metadata": {},
   "outputs": [
    {
     "data": {
      "text/plain": [
       "Summary Stats:\n",
       "Mean:           0.945948\n",
       "Minimum:        0.933723\n",
       "1st Quartile:   0.940368\n",
       "Median:         0.945419\n",
       "3rd Quartile:   0.949219\n",
       "Maximum:        0.968689\n"
      ]
     },
     "execution_count": 78,
     "metadata": {},
     "output_type": "execute_result"
    }
   ],
   "source": [
    "summarystats(cvt)"
   ]
  },
  {
   "cell_type": "code",
   "execution_count": 79,
   "metadata": {},
   "outputs": [
    {
     "data": {
      "text/plain": [
       "10-element Array{Float64,1}:\n",
       " 0.957115\n",
       " 0.951267\n",
       " 0.951267\n",
       " 0.94152 \n",
       " 0.939571\n",
       " 0.947368\n",
       " 0.960938\n",
       " 0.966797\n",
       " 0.95499 \n",
       " 0.953033"
      ]
     },
     "execution_count": 79,
     "metadata": {},
     "output_type": "execute_result"
    }
   ],
   "source": [
    "cvt = cross_val_score(RandomForestClassifier(ntrees=30),X,y; cv = 10)"
   ]
  },
  {
   "cell_type": "code",
   "execution_count": 80,
   "metadata": {},
   "outputs": [
    {
     "data": {
      "text/plain": [
       "Summary Stats:\n",
       "Mean:           0.952387\n",
       "Minimum:        0.939571\n",
       "1st Quartile:   0.948343\n",
       "Median:         0.952150\n",
       "3rd Quartile:   0.956584\n",
       "Maximum:        0.966797\n"
      ]
     },
     "execution_count": 80,
     "metadata": {},
     "output_type": "execute_result"
    }
   ],
   "source": [
    "summarystats(cvt)"
   ]
  },
  {
   "cell_type": "code",
   "execution_count": 82,
   "metadata": {
    "scrolled": true
   },
   "outputs": [
    {
     "name": "stdout",
     "output_type": "stream",
     "text": [
      "0.951067615658363\n",
      "0.9386120996441281\n",
      "0.7615658362989324\n",
      "0.9501779359430605\n",
      "0.9617437722419929\n",
      "0.9252669039145908\n",
      "0.9279359430604982\n",
      "0.9297153024911032\n",
      "0.9261565836298933\n"
     ]
    }
   ],
   "source": [
    "for (name, clf) in zip(names, classifiers)\n",
    "    fit!(clf, Xtrain, ytrain)\n",
    "    scor = score(clf, Xtest, ytest)\n",
    "    println(scor)\n",
    "end"
   ]
  },
  {
   "cell_type": "code",
   "execution_count": 83,
   "metadata": {},
   "outputs": [
    {
     "data": {
      "text/plain": [
       "Decision Tree\n",
       "Leaves: 300\n",
       "Depth:  26"
      ]
     },
     "execution_count": 83,
     "metadata": {},
     "output_type": "execute_result"
    }
   ],
   "source": [
    "model = build_tree(ytrain, Xtrain)"
   ]
  },
  {
   "cell_type": "code",
   "execution_count": 84,
   "metadata": {},
   "outputs": [
    {
     "data": {
      "text/plain": [
       "Decision Tree\n",
       "Leaves: 248\n",
       "Depth:  21"
      ]
     },
     "execution_count": 84,
     "metadata": {},
     "output_type": "execute_result"
    }
   ],
   "source": [
    "model = prune_tree(model, 0.8)"
   ]
  },
  {
   "cell_type": "code",
   "execution_count": 85,
   "metadata": {},
   "outputs": [
    {
     "name": "stdout",
     "output_type": "stream",
     "text": [
      "Feature 8, Threshold 0\n",
      "L-> Feature 14, Threshold 1\n",
      "    L-> Feature 6, Threshold 1\n",
      "        L-> -1 : 974/974\n",
      "        R-> Feature 17, Threshold 1\n",
      "            L-> Feature 10, Threshold 1\n",
      "                L-> -1 : 63/63\n",
      "                R-> \n",
      "            R-> Feature 27, Threshold 1\n",
      "                L-> \n",
      "                R-> -1 : 313/313\n",
      "    R-> Feature 31, Threshold 1\n",
      "        L-> Feature 24, Threshold 1\n",
      "            L-> -1 : 84/86\n",
      "            R-> Feature 6, Threshold 1\n",
      "                L-> \n",
      "                R-> \n",
      "        R-> Feature 26, Threshold 1\n",
      "            L-> Feature 7, Threshold 0\n",
      "                L-> -1 : 50/50\n",
      "                R-> \n",
      "            R-> Feature 6, Threshold 1\n",
      "                L-> \n",
      "                R-> \n",
      "R-> Feature 14, Threshold 0\n",
      "    L-> Feature 6, Threshold 1\n",
      "        L-> Feature 2, Threshold 1\n",
      "            L-> Feature 31, Threshold 1\n",
      "                L-> \n",
      "                R-> -1 : 26/26\n",
      "            R-> -1 : 39/39\n",
      "        R-> Feature 26, Threshold 0\n",
      "            L-> Feature 7, Threshold 0\n",
      "                L-> -1 : 36/36\n",
      "                R-> \n",
      "            R-> Feature 25, Threshold 1\n",
      "                L-> \n",
      "                R-> \n",
      "    R-> Feature 27, Threshold 1\n",
      "        L-> Feature 24, Threshold 1\n",
      "            L-> Feature 29, Threshold 0\n",
      "                L-> -1 : 3/3\n",
      "                R-> \n",
      "            R-> Feature 26, Threshold 1\n",
      "                L-> \n",
      "                R-> \n",
      "        R-> Feature 7, Threshold 0\n",
      "            L-> Feature 6, Threshold 1\n",
      "                L-> -1 : 17/21\n",
      "                R-> \n",
      "            R-> Feature 8, Threshold 1\n",
      "                L-> \n",
      "                R-> \n"
     ]
    }
   ],
   "source": [
    "print_tree(model,5)"
   ]
  },
  {
   "cell_type": "code",
   "execution_count": 86,
   "metadata": {
    "collapsed": true
   },
   "outputs": [],
   "source": [
    "ytree = apply_tree(model, Xtest); #apply model to test data"
   ]
  },
  {
   "cell_type": "code",
   "execution_count": 87,
   "metadata": {},
   "outputs": [
    {
     "name": "stdout",
     "output_type": "stream",
     "text": [
      "false positive: 0.02402135231316726\n",
      "false negative: 0.025800711743772242\n",
      "total error 0.0498220640569395\n"
     ]
    }
   ],
   "source": [
    "false_pos = 0\n",
    "false_neg = 0 \n",
    "sum = 0 \n",
    "for i=1:length(ytree)\n",
    "    if ytest[i] != ytree[i]\n",
    "        sum+=1\n",
    "        if (ytest[i] == 1 && ytree[i] == -1)\n",
    "            false_neg += 1\n",
    "        else\n",
    "            false_pos += 1\n",
    "        end\n",
    "    end\n",
    "end\n",
    "println(\"false positive: \", false_pos/length(ytree))\n",
    "println(\"false negative: \",false_neg/length(ytree))\n",
    "println(\"total error \", sum/length(ytree))"
   ]
  },
  {
   "cell_type": "code",
   "execution_count": 88,
   "metadata": {
    "scrolled": false
   },
   "outputs": [
    {
     "name": "stdout",
     "output_type": "stream",
     "text": [
      "\n",
      "Fold 1\n",
      "Classes:  "
     ]
    },
    {
     "data": {
      "text/plain": [
       "2×2 Array{Int64,2}:\n",
       " 700   40\n",
       "  28  565"
      ]
     },
     "metadata": {},
     "output_type": "display_data"
    },
    {
     "name": "stdout",
     "output_type": "stream",
     "text": [
      "[-1, 1]\n",
      "Matrix:   \n",
      "Accuracy: 0.9489872468117029\n",
      "Kappa:    0.8969256450959967\n"
     ]
    },
    {
     "data": {
      "text/plain": [
       "2×2 Array{Int64,2}:\n",
       " 682   46\n",
       "  31  574"
      ]
     },
     "metadata": {},
     "output_type": "display_data"
    },
    {
     "name": "stdout",
     "output_type": "stream",
     "text": [
      "\n",
      "Fold 2\n",
      "Classes:  [-1, 1]\n",
      "Matrix:   \n",
      "Accuracy: 0.9422355588897224\n",
      "Kappa:    0.8837225636523266\n"
     ]
    },
    {
     "data": {
      "text/plain": [
       "2×2 Array{Int64,2}:\n",
       " 692   42\n",
       "  35  564"
      ]
     },
     "metadata": {},
     "output_type": "display_data"
    },
    {
     "name": "stdout",
     "output_type": "stream",
     "text": [
      "\n",
      "Fold 3\n",
      "Classes:  [-1, 1]\n",
      "Matrix:   \n",
      "Accuracy: 0.9422355588897224\n",
      "Kappa:    0.8833992027509523\n",
      "\n",
      "Mean Accuracy: 0.9444861215303826\n"
     ]
    },
    {
     "data": {
      "text/plain": [
       "3-element Array{Float64,1}:\n",
       " 0.948987\n",
       " 0.942236\n",
       " 0.942236"
      ]
     },
     "execution_count": 88,
     "metadata": {},
     "output_type": "execute_result"
    }
   ],
   "source": [
    "accuracy = nfoldCV_forest(ytrain, Xtrain, 2, 100,3,0.5)"
   ]
  },
  {
   "cell_type": "code",
   "execution_count": 89,
   "metadata": {},
   "outputs": [
    {
     "data": {
      "text/plain": [
       "Ensemble of Decision Trees\n",
       "Trees:      100\n",
       "Avg Leaves: 149.61\n",
       "Avg Depth:  15.97"
      ]
     },
     "execution_count": 89,
     "metadata": {},
     "output_type": "execute_result"
    }
   ],
   "source": [
    "rf = build_forest(ytrain, Xtrain, 2, 100, 0.5, 50)"
   ]
  },
  {
   "cell_type": "code",
   "execution_count": 91,
   "metadata": {
    "collapsed": true
   },
   "outputs": [],
   "source": [
    "yforest = apply_forest(rf, Xtest);"
   ]
  },
  {
   "cell_type": "code",
   "execution_count": 92,
   "metadata": {},
   "outputs": [
    {
     "name": "stdout",
     "output_type": "stream",
     "text": [
      "false positive: 0.02402135231316726\n",
      "false negative: 0.023131672597864767\n",
      "total error 0.04715302491103203\n"
     ]
    }
   ],
   "source": [
    "false_pos = 0\n",
    "false_neg = 0 \n",
    "sum = 0 \n",
    "for i=1:length(yforest)\n",
    "    if ytest[i] != yforest[i]\n",
    "        sum+=1\n",
    "        if (ytest[i] == 1 && yforest[i] == -1)\n",
    "            false_neg += 1\n",
    "        else\n",
    "            false_pos += 1\n",
    "        end\n",
    "    end\n",
    "end\n",
    "println(\"false positive: \", false_pos/length(yforest))\n",
    "println(\"false negative: \",false_neg/length(yforest))\n",
    "println(\"total error \", sum/length(yforest))"
   ]
  }
 ],
 "metadata": {
  "kernelspec": {
   "display_name": "Julia 0.6.0",
   "language": "julia",
   "name": "julia-0.6"
  },
  "language_info": {
   "file_extension": ".jl",
   "mimetype": "application/julia",
   "name": "julia",
   "version": "0.6.0"
  }
 },
 "nbformat": 4,
 "nbformat_minor": 2
}
